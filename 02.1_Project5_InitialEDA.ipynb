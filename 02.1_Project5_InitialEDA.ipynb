{
 "cells": [
  {
   "cell_type": "code",
   "execution_count": 1,
   "metadata": {},
   "outputs": [],
   "source": [
    "import numpy as np\n",
    "import pandas as pd"
   ]
  },
  {
   "cell_type": "code",
   "execution_count": 2,
   "metadata": {},
   "outputs": [],
   "source": [
    "# Read in USAID data pickle\n",
    "df = pd.read_pickle('./usaid_data.pkl')"
   ]
  },
  {
   "cell_type": "code",
   "execution_count": 3,
   "metadata": {
    "scrolled": true
   },
   "outputs": [
    {
     "data": {
      "text/html": [
       "<div>\n",
       "<style scoped>\n",
       "    .dataframe tbody tr th:only-of-type {\n",
       "        vertical-align: middle;\n",
       "    }\n",
       "\n",
       "    .dataframe tbody tr th {\n",
       "        vertical-align: top;\n",
       "    }\n",
       "\n",
       "    .dataframe thead th {\n",
       "        text-align: right;\n",
       "    }\n",
       "</style>\n",
       "<table border=\"1\" class=\"dataframe\">\n",
       "  <thead>\n",
       "    <tr style=\"text-align: right;\">\n",
       "      <th></th>\n",
       "      <th>country_name</th>\n",
       "      <th>region_name</th>\n",
       "      <th>income_group_name</th>\n",
       "      <th>implementing_agency_name</th>\n",
       "      <th>channel_category_name</th>\n",
       "      <th>channel_name</th>\n",
       "      <th>dac_category_name</th>\n",
       "      <th>dac_sector_name</th>\n",
       "      <th>dac_purpose_name</th>\n",
       "      <th>funding_account_name</th>\n",
       "      <th>funding_agency_name</th>\n",
       "      <th>assistance_category_name</th>\n",
       "      <th>activity_name</th>\n",
       "      <th>transaction_type_name</th>\n",
       "      <th>fiscal_year</th>\n",
       "      <th>current_amount</th>\n",
       "      <th>constant_amount</th>\n",
       "      <th>USG_sector_name</th>\n",
       "    </tr>\n",
       "  </thead>\n",
       "  <tbody>\n",
       "    <tr>\n",
       "      <th>0</th>\n",
       "      <td>Afghanistan</td>\n",
       "      <td>South and Central Asia</td>\n",
       "      <td>Low Income Country</td>\n",
       "      <td>Department of Defense</td>\n",
       "      <td>Government</td>\n",
       "      <td>U.S. Government - Department of Defense</td>\n",
       "      <td>Governance</td>\n",
       "      <td>Conflict, Peace, and Security</td>\n",
       "      <td>Security system management and reform</td>\n",
       "      <td>Department of the Army, Afghanistan Security F...</td>\n",
       "      <td>Department of the Army</td>\n",
       "      <td>Military</td>\n",
       "      <td>Afghanistan Security Force Fund</td>\n",
       "      <td>Obligations</td>\n",
       "      <td>2011</td>\n",
       "      <td>9941000000</td>\n",
       "      <td>10914528417</td>\n",
       "      <td>Stabilization Operations and Security Sector R...</td>\n",
       "    </tr>\n",
       "    <tr>\n",
       "      <th>1</th>\n",
       "      <td>Afghanistan</td>\n",
       "      <td>South and Central Asia</td>\n",
       "      <td>Low Income Country</td>\n",
       "      <td>Department of Defense</td>\n",
       "      <td>Government</td>\n",
       "      <td>U.S. Government - Department of Defense</td>\n",
       "      <td>Governance</td>\n",
       "      <td>Conflict, Peace, and Security</td>\n",
       "      <td>Security system management and reform</td>\n",
       "      <td>Department of the Army, Afghanistan Security F...</td>\n",
       "      <td>Department of the Army</td>\n",
       "      <td>Military</td>\n",
       "      <td>Afghanistan Security Force Fund</td>\n",
       "      <td>Obligations</td>\n",
       "      <td>2012</td>\n",
       "      <td>9243000000</td>\n",
       "      <td>9966142830</td>\n",
       "      <td>Stabilization Operations and Security Sector R...</td>\n",
       "    </tr>\n",
       "    <tr>\n",
       "      <th>2</th>\n",
       "      <td>Afghanistan</td>\n",
       "      <td>South and Central Asia</td>\n",
       "      <td>Low Income Country</td>\n",
       "      <td>Department of Defense</td>\n",
       "      <td>Government</td>\n",
       "      <td>U.S. Government - Department of Defense</td>\n",
       "      <td>Governance</td>\n",
       "      <td>Conflict, Peace, and Security</td>\n",
       "      <td>Security system management and reform</td>\n",
       "      <td>Department of the Army, Afghanistan Security F...</td>\n",
       "      <td>Department of the Army</td>\n",
       "      <td>Military</td>\n",
       "      <td>Afghanistan Security Force Fund</td>\n",
       "      <td>Disbursements</td>\n",
       "      <td>2011</td>\n",
       "      <td>7840175215</td>\n",
       "      <td>8607968532</td>\n",
       "      <td>Stabilization Operations and Security Sector R...</td>\n",
       "    </tr>\n",
       "    <tr>\n",
       "      <th>3</th>\n",
       "      <td>Afghanistan</td>\n",
       "      <td>South and Central Asia</td>\n",
       "      <td>Low Income Country</td>\n",
       "      <td>Department of Defense</td>\n",
       "      <td>Government</td>\n",
       "      <td>U.S. Government - Department of Defense</td>\n",
       "      <td>Governance</td>\n",
       "      <td>Conflict, Peace, and Security</td>\n",
       "      <td>Security system management and reform</td>\n",
       "      <td>Department of the Army, Afghanistan Security F...</td>\n",
       "      <td>Department of the Army</td>\n",
       "      <td>Military</td>\n",
       "      <td>Afghanistan Security Force Fund</td>\n",
       "      <td>Disbursements</td>\n",
       "      <td>2013</td>\n",
       "      <td>7764310985</td>\n",
       "      <td>8232733951</td>\n",
       "      <td>Stabilization Operations and Security Sector R...</td>\n",
       "    </tr>\n",
       "    <tr>\n",
       "      <th>4</th>\n",
       "      <td>Afghanistan</td>\n",
       "      <td>South and Central Asia</td>\n",
       "      <td>Low Income Country</td>\n",
       "      <td>Department of Defense</td>\n",
       "      <td>Government</td>\n",
       "      <td>U.S. Government - Department of Defense</td>\n",
       "      <td>Governance</td>\n",
       "      <td>Conflict, Peace, and Security</td>\n",
       "      <td>Security system management and reform</td>\n",
       "      <td>Department of the Army, Afghanistan Security F...</td>\n",
       "      <td>Department of the Army</td>\n",
       "      <td>Military</td>\n",
       "      <td>Afghanistan Security Force Fund</td>\n",
       "      <td>Obligations</td>\n",
       "      <td>2013</td>\n",
       "      <td>6928000000</td>\n",
       "      <td>7345968099</td>\n",
       "      <td>Stabilization Operations and Security Sector R...</td>\n",
       "    </tr>\n",
       "  </tbody>\n",
       "</table>\n",
       "</div>"
      ],
      "text/plain": [
       "  country_name             region_name   income_group_name  \\\n",
       "0  Afghanistan  South and Central Asia  Low Income Country   \n",
       "1  Afghanistan  South and Central Asia  Low Income Country   \n",
       "2  Afghanistan  South and Central Asia  Low Income Country   \n",
       "3  Afghanistan  South and Central Asia  Low Income Country   \n",
       "4  Afghanistan  South and Central Asia  Low Income Country   \n",
       "\n",
       "  implementing_agency_name channel_category_name  \\\n",
       "0    Department of Defense            Government   \n",
       "1    Department of Defense            Government   \n",
       "2    Department of Defense            Government   \n",
       "3    Department of Defense            Government   \n",
       "4    Department of Defense            Government   \n",
       "\n",
       "                              channel_name dac_category_name  \\\n",
       "0  U.S. Government - Department of Defense        Governance   \n",
       "1  U.S. Government - Department of Defense        Governance   \n",
       "2  U.S. Government - Department of Defense        Governance   \n",
       "3  U.S. Government - Department of Defense        Governance   \n",
       "4  U.S. Government - Department of Defense        Governance   \n",
       "\n",
       "                 dac_sector_name                       dac_purpose_name  \\\n",
       "0  Conflict, Peace, and Security  Security system management and reform   \n",
       "1  Conflict, Peace, and Security  Security system management and reform   \n",
       "2  Conflict, Peace, and Security  Security system management and reform   \n",
       "3  Conflict, Peace, and Security  Security system management and reform   \n",
       "4  Conflict, Peace, and Security  Security system management and reform   \n",
       "\n",
       "                                funding_account_name     funding_agency_name  \\\n",
       "0  Department of the Army, Afghanistan Security F...  Department of the Army   \n",
       "1  Department of the Army, Afghanistan Security F...  Department of the Army   \n",
       "2  Department of the Army, Afghanistan Security F...  Department of the Army   \n",
       "3  Department of the Army, Afghanistan Security F...  Department of the Army   \n",
       "4  Department of the Army, Afghanistan Security F...  Department of the Army   \n",
       "\n",
       "  assistance_category_name                    activity_name  \\\n",
       "0                 Military  Afghanistan Security Force Fund   \n",
       "1                 Military  Afghanistan Security Force Fund   \n",
       "2                 Military  Afghanistan Security Force Fund   \n",
       "3                 Military  Afghanistan Security Force Fund   \n",
       "4                 Military  Afghanistan Security Force Fund   \n",
       "\n",
       "  transaction_type_name  fiscal_year  current_amount  constant_amount  \\\n",
       "0           Obligations         2011      9941000000      10914528417   \n",
       "1           Obligations         2012      9243000000       9966142830   \n",
       "2         Disbursements         2011      7840175215       8607968532   \n",
       "3         Disbursements         2013      7764310985       8232733951   \n",
       "4           Obligations         2013      6928000000       7345968099   \n",
       "\n",
       "                                     USG_sector_name  \n",
       "0  Stabilization Operations and Security Sector R...  \n",
       "1  Stabilization Operations and Security Sector R...  \n",
       "2  Stabilization Operations and Security Sector R...  \n",
       "3  Stabilization Operations and Security Sector R...  \n",
       "4  Stabilization Operations and Security Sector R...  "
      ]
     },
     "execution_count": 3,
     "metadata": {},
     "output_type": "execute_result"
    }
   ],
   "source": [
    "df.head()"
   ]
  },
  {
   "cell_type": "code",
   "execution_count": 4,
   "metadata": {},
   "outputs": [
    {
     "name": "stdout",
     "output_type": "stream",
     "text": [
      "<class 'pandas.core.frame.DataFrame'>\n",
      "Int64Index: 722079 entries, 0 to 986232\n",
      "Data columns (total 18 columns):\n",
      "country_name                722079 non-null object\n",
      "region_name                 722079 non-null object\n",
      "income_group_name           722079 non-null object\n",
      "implementing_agency_name    722079 non-null object\n",
      "channel_category_name       722079 non-null object\n",
      "channel_name                722079 non-null object\n",
      "dac_category_name           722079 non-null object\n",
      "dac_sector_name             722079 non-null object\n",
      "dac_purpose_name            722079 non-null object\n",
      "funding_account_name        722079 non-null object\n",
      "funding_agency_name         722079 non-null object\n",
      "assistance_category_name    722079 non-null object\n",
      "activity_name               721919 non-null object\n",
      "transaction_type_name       722079 non-null object\n",
      "fiscal_year                 722079 non-null int64\n",
      "current_amount              722079 non-null int64\n",
      "constant_amount             722079 non-null int64\n",
      "USG_sector_name             722079 non-null object\n",
      "dtypes: int64(3), object(15)\n",
      "memory usage: 104.7+ MB\n"
     ]
    }
   ],
   "source": [
    "df.info()"
   ]
  },
  {
   "cell_type": "code",
   "execution_count": 5,
   "metadata": {},
   "outputs": [],
   "source": [
    "# re: adding data\n",
    "# Should group data by year\n",
    "# then group by assistance_category_name (military vs. economic)\n",
    "# Possible to break up type of economic aid??\n",
    "\n",
    "\n",
    "# then add in GDP data, look into other development indicators"
   ]
  },
  {
   "cell_type": "code",
   "execution_count": null,
   "metadata": {},
   "outputs": [],
   "source": []
  },
  {
   "cell_type": "code",
   "execution_count": null,
   "metadata": {},
   "outputs": [],
   "source": []
  },
  {
   "cell_type": "code",
   "execution_count": 16,
   "metadata": {},
   "outputs": [
    {
     "data": {
      "text/plain": [
       "array(['Obligations', 'Disbursements'], dtype=object)"
      ]
     },
     "execution_count": 16,
     "metadata": {},
     "output_type": "execute_result"
    }
   ],
   "source": [
    "# We only want to look at Disbursements, since that's when money/aid \n",
    "# is actually reaching the countries it's been alloted to \n",
    "# (\"Obligations\" implies the setting aside of money for the cause, \n",
    "# but it could take time for the money to actually reach the intended\n",
    "# country it was promised to... Since we're trying to track the actual \n",
    "# results of the aid, it makes more sense to look at when the money \n",
    "# arrived)\n",
    "\n",
    "# Potential other EDA blurb: Look at how long it takes on average for \n",
    "# money obligated to a cause to be disbursed???\n",
    "\n",
    "df.transaction_type_name.unique()"
   ]
  },
  {
   "cell_type": "markdown",
   "metadata": {},
   "source": [
    "### Create 'Disbursements' Table"
   ]
  },
  {
   "cell_type": "code",
   "execution_count": 20,
   "metadata": {},
   "outputs": [
    {
     "name": "stdout",
     "output_type": "stream",
     "text": [
      "<class 'pandas.core.frame.DataFrame'>\n",
      "Int64Index: 362737 entries, 2 to 986034\n",
      "Data columns (total 18 columns):\n",
      "country_name                362737 non-null object\n",
      "region_name                 362737 non-null object\n",
      "income_group_name           362737 non-null object\n",
      "implementing_agency_name    362737 non-null object\n",
      "channel_category_name       362737 non-null object\n",
      "channel_name                362737 non-null object\n",
      "dac_category_name           362737 non-null object\n",
      "dac_sector_name             362737 non-null object\n",
      "dac_purpose_name            362737 non-null object\n",
      "funding_account_name        362737 non-null object\n",
      "funding_agency_name         362737 non-null object\n",
      "assistance_category_name    362737 non-null object\n",
      "activity_name               362581 non-null object\n",
      "transaction_type_name       362737 non-null object\n",
      "fiscal_year                 362737 non-null int64\n",
      "current_amount              362737 non-null int64\n",
      "constant_amount             362737 non-null int64\n",
      "USG_sector_name             362737 non-null object\n",
      "dtypes: int64(3), object(15)\n",
      "memory usage: 52.6+ MB\n"
     ]
    }
   ],
   "source": [
    "disbursements = df.loc[df['transaction_type_name'] == 'Disbursements']\n",
    "disbursements.info()"
   ]
  },
  {
   "cell_type": "code",
   "execution_count": 35,
   "metadata": {
    "scrolled": true
   },
   "outputs": [
    {
     "name": "stderr",
     "output_type": "stream",
     "text": [
      "/anaconda3/lib/python3.7/site-packages/pandas/core/frame.py:3940: SettingWithCopyWarning: \n",
      "A value is trying to be set on a copy of a slice from a DataFrame\n",
      "\n",
      "See the caveats in the documentation: http://pandas.pydata.org/pandas-docs/stable/indexing.html#indexing-view-versus-copy\n",
      "  errors=errors)\n"
     ]
    }
   ],
   "source": [
    "# Drop \"transaction type\" column from Disbursements table, since all values = 'Disbursements'\n",
    "disbursements.drop(columns = {'transaction_type_name'}, inplace = True)"
   ]
  },
  {
   "cell_type": "code",
   "execution_count": 36,
   "metadata": {},
   "outputs": [
    {
     "data": {
      "text/plain": [
       "country_name\n",
       "Afghanistan    102817615025\n",
       "Iraq            70087590524\n",
       "Israel          57066847282\n",
       "Egypt           32099968626\n",
       "Pakistan        17077702466\n",
       "Jordan          16052938124\n",
       "Russia          12369627318\n",
       "Ethiopia        11270156963\n",
       "Colombia        10927176738\n",
       "Kenya            9453432843\n",
       "Name: constant_amount, dtype: int64"
      ]
     },
     "execution_count": 36,
     "metadata": {},
     "output_type": "execute_result"
    }
   ],
   "source": [
    "# Take a look at which countries the US has given the most aid to from 1990-2019\n",
    "# Dollar amounts are in 2016 USD\n",
    "disbursements.groupby('country_name').sum().sort_values(\n",
    "    'constant_amount', ascending = False)['constant_amount'].head(10)"
   ]
  },
  {
   "cell_type": "code",
   "execution_count": 37,
   "metadata": {},
   "outputs": [
    {
     "data": {
      "text/plain": [
       "income_group_name\n",
       "Low Income Country             177478594909\n",
       "Upper Middle Income Country    153044421592\n",
       "Lower Middle Income Country    135093314560\n",
       "High Income Country             65506825117\n",
       "Name: constant_amount, dtype: int64"
      ]
     },
     "execution_count": 37,
     "metadata": {},
     "output_type": "execute_result"
    }
   ],
   "source": [
    "disbursements.groupby('income_group_name').sum().sort_values(\n",
    "    'constant_amount', ascending = False)['constant_amount']"
   ]
  },
  {
   "cell_type": "code",
   "execution_count": 38,
   "metadata": {},
   "outputs": [
    {
     "data": {
      "text/plain": [
       "array(['Israel', 'Poland', 'Bahrain', 'Oman', 'Japan', 'Ireland',\n",
       "       'Belgium', 'Canada', 'Greece', 'Czechia', 'Curacao', 'Estonia',\n",
       "       'Hungary', 'Lithuania', 'Croatia', 'Cyprus',\n",
       "       'China, Republic of (Taiwan)', 'Spain', 'Slovak Republic',\n",
       "       'Latvia', 'Chile', 'Bahamas', 'Korea Republic', 'Austria',\n",
       "       'Portugal', 'United Kingdom', 'Slovenia', 'Malta', 'Seychelles',\n",
       "       'Singapore', 'Italy', 'Antigua and Barbuda', 'Barbados', 'Sweden',\n",
       "       'New Zealand', 'St. Kitts and Nevis', 'Uruguay', 'Germany',\n",
       "       'Qatar', 'Trinidad and Tobago', 'Netherlands', 'Saudi Arabia',\n",
       "       'Kuwait', 'China (P.R. Hong Kong)', 'United Arab Emirates',\n",
       "       'Iceland', 'France', 'Australia', 'Switzerland', 'Cayman Islands',\n",
       "       'Brunei', 'Macau', 'Nauru', 'Denmark', 'New Caledonia', 'Aruba',\n",
       "       'Norway', 'Turks and Caicos Islands', 'Finland', 'Bermuda',\n",
       "       'French Polynesia', 'British Virgin Islands', 'Luxembourg'],\n",
       "      dtype=object)"
      ]
     },
     "execution_count": 38,
     "metadata": {},
     "output_type": "execute_result"
    }
   ],
   "source": [
    "# High Income Countries the US has given aid to since 1990\n",
    "disbursements.loc[df['income_group_name'] == 'High Income Country'\n",
    "                 ]['country_name'].unique()"
   ]
  },
  {
   "cell_type": "code",
   "execution_count": 43,
   "metadata": {},
   "outputs": [
    {
     "data": {
      "text/plain": [
       "Economic    352914\n",
       "Military      9823\n",
       "Name: assistance_category_name, dtype: int64"
      ]
     },
     "execution_count": 43,
     "metadata": {},
     "output_type": "execute_result"
    }
   ],
   "source": [
    "# What type of aid has the US given to High Income Countries?\n",
    "\n",
    "# Instances of Economic aid are higher, but total dollar amounts might be different\n",
    "disbursements['assistance_category_name'].value_counts()"
   ]
  },
  {
   "cell_type": "code",
   "execution_count": 52,
   "metadata": {
    "scrolled": true
   },
   "outputs": [
    {
     "data": {
      "text/plain": [
       "217662302460"
      ]
     },
     "execution_count": 52,
     "metadata": {},
     "output_type": "execute_result"
    }
   ],
   "source": [
    "# Military Disbursements (Total)\n",
    "disbursements.loc[disbursements['assistance_category_name'] == 'Military'\n",
    "                 ]['constant_amount'].sum()"
   ]
  },
  {
   "cell_type": "code",
   "execution_count": 47,
   "metadata": {},
   "outputs": [
    {
     "data": {
      "text/plain": [
       "313460853718"
      ]
     },
     "execution_count": 47,
     "metadata": {},
     "output_type": "execute_result"
    }
   ],
   "source": [
    "# Economic Disbursements (Total) --> approx $100B more\n",
    "disbursements.loc[disbursements['assistance_category_name'] == 'Economic'\n",
    "                 ]['constant_amount'].sum()"
   ]
  },
  {
   "cell_type": "code",
   "execution_count": 48,
   "metadata": {},
   "outputs": [
    {
     "data": {
      "text/plain": [
       "array(['Governance', 'Humanitarian', 'Other', 'Infrastructure',\n",
       "       'Economic Growth', 'Health and Population'], dtype=object)"
      ]
     },
     "execution_count": 48,
     "metadata": {},
     "output_type": "execute_result"
    }
   ],
   "source": [
    "# Where assistance_category_name = 'Military', what are the kinds of dac_category_name?\n",
    "disbursements.loc[disbursements['assistance_category_name'] == 'Military'\n",
    "                 ]['dac_category_name'].unique()"
   ]
  },
  {
   "cell_type": "code",
   "execution_count": 57,
   "metadata": {},
   "outputs": [
    {
     "data": {
      "text/plain": [
       "array(['Security system management and reform',\n",
       "       'Public sector policy and administrative management',\n",
       "       'Narcotics control', 'Reconstruction relief and rehabilitation',\n",
       "       'Civilian peace-building, conflict prevention and resolution',\n",
       "       'Biosphere protection', 'Nuclear energy electric power plants',\n",
       "       'Construction policy and administrative management',\n",
       "       'Research/scientific institutions',\n",
       "       'Electric power transmission and  distribution', 'Road transport',\n",
       "       'Multisector aid', 'Trade facilitation',\n",
       "       'Participation in international peacekeeping operations',\n",
       "       'Legal and judicial development', 'Water supply - large systems',\n",
       "       'Medical services', 'Basic sanitation'], dtype=object)"
      ]
     },
     "execution_count": 57,
     "metadata": {},
     "output_type": "execute_result"
    }
   ],
   "source": [
    "# Where assistance_category_name = 'Military', what are the kinds of dac_purpose_name?\n",
    "disbursements.loc[disbursements['assistance_category_name'] == 'Military'\n",
    "                 ]['dac_purpose_name'].unique()"
   ]
  },
  {
   "cell_type": "code",
   "execution_count": 49,
   "metadata": {},
   "outputs": [
    {
     "data": {
      "text/plain": [
       "array(['Other', 'Infrastructure', 'Humanitarian', 'Economic Growth',\n",
       "       'Governance', 'Health and Population', 'Agriculture', 'Education',\n",
       "       'Administrative Costs', 'Commodity Assistance'], dtype=object)"
      ]
     },
     "execution_count": 49,
     "metadata": {},
     "output_type": "execute_result"
    }
   ],
   "source": [
    "# Where assistance_category_name = 'Economic', what are the kinds of dac_category_name?\n",
    "disbursements.loc[disbursements['assistance_category_name'] == 'Economic']['dac_category_name'].unique()"
   ]
  },
  {
   "cell_type": "code",
   "execution_count": 68,
   "metadata": {},
   "outputs": [
    {
     "data": {
      "text/plain": [
       "['Security system management and reform',\n",
       " 'Narcotics control',\n",
       " 'Road transport',\n",
       " 'Water supply - large systems',\n",
       " 'Medical services',\n",
       " 'Biosphere protection',\n",
       " 'Basic sanitation',\n",
       " 'Construction policy and administrative management',\n",
       " 'Research/scientific institutions',\n",
       " 'Public sector policy and administrative management',\n",
       " 'Nuclear energy electric power plants',\n",
       " 'Multisector aid',\n",
       " 'Electric power transmission and  distribution',\n",
       " 'Participation in international peacekeeping operations',\n",
       " 'Legal and judicial development',\n",
       " 'Reconstruction relief and rehabilitation',\n",
       " 'Trade facilitation',\n",
       " 'Civilian peace-building, conflict prevention and resolution']"
      ]
     },
     "execution_count": 68,
     "metadata": {},
     "output_type": "execute_result"
    }
   ],
   "source": [
    "# DAC purposes that are covered in both Economic and Military aid\n",
    "\n",
    "list(\n",
    "    set(\n",
    "        list(\n",
    "            disbursements.loc[disbursements['assistance_category_name'] == 'Economic']['dac_purpose_name'].unique())\n",
    "    ) & set(\n",
    "        list(\n",
    "            disbursements.loc[disbursements['assistance_category_name'] == 'Military']['dac_purpose_name'].unique())\n",
    "    ))"
   ]
  },
  {
   "cell_type": "code",
   "execution_count": 58,
   "metadata": {},
   "outputs": [
    {
     "data": {
      "text/plain": [
       "array(['Government', 'Enterprises', 'Multilateral', 'NGO',\n",
       "       'Universities and Research Institutes', 'Church and Faith Based',\n",
       "       'Networks', 'Public and Private Partnerships'], dtype=object)"
      ]
     },
     "execution_count": 58,
     "metadata": {},
     "output_type": "execute_result"
    }
   ],
   "source": [
    "disbursements.channel_category_name.unique()"
   ]
  },
  {
   "cell_type": "code",
   "execution_count": null,
   "metadata": {},
   "outputs": [],
   "source": []
  },
  {
   "cell_type": "code",
   "execution_count": null,
   "metadata": {},
   "outputs": [],
   "source": []
  },
  {
   "cell_type": "code",
   "execution_count": 26,
   "metadata": {},
   "outputs": [
    {
     "data": {
      "text/plain": [
       "array(['Conflict, Peace, and Security', 'Government and Civil Society',\n",
       "       'General Budget Support', 'Transport and Storage',\n",
       "       'Emergency Response', 'Energy', 'Mineral Resources and Mining',\n",
       "       'Banking and Financial Services',\n",
       "       'Other Social Infrastructure and Services',\n",
       "       'Reconstruction Relief and Rehabilitation',\n",
       "       'Trade Policy and Regulations', 'Other Multisector', 'HIV/AIDS',\n",
       "       'Water Supply and Sanitation', 'Action Relating To Debt',\n",
       "       'General Environmental Protection', 'Agriculture', 'Basic Health',\n",
       "       'Business and Other Services', 'Education, Level Unspecified',\n",
       "       'Construction', 'Maternal and Child Health, Family Planning',\n",
       "       'Post-Secondary Education', 'Operating Expenses',\n",
       "       'Developmental Food Aid/Food Security Assistance',\n",
       "       'Other Commodity Assistance', 'Basic Education',\n",
       "       'Administration and Oversight', 'Industry', 'Communications',\n",
       "       'Unallocated/ Unspecified', 'Health, General', 'Tourism',\n",
       "       'Disaster Prevention and Preparedness',\n",
       "       'Program Design and Learning', 'Secondary Education'], dtype=object)"
      ]
     },
     "execution_count": 26,
     "metadata": {},
     "output_type": "execute_result"
    }
   ],
   "source": [
    "disbursements.dac_sector_name.unique()"
   ]
  },
  {
   "cell_type": "code",
   "execution_count": null,
   "metadata": {},
   "outputs": [],
   "source": []
  },
  {
   "cell_type": "code",
   "execution_count": 55,
   "metadata": {},
   "outputs": [
    {
     "data": {
      "text/plain": [
       "dac_purpose_name\n",
       "Security system management and reform                                      206500417899\n",
       "STD control including HIV/AIDS                                              37357653446\n",
       "Material relief assistance and services                                     24441325548\n",
       "Emergency food aid                                                          22832641147\n",
       "Legal and judicial development                                              20587573913\n",
       "Public sector policy and administrative management                          13509262840\n",
       "Narcotics control                                                           13136598208\n",
       "Food aid/Food security programmes                                           11221842554\n",
       "Operating Expenses                                                           9630255132\n",
       "Primary education                                                            9179850627\n",
       "Transport policy and administrative management                               8375017947\n",
       "Civilian peace-building, conflict prevention and resolution                  7013179979\n",
       "Energy policy and administrative management                                  6923579173\n",
       "General budget support-related aid                                           6794337513\n",
       "Business support services and institutions                                   6765609149\n",
       "Multisector aid                                                              6606220163\n",
       "Social/ welfare services                                                     6027907790\n",
       "Nuclear energy electric power plants                                         5941134810\n",
       "Agricultural development                                                     4889784888\n",
       "Financial policy and administrative management                               4836426528\n",
       "Reproductive health care                                                     4718884523\n",
       "Democratic participation and civil society                                   4699146741\n",
       "Malaria control                                                              4381005050\n",
       "Family planning                                                              4269379519\n",
       "Agricultural alternative development                                         4052128400\n",
       "Decentralisation and support to subnational government                       3613657743\n",
       "Electric power transmission and  distribution                                3555006946\n",
       "Basic health care                                                            3251438913\n",
       "Road transport                                                               2988454722\n",
       "Trade policy and administrative management                                   2961766175\n",
       "                                                                               ...     \n",
       "Chemicals                                                                       3628576\n",
       "Participation in international peacekeeping operations                          3607632\n",
       "Fishery education/training                                                      3539431\n",
       "Flood prevention/control                                                        3508797\n",
       "Forestry research                                                               3169903\n",
       "Forest industries                                                               2819581\n",
       "Pharmaceutical production                                                       2720542\n",
       "Precious metals/materials                                                       2551785\n",
       "Low-cost housing                                                                2510781\n",
       "Educational research                                                            2408000\n",
       "Transport equipment industry                                                    2269411\n",
       "Social mitigation of HIV/AIDS                                                   2176562\n",
       "Fertilizer plants                                                               2166554\n",
       "Forestry education/training                                                     1575619\n",
       "Fertilizer minerals                                                             1278762\n",
       "Promotion of development awareness (non-sector allocable)                       1179447\n",
       "Mineral prospection and exploration                                             1161389\n",
       "Engineering                                                                     1143789\n",
       "Basic metal industries                                                           882785\n",
       "District heating and cooling                                                     850444\n",
       "Medical research                                                                 642395\n",
       "Energy research                                                                  622682\n",
       "Fossil fuel electric power plants with carbon capture and storage (CCS)          413797\n",
       "Non-ferrous metal industries                                                     345190\n",
       "Trade education/training                                                         274537\n",
       "Industrial minerals                                                              190553\n",
       "Fishery research                                                                 142763\n",
       "Fuelwood/charcoal                                                                 81030\n",
       "Early childhood education                                                         70423\n",
       "Import support (capital goods)                                                    11563\n",
       "Name: constant_amount, Length: 192, dtype: int64"
      ]
     },
     "execution_count": 55,
     "metadata": {},
     "output_type": "execute_result"
    }
   ],
   "source": [
    "disbursements.groupby('dac_purpose_name').sum().sort_values(\n",
    "    'constant_amount', ascending = False)['constant_amount']\n"
   ]
  },
  {
   "cell_type": "code",
   "execution_count": null,
   "metadata": {},
   "outputs": [],
   "source": []
  },
  {
   "cell_type": "code",
   "execution_count": null,
   "metadata": {},
   "outputs": [],
   "source": [
    "# Things to do:\n",
    "\n",
    "# - Map USAID spending for top, like, 20 countries over time\n",
    "# - Bar graph by year for military vs economic expenditures\n",
    "# - Line plot for total economic vs military spending over time\n",
    "# - Line plot comparing US GDP to aid spending?\n",
    "\n",
    "\n",
    "\n",
    "# For main models, \n",
    "# maybe have row for each country, and aggregate sum spent in each \n",
    "# 'dac_purpose_name' entry\n",
    "# or \n",
    "\n",
    "\n",
    "###### input should be percent of GDP spent on aid in a given year?\n",
    "\n",
    "# Figure out if there's a correlation like, every dollar spent results in such and such change\n",
    "\n",
    "#### what if result was HDI score CHANGE for that year (from year before), inputs are country \n",
    "## (countries should be dummy-coded), amount of money spent that year on 'dac_purpose_name'\n",
    "##  -->> use this to figure out which variables/programs have the biggest effect!!!\n"
   ]
  },
  {
   "cell_type": "code",
   "execution_count": null,
   "metadata": {},
   "outputs": [],
   "source": [
    "country_name                362737 non-null object\n",
    "region_name                 362737 non-null object\n",
    "income_group_name           362737 non-null object\n",
    "channel_category_name\n",
    "\n",
    "dac_purpose_name            362737 non-null object\n",
    "\n",
    "assistance_category_name    362737 non-null object\n",
    "activity_name               362581 non-null object\n",
    "\n",
    "fiscal_year                 362737 non-null int64\n",
    "\n",
    "constant_amount             362737 non-null int64"
   ]
  },
  {
   "cell_type": "code",
   "execution_count": null,
   "metadata": {},
   "outputs": [],
   "source": [
    "# First, do we want to see if there's correlation between aid received and HDI? \n",
    "# like graph money given vs HDI "
   ]
  },
  {
   "cell_type": "code",
   "execution_count": 69,
   "metadata": {},
   "outputs": [
    {
     "data": {
      "text/plain": [
       "array(['Government', 'Enterprises', 'Multilateral', 'NGO',\n",
       "       'Universities and Research Institutes', 'Church and Faith Based',\n",
       "       'Networks', 'Public and Private Partnerships'], dtype=object)"
      ]
     },
     "execution_count": 69,
     "metadata": {},
     "output_type": "execute_result"
    }
   ],
   "source": [
    "disbursements.channel_category_name.unique()"
   ]
  },
  {
   "cell_type": "code",
   "execution_count": null,
   "metadata": {},
   "outputs": [],
   "source": []
  },
  {
   "cell_type": "code",
   "execution_count": null,
   "metadata": {},
   "outputs": [],
   "source": []
  },
  {
   "cell_type": "code",
   "execution_count": null,
   "metadata": {},
   "outputs": [],
   "source": []
  }
 ],
 "metadata": {
  "kernelspec": {
   "display_name": "Python 3",
   "language": "python",
   "name": "python3"
  },
  "language_info": {
   "codemirror_mode": {
    "name": "ipython",
    "version": 3
   },
   "file_extension": ".py",
   "mimetype": "text/x-python",
   "name": "python",
   "nbconvert_exporter": "python",
   "pygments_lexer": "ipython3",
   "version": "3.7.2"
  }
 },
 "nbformat": 4,
 "nbformat_minor": 2
}
