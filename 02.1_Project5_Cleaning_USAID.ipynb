{
 "cells": [
  {
   "cell_type": "code",
   "execution_count": 1,
   "metadata": {},
   "outputs": [],
   "source": [
    "import numpy as np\n",
    "import pandas as pd"
   ]
  },
  {
   "cell_type": "code",
   "execution_count": 2,
   "metadata": {},
   "outputs": [],
   "source": [
    "# Read in USAID data pickle\n",
    "df = pd.read_pickle('./usaid_data.pkl')"
   ]
  },
  {
   "cell_type": "code",
   "execution_count": 3,
   "metadata": {
    "scrolled": false
   },
   "outputs": [
    {
     "data": {
      "text/html": [
       "<div>\n",
       "<style scoped>\n",
       "    .dataframe tbody tr th:only-of-type {\n",
       "        vertical-align: middle;\n",
       "    }\n",
       "\n",
       "    .dataframe tbody tr th {\n",
       "        vertical-align: top;\n",
       "    }\n",
       "\n",
       "    .dataframe thead th {\n",
       "        text-align: right;\n",
       "    }\n",
       "</style>\n",
       "<table border=\"1\" class=\"dataframe\">\n",
       "  <thead>\n",
       "    <tr style=\"text-align: right;\">\n",
       "      <th></th>\n",
       "      <th>country_name</th>\n",
       "      <th>region_name</th>\n",
       "      <th>income_group_name</th>\n",
       "      <th>implementing_agency_name</th>\n",
       "      <th>channel_category_name</th>\n",
       "      <th>channel_name</th>\n",
       "      <th>dac_category_name</th>\n",
       "      <th>dac_sector_name</th>\n",
       "      <th>dac_purpose_name</th>\n",
       "      <th>funding_account_name</th>\n",
       "      <th>funding_agency_name</th>\n",
       "      <th>assistance_category_name</th>\n",
       "      <th>activity_name</th>\n",
       "      <th>transaction_type_name</th>\n",
       "      <th>fiscal_year</th>\n",
       "      <th>current_amount</th>\n",
       "      <th>constant_amount</th>\n",
       "      <th>USG_sector_name</th>\n",
       "    </tr>\n",
       "  </thead>\n",
       "  <tbody>\n",
       "    <tr>\n",
       "      <th>0</th>\n",
       "      <td>Afghanistan</td>\n",
       "      <td>South and Central Asia</td>\n",
       "      <td>Low Income Country</td>\n",
       "      <td>Department of Defense</td>\n",
       "      <td>Government</td>\n",
       "      <td>U.S. Government - Department of Defense</td>\n",
       "      <td>Governance</td>\n",
       "      <td>Conflict, Peace, and Security</td>\n",
       "      <td>Security system management and reform</td>\n",
       "      <td>Department of the Army, Afghanistan Security F...</td>\n",
       "      <td>Department of the Army</td>\n",
       "      <td>Military</td>\n",
       "      <td>Afghanistan Security Force Fund</td>\n",
       "      <td>Obligations</td>\n",
       "      <td>2011</td>\n",
       "      <td>9941000000</td>\n",
       "      <td>10914528417</td>\n",
       "      <td>Stabilization Operations and Security Sector R...</td>\n",
       "    </tr>\n",
       "    <tr>\n",
       "      <th>1</th>\n",
       "      <td>Afghanistan</td>\n",
       "      <td>South and Central Asia</td>\n",
       "      <td>Low Income Country</td>\n",
       "      <td>Department of Defense</td>\n",
       "      <td>Government</td>\n",
       "      <td>U.S. Government - Department of Defense</td>\n",
       "      <td>Governance</td>\n",
       "      <td>Conflict, Peace, and Security</td>\n",
       "      <td>Security system management and reform</td>\n",
       "      <td>Department of the Army, Afghanistan Security F...</td>\n",
       "      <td>Department of the Army</td>\n",
       "      <td>Military</td>\n",
       "      <td>Afghanistan Security Force Fund</td>\n",
       "      <td>Obligations</td>\n",
       "      <td>2012</td>\n",
       "      <td>9243000000</td>\n",
       "      <td>9966142830</td>\n",
       "      <td>Stabilization Operations and Security Sector R...</td>\n",
       "    </tr>\n",
       "    <tr>\n",
       "      <th>2</th>\n",
       "      <td>Afghanistan</td>\n",
       "      <td>South and Central Asia</td>\n",
       "      <td>Low Income Country</td>\n",
       "      <td>Department of Defense</td>\n",
       "      <td>Government</td>\n",
       "      <td>U.S. Government - Department of Defense</td>\n",
       "      <td>Governance</td>\n",
       "      <td>Conflict, Peace, and Security</td>\n",
       "      <td>Security system management and reform</td>\n",
       "      <td>Department of the Army, Afghanistan Security F...</td>\n",
       "      <td>Department of the Army</td>\n",
       "      <td>Military</td>\n",
       "      <td>Afghanistan Security Force Fund</td>\n",
       "      <td>Disbursements</td>\n",
       "      <td>2011</td>\n",
       "      <td>7840175215</td>\n",
       "      <td>8607968532</td>\n",
       "      <td>Stabilization Operations and Security Sector R...</td>\n",
       "    </tr>\n",
       "    <tr>\n",
       "      <th>3</th>\n",
       "      <td>Afghanistan</td>\n",
       "      <td>South and Central Asia</td>\n",
       "      <td>Low Income Country</td>\n",
       "      <td>Department of Defense</td>\n",
       "      <td>Government</td>\n",
       "      <td>U.S. Government - Department of Defense</td>\n",
       "      <td>Governance</td>\n",
       "      <td>Conflict, Peace, and Security</td>\n",
       "      <td>Security system management and reform</td>\n",
       "      <td>Department of the Army, Afghanistan Security F...</td>\n",
       "      <td>Department of the Army</td>\n",
       "      <td>Military</td>\n",
       "      <td>Afghanistan Security Force Fund</td>\n",
       "      <td>Disbursements</td>\n",
       "      <td>2013</td>\n",
       "      <td>7764310985</td>\n",
       "      <td>8232733951</td>\n",
       "      <td>Stabilization Operations and Security Sector R...</td>\n",
       "    </tr>\n",
       "    <tr>\n",
       "      <th>4</th>\n",
       "      <td>Afghanistan</td>\n",
       "      <td>South and Central Asia</td>\n",
       "      <td>Low Income Country</td>\n",
       "      <td>Department of Defense</td>\n",
       "      <td>Government</td>\n",
       "      <td>U.S. Government - Department of Defense</td>\n",
       "      <td>Governance</td>\n",
       "      <td>Conflict, Peace, and Security</td>\n",
       "      <td>Security system management and reform</td>\n",
       "      <td>Department of the Army, Afghanistan Security F...</td>\n",
       "      <td>Department of the Army</td>\n",
       "      <td>Military</td>\n",
       "      <td>Afghanistan Security Force Fund</td>\n",
       "      <td>Obligations</td>\n",
       "      <td>2013</td>\n",
       "      <td>6928000000</td>\n",
       "      <td>7345968099</td>\n",
       "      <td>Stabilization Operations and Security Sector R...</td>\n",
       "    </tr>\n",
       "  </tbody>\n",
       "</table>\n",
       "</div>"
      ],
      "text/plain": [
       "  country_name             region_name   income_group_name  \\\n",
       "0  Afghanistan  South and Central Asia  Low Income Country   \n",
       "1  Afghanistan  South and Central Asia  Low Income Country   \n",
       "2  Afghanistan  South and Central Asia  Low Income Country   \n",
       "3  Afghanistan  South and Central Asia  Low Income Country   \n",
       "4  Afghanistan  South and Central Asia  Low Income Country   \n",
       "\n",
       "  implementing_agency_name channel_category_name  \\\n",
       "0    Department of Defense            Government   \n",
       "1    Department of Defense            Government   \n",
       "2    Department of Defense            Government   \n",
       "3    Department of Defense            Government   \n",
       "4    Department of Defense            Government   \n",
       "\n",
       "                              channel_name dac_category_name  \\\n",
       "0  U.S. Government - Department of Defense        Governance   \n",
       "1  U.S. Government - Department of Defense        Governance   \n",
       "2  U.S. Government - Department of Defense        Governance   \n",
       "3  U.S. Government - Department of Defense        Governance   \n",
       "4  U.S. Government - Department of Defense        Governance   \n",
       "\n",
       "                 dac_sector_name                       dac_purpose_name  \\\n",
       "0  Conflict, Peace, and Security  Security system management and reform   \n",
       "1  Conflict, Peace, and Security  Security system management and reform   \n",
       "2  Conflict, Peace, and Security  Security system management and reform   \n",
       "3  Conflict, Peace, and Security  Security system management and reform   \n",
       "4  Conflict, Peace, and Security  Security system management and reform   \n",
       "\n",
       "                                funding_account_name     funding_agency_name  \\\n",
       "0  Department of the Army, Afghanistan Security F...  Department of the Army   \n",
       "1  Department of the Army, Afghanistan Security F...  Department of the Army   \n",
       "2  Department of the Army, Afghanistan Security F...  Department of the Army   \n",
       "3  Department of the Army, Afghanistan Security F...  Department of the Army   \n",
       "4  Department of the Army, Afghanistan Security F...  Department of the Army   \n",
       "\n",
       "  assistance_category_name                    activity_name  \\\n",
       "0                 Military  Afghanistan Security Force Fund   \n",
       "1                 Military  Afghanistan Security Force Fund   \n",
       "2                 Military  Afghanistan Security Force Fund   \n",
       "3                 Military  Afghanistan Security Force Fund   \n",
       "4                 Military  Afghanistan Security Force Fund   \n",
       "\n",
       "  transaction_type_name  fiscal_year  current_amount  constant_amount  \\\n",
       "0           Obligations         2011      9941000000      10914528417   \n",
       "1           Obligations         2012      9243000000       9966142830   \n",
       "2         Disbursements         2011      7840175215       8607968532   \n",
       "3         Disbursements         2013      7764310985       8232733951   \n",
       "4           Obligations         2013      6928000000       7345968099   \n",
       "\n",
       "                                     USG_sector_name  \n",
       "0  Stabilization Operations and Security Sector R...  \n",
       "1  Stabilization Operations and Security Sector R...  \n",
       "2  Stabilization Operations and Security Sector R...  \n",
       "3  Stabilization Operations and Security Sector R...  \n",
       "4  Stabilization Operations and Security Sector R...  "
      ]
     },
     "execution_count": 3,
     "metadata": {},
     "output_type": "execute_result"
    }
   ],
   "source": [
    "df.head()"
   ]
  },
  {
   "cell_type": "code",
   "execution_count": 4,
   "metadata": {},
   "outputs": [
    {
     "name": "stdout",
     "output_type": "stream",
     "text": [
      "<class 'pandas.core.frame.DataFrame'>\n",
      "Int64Index: 722079 entries, 0 to 986232\n",
      "Data columns (total 18 columns):\n",
      "country_name                722079 non-null object\n",
      "region_name                 722079 non-null object\n",
      "income_group_name           722079 non-null object\n",
      "implementing_agency_name    722079 non-null object\n",
      "channel_category_name       722079 non-null object\n",
      "channel_name                722079 non-null object\n",
      "dac_category_name           722079 non-null object\n",
      "dac_sector_name             722079 non-null object\n",
      "dac_purpose_name            722079 non-null object\n",
      "funding_account_name        722079 non-null object\n",
      "funding_agency_name         722079 non-null object\n",
      "assistance_category_name    722079 non-null object\n",
      "activity_name               721919 non-null object\n",
      "transaction_type_name       722079 non-null object\n",
      "fiscal_year                 722079 non-null int64\n",
      "current_amount              722079 non-null int64\n",
      "constant_amount             722079 non-null int64\n",
      "USG_sector_name             722079 non-null object\n",
      "dtypes: int64(3), object(15)\n",
      "memory usage: 104.7+ MB\n"
     ]
    }
   ],
   "source": [
    "df.info()"
   ]
  },
  {
   "cell_type": "code",
   "execution_count": 5,
   "metadata": {},
   "outputs": [
    {
     "data": {
      "text/plain": [
       "array([2011, 2012, 2013, 2015, 2010, 2008, 2009, 2006, 2014, 2017, 2007,\n",
       "       2003, 2016, 2000, 2005, 2004, 2002, 2001, 1999, 1991, 1994, 1998,\n",
       "       1995, 1993, 1992, 1996, 1997, 1990])"
      ]
     },
     "execution_count": 5,
     "metadata": {},
     "output_type": "execute_result"
    }
   ],
   "source": [
    "df.fiscal_year.unique()"
   ]
  },
  {
   "cell_type": "markdown",
   "metadata": {},
   "source": [
    "## Start paring down dataframe"
   ]
  },
  {
   "cell_type": "code",
   "execution_count": 6,
   "metadata": {},
   "outputs": [
    {
     "data": {
      "text/plain": [
       "array(['Department of Defense',\n",
       "       'U.S. Agency for International Development',\n",
       "       'Department of the Army', 'Department of State',\n",
       "       'Department of Energy', 'Department of Agriculture',\n",
       "       'Millennium Challenge Corporation', 'Department of the Interior',\n",
       "       'Department of Health and Human Services',\n",
       "       'Department of the Treasury', 'Department of the Air Force',\n",
       "       'Department of the Navy', 'Open World Leadership Center',\n",
       "       'Overseas Private Investment Corporation', 'Department of Labor',\n",
       "       'Department of Justice', 'Department of Transportation',\n",
       "       'National Science Foundation', 'Peace Corps',\n",
       "       'United States Institute of Peace',\n",
       "       'Environmental Protection Agency',\n",
       "       'Department of Homeland Security', 'Department of Commerce',\n",
       "       'Trade and Development Agency', 'Inter-American Foundation',\n",
       "       'African Development Foundation', 'Federal Trade Commission'],\n",
       "      dtype=object)"
      ]
     },
     "execution_count": 6,
     "metadata": {},
     "output_type": "execute_result"
    }
   ],
   "source": [
    "# Implementing Agency = US Government Agency Responsible for implementing the programs\n",
    "df.implementing_agency_name.unique()"
   ]
  },
  {
   "cell_type": "code",
   "execution_count": 7,
   "metadata": {
    "scrolled": true
   },
   "outputs": [
    {
     "data": {
      "text/plain": [
       "array(['Government', 'Enterprises', 'Multilateral', 'NGO',\n",
       "       'Universities and Research Institutes', 'Church and Faith Based',\n",
       "       'Networks', 'Public and Private Partnerships'], dtype=object)"
      ]
     },
     "execution_count": 7,
     "metadata": {},
     "output_type": "execute_result"
    }
   ],
   "source": [
    "# Channel Category = Broad categories for channels of delivery; \n",
    "# provided with funds from Implementing Agency\n",
    "df.channel_category_name.unique()"
   ]
  },
  {
   "cell_type": "markdown",
   "metadata": {},
   "source": [
    "Since Implementing Agency is above Channel information, I'll focus on that."
   ]
  },
  {
   "cell_type": "markdown",
   "metadata": {},
   "source": [
    "**Move onto DAC data**"
   ]
  },
  {
   "cell_type": "code",
   "execution_count": 8,
   "metadata": {},
   "outputs": [
    {
     "data": {
      "text/plain": [
       "array(['Governance', 'Other', 'Infrastructure', 'Humanitarian',\n",
       "       'Economic Growth', 'Commodity Assistance', 'Health and Population',\n",
       "       'Agriculture', 'Education', 'Administrative Costs'], dtype=object)"
      ]
     },
     "execution_count": 8,
     "metadata": {},
     "output_type": "execute_result"
    }
   ],
   "source": [
    "# Too general\n",
    "df.dac_category_name.unique()"
   ]
  },
  {
   "cell_type": "code",
   "execution_count": 9,
   "metadata": {},
   "outputs": [
    {
     "data": {
      "text/plain": [
       "array(['Conflict, Peace, and Security', 'Government and Civil Society',\n",
       "       'Other Multisector', 'Transport and Storage', 'Energy',\n",
       "       'Other Social Infrastructure and Services',\n",
       "       'General Budget Support', 'Emergency Response', 'Industry',\n",
       "       'Mineral Resources and Mining', 'Banking and Financial Services',\n",
       "       'Developmental Food Aid/Food Security Assistance', 'Basic Health',\n",
       "       'Reconstruction Relief and Rehabilitation',\n",
       "       'Water Supply and Sanitation', 'Trade Policy and Regulations',\n",
       "       'HIV/AIDS', 'Action Relating To Debt',\n",
       "       'Other Commodity Assistance', 'General Environmental Protection',\n",
       "       'Agriculture', 'Business and Other Services', 'Construction',\n",
       "       'Education, Level Unspecified', 'Secondary Education',\n",
       "       'Post-Secondary Education', 'Communications',\n",
       "       'Maternal and Child Health, Family Planning', 'Operating Expenses',\n",
       "       'Basic Education', 'Administration and Oversight', 'Tourism',\n",
       "       'Health, General', 'Unallocated/ Unspecified',\n",
       "       'Program Design and Learning',\n",
       "       'Disaster Prevention and Preparedness'], dtype=object)"
      ]
     },
     "execution_count": 9,
     "metadata": {},
     "output_type": "execute_result"
    }
   ],
   "source": [
    "# Some categories don't give a ton of information, but might be a good \n",
    "# place to start\n",
    "df.dac_sector_name.unique()"
   ]
  },
  {
   "cell_type": "code",
   "execution_count": 10,
   "metadata": {},
   "outputs": [
    {
     "data": {
      "text/plain": [
       "array(['Security system management and reform',\n",
       "       'Public sector policy and administrative management',\n",
       "       'Multisector aid',\n",
       "       'Transport policy and administrative management',\n",
       "       'Electric power transmission and  distribution',\n",
       "       'Narcotics control', 'Legal and judicial development',\n",
       "       'General budget support-related aid',\n",
       "       'Material relief assistance and services', 'Energy manufacturing',\n",
       "       'Energy policy and administrative management', 'Oil and gas',\n",
       "       'Financial policy and administrative management',\n",
       "       'Food aid/Food security programmes',\n",
       "       'Nuclear energy electric power plants', 'Basic health care',\n",
       "       'Social/ welfare services',\n",
       "       'Reconstruction relief and rehabilitation',\n",
       "       'Water sector policy and administrative management',\n",
       "       'Road transport', 'Emergency food aid',\n",
       "       'Trade policy and administrative management',\n",
       "       'STD control including HIV/AIDS', 'Water supply - large systems',\n",
       "       'Public finance management',\n",
       "       'Decentralisation and support to subnational government',\n",
       "       'Multisector education/training', 'Rural development',\n",
       "       'Civilian peace-building, conflict prevention and resolution',\n",
       "       'Action relating to debt', 'Import support (commodities)',\n",
       "       'Biosphere protection', 'Food crop production',\n",
       "       'Agricultural water resources', 'Rail transport',\n",
       "       'Energy generation, non-renewable sources - unspecified',\n",
       "       'Rescheduling and refinancing',\n",
       "       'Business support services and institutions',\n",
       "       'Agricultural alternative development',\n",
       "       'Hydro-electric power plants', 'Basic health infrastructure',\n",
       "       'Construction policy and administrative management',\n",
       "       'Urban development and management',\n",
       "       'Education policy and administrative management',\n",
       "       'Agricultural development', 'Secondary education',\n",
       "       'Advanced technical and managerial training',\n",
       "       'Communications policy and administrative management',\n",
       "       'Water supply and sanitation - large systems',\n",
       "       'Anti-corruption organisations and institutions',\n",
       "       'Multisector aid for basic social services',\n",
       "       'Reproductive health care', 'Sanitation - large systems',\n",
       "       'Industrial development',\n",
       "       'Democratic participation and civil society', 'Higher education',\n",
       "       'Operating Expenses', 'Reintegration and SALW control',\n",
       "       'Agricultural research', 'Media and free flow of information',\n",
       "       'Basic nutrition', 'Solar energy', 'Water transport',\n",
       "       'Fishery development', 'Education facilities and training',\n",
       "       'Primary education', 'Formal sector financial intermediaries',\n",
       "       'Culture and recreation', 'Agricultural education/training',\n",
       "       'Research/scientific institutions', 'Malaria control',\n",
       "       'Environmental policy and administrative management',\n",
       "       'Agricultural policy and administrative management',\n",
       "       'Agricultural services', 'Air transport',\n",
       "       'Agricultural financial services', 'Elections',\n",
       "       'Cottage industries and handicraft',\n",
       "       'Removal of land mines and explosive remnants of war',\n",
       "       'Family planning', 'Gas distribution',\n",
       "       'Informal/semi-formal financial intermediaries',\n",
       "       'Administration and Oversight',\n",
       "       'Tax policy and tax administration support',\n",
       "       'Tourism policy and administrative management',\n",
       "       'Telecommunications',\n",
       "       'Relief co-ordination; protection and support services',\n",
       "       'Infectious disease control',\n",
       "       'Health policy and administrative management',\n",
       "       \"River basins' development\", 'Privatisation',\n",
       "       'Vocational training', 'Bio-diversity',\n",
       "       'Basic drinking water supply', 'Human rights',\n",
       "       'Sectors not specified', 'Agricultural extension',\n",
       "       'Education and training in water supply and sanitation',\n",
       "       'Waste management / disposal', 'Program Design and Learning',\n",
       "       'Fishery services',\n",
       "       'Basic drinking water supply and basic sanitation',\n",
       "       'Teacher training', 'Trade facilitation',\n",
       "       'Agricultural land resources',\n",
       "       'Small and medium-sized enterprises (SME) development',\n",
       "       'Mineral/mining policy and administrative management',\n",
       "       'Disaster prevention and preparedness', 'Monetary institutions',\n",
       "       'Energy generation, renewable sources - multiple technologies',\n",
       "       'Energy conservation and demand-side efficiency',\n",
       "       'Agrarian reform', 'Tuberculosis control',\n",
       "       'Basic life skills for youth and adults',\n",
       "       'Water resources conservation (including data collection)',\n",
       "       'Livestock/veterinary services',\n",
       "       'Employment policy and administrative management',\n",
       "       'Legislatures and political parties',\n",
       "       'Health personnel development',\n",
       "       'Housing policy and administrative management', 'Health education',\n",
       "       'Livestock', 'Forestry services',\n",
       "       'Participation in international peacekeeping operations',\n",
       "       'Education and training in transport and storage',\n",
       "       'Population policy and administrative management', 'Wind energy',\n",
       "       'Environmental research', 'Industrial crops/export crops',\n",
       "       'Medical education/training',\n",
       "       'Plant and post-harvest protection and pest control',\n",
       "       'Industrial policy and administrative management',\n",
       "       \"Women's equality organisations and institutions\",\n",
       "       'Energy education/training', 'Agro-industries',\n",
       "       'Relief of multilateral debt', 'Storage', 'Basic sanitation',\n",
       "       'Radio/television/print media', 'Medical services',\n",
       "       'Fishing policy and administrative management',\n",
       "       'Forestry policy and administrative management',\n",
       "       'Information and communication technology (ICT)',\n",
       "       'Child soldiers (Prevention and demobilisation)',\n",
       "       'Technological research and development',\n",
       "       'Environmental education/ training', 'Agricultural inputs',\n",
       "       'Education/training in banking and financial services',\n",
       "       'Natural gas-fired electric power plants',\n",
       "       'Ending violence against women and girls', 'Site preservation',\n",
       "       'Fishery education/training', 'Regional trade agreements (RTAs)',\n",
       "       'Statistical capacity building', 'Geothermal energy',\n",
       "       'Textiles, leather and substitutes',\n",
       "       'Multilateral trade negotiations', 'Cement/lime/plaster', 'Coal',\n",
       "       'Forestry research', 'Biofuel-fired power plants',\n",
       "       'Energy research', 'Educational research',\n",
       "       'Precious metals/materials', 'Chemicals', 'Forest industries',\n",
       "       'Fossil fuel electric power plants with carbon capture and storage (CCS)',\n",
       "       'Fertilizer plants', 'Forestry development',\n",
       "       'Transport equipment industry', 'Nonferrous metals', 'Engineering',\n",
       "       'Coal-fired electric power plants', 'Pharmaceutical production',\n",
       "       'District heating and cooling', 'Non-ferrous metal industries',\n",
       "       'Heat plants', 'Mineral prospection and exploration',\n",
       "       'Forestry education/training', 'Low-cost housing',\n",
       "       'Flood prevention/control', 'Agricultural co-operatives',\n",
       "       'Promotion of development awareness (non-sector allocable)',\n",
       "       'Basic metal industries', 'Fertilizer minerals',\n",
       "       'Medical research', 'Trade education/training',\n",
       "       'Social mitigation of HIV/AIDS', 'Fishery research',\n",
       "       'Industrial minerals', 'Early childhood education',\n",
       "       'Fuelwood/charcoal', 'Oil-fired electric power plants',\n",
       "       'Import support (capital goods)'], dtype=object)"
      ]
     },
     "execution_count": 10,
     "metadata": {},
     "output_type": "execute_result"
    }
   ],
   "source": [
    "# Might be too granular to use for general model (certain programs \n",
    "# apply more to certain countries/regions than others)\n",
    "df.dac_purpose_name.unique()"
   ]
  },
  {
   "cell_type": "markdown",
   "metadata": {},
   "source": [
    "**Other Categories:**"
   ]
  },
  {
   "cell_type": "code",
   "execution_count": 11,
   "metadata": {},
   "outputs": [
    {
     "data": {
      "text/plain": [
       "array(['Department of the Army, Afghanistan Security Forces Fund',\n",
       "       'Department of the Army, Iraq Security Forces Fund',\n",
       "       'Foreign Military Financing, Direct Loan Program Account',\n",
       "       'Foreign Military Financing Program',\n",
       "       'Department of the Army, Iraq Train and Equip Fund',\n",
       "       'Economic Support Fund', 'INACTIVE - USAID Grants',\n",
       "       'Iraq Relief and Reconstruction Fund',\n",
       "       'Department of State, Andean Counterdrug Programs',\n",
       "       'International Narcotics Control and Law Enforcement',\n",
       "       'Department of Energy, Defense Nuclear Nonproliferation',\n",
       "       'Department of the Army, Pakistan Counterinsurgency Fund',\n",
       "       'Department of Defense, Natural Resources Risk Remediation Fund',\n",
       "       'Department of  State, Migration and Refugee Assistance',\n",
       "       'Public Law 480 Title I Food for Progress Credits, Program Account',\n",
       "       'Department of Defense, Overseas Humanitarian, Disaster, and Civic Aid',\n",
       "       'Department of the Army, Operations and Maintenance',\n",
       "       'Millennium Challenge Corporation, Expenses',\n",
       "       'Department of Defense, Drug Interdiction and Counter-Drug Activities',\n",
       "       'Agency for International Development, International Disaster Assistance',\n",
       "       'Department of State, Global Health Programs',\n",
       "       'Peace Keeping Operations',\n",
       "       'Military Assistance Programs (Old Code)',\n",
       "       'Department of the Army, Afghanistan Infrastructure Fund',\n",
       "       'Department of Defense, Operation and Maintenance, Defense-Wide',\n",
       "       'Assistance for the Independent States of the Former Soviet Union',\n",
       "       'Commodity Credit Corporation Fund',\n",
       "       'Public Law 480 Title II Grants',\n",
       "       'Department of Defense, Cooperative Threat Reduction Account',\n",
       "       'Assistance for Eastern Europe and the Baltic States',\n",
       "       'Excess Defense Articles',\n",
       "       'Public Law 480 Title I Direct Credit and Food for Progress Program Account',\n",
       "       'Commodity Credit Corporation, Export Loans Program Account',\n",
       "       'Agency for International Development, HIV/AIDS Working Capital Fund',\n",
       "       'Department of State, Global HIV/AIDs Initiative',\n",
       "       'Department of Defense, Overseas Contingency Operations Transfer Fund',\n",
       "       'Tsunami Recovery and Reconstruction Fund',\n",
       "       'Department of Interior, Compact of Free Association, Insular Affairs',\n",
       "       'Agency for International Development, Operating Expenses',\n",
       "       'Nonproliferation, Anti-Terrorism, Demining and Related Programs',\n",
       "       'Foreign Agricultural Service, Salaries and Expenses',\n",
       "       'Department of State, International Organizations and Programs',\n",
       "       'Agency for International Development, Development Assistance',\n",
       "       'Agency for International Development, Child Survival and Health Programs Fund',\n",
       "       'Department of State, Democracy Fund',\n",
       "       'Defense of Israel Against Terrorism',\n",
       "       'Agency for International Development, International Assistance Program, Transition Initiatives',\n",
       "       'Centers for Disease Control and Prevention, Global Health',\n",
       "       'Assistance for Europe, Eurasia and Central Asia (AEECA)',\n",
       "       'McGovern-Dole International Food for Education and Child Nutrition Program Grants',\n",
       "       'U.S. Fish and Wildlife Service, North American Wetlands Conservation Fund',\n",
       "       'Contribution to the International Bank for Reconstruction and Development',\n",
       "       'Central America and the Caribbean Emergency Disaster Recovery Fund',\n",
       "       'U.S. Emergency Refugee and Migration Assistance Fund',\n",
       "       'U.S. Fish and Wildlife Service, Resource Management',\n",
       "       'Public Health and Social Services Emergency Fund',\n",
       "       'Department of State, Educational and Cultural Exchange Programs,',\n",
       "       'Agency for International Development, Complex Crises Fund',\n",
       "       'Agency for International Development, Gifts and Donations',\n",
       "       'Open World Leadership Center Trust Fund',\n",
       "       'Centers for Disease Control, Disease Control, Research, and Training',\n",
       "       'Department of Labor, Departmental Management, Salaries and Expenses',\n",
       "       'International Affairs Technical Assistance',\n",
       "       'Agency for International Development, Development Assistance, Sub-Saharan Africa',\n",
       "       'Department of Interior, Assistance to Territories, Insular Affairs',\n",
       "       'Department of the Army, Military Construction',\n",
       "       'Agency for International Development, Development Credit Authority',\n",
       "       'National Institute of Food and Agriculture, Integrated Activities',\n",
       "       'Department of State, National Endowment for Democracy',\n",
       "       'United States Marshals Service, Salaries and Expenses',\n",
       "       'U.S. Fish and Wildlife Service, Federal Aid to Wildlife Restoration',\n",
       "       'Department of State, Diplomatic and Consular Programs',\n",
       "       'Peace Corps', 'Department of Health and Human Services',\n",
       "       'Centers for Disease Control and Prevention, HIV/AIDS, Viral Hepatitis, Sexually Transmitted Diseases and Tuberculosis Prevention',\n",
       "       'National Forest System, Forest Service',\n",
       "       'International Military Education and Training',\n",
       "       'International Development Association',\n",
       "       'Israeli Arab Scholarship Program',\n",
       "       'Environmental Protection Agency, Environmental Programs and Management',\n",
       "       'International Assistance Program, Working Capital Fund,',\n",
       "       'Agency for International Development, Capital Investment Fund',\n",
       "       'Agency for International Development, Property Management Fund',\n",
       "       'Bureau of Alcohol, Tobacco, Firearms and Explosives, Salaries and Expenses',\n",
       "       'European Bank for Reconstruction and Development',\n",
       "       'Environmental Protection Agency, Science and Technology',\n",
       "       'Agency for International Development, Office of Inspector General, Operating Expenses',\n",
       "       'Department of Homeland Security, Customs and Border Protection, Border and Transportation Security',\n",
       "       'Civilian Stabilization Initiative',\n",
       "       'International Trade Administration, Operations and Administration',\n",
       "       'INACTIVE - USAID Loans', 'Trade and Development Agency',\n",
       "       'Research and Education Activities, Cooperative State Research, Education, and Extension Service',\n",
       "       'Inter-American Foundation',\n",
       "       'Foreign National Employees Separation Liability Fund',\n",
       "       'Department of Transportation, Transportation Planning, Research, and Development',\n",
       "       'Sub-Saharan Africa Disaster Assistance',\n",
       "       'National Oceanic and Atmospheric Administration, Operations, Research and Facilities',\n",
       "       'Centers for Disease Control and Prevention, Immunization and Respiratory Diseases',\n",
       "       'African Development Foundation',\n",
       "       'Department of State, Embassy Security, Construction and Maintenance',\n",
       "       'Construction, Corps of Engineers, Civil',\n",
       "       'Federal Aviation Administration, Operations',\n",
       "       'Weapons Activities, National Nuclear Security Administration, Energy',\n",
       "       'National Science Foundation, Research and Related Activities',\n",
       "       'State and Private Forestry, Forest Service',\n",
       "       'Department of Defense, Defense Health Program',\n",
       "       'Department of the Navy, Operation and Maintenance',\n",
       "       'Department of Homeland Security, U.S. Immigration and Customs Enforcement, Salaries and Expenses',\n",
       "       'Centers for Disease Control and Prevention, Emerging and Zoonotic Infectious Diseases',\n",
       "       'U.S. Fish and Wildlife Service, Contributed Funds',\n",
       "       'Gifts and Donations, Centers for Disease Control',\n",
       "       'Agricultural Research Service, Salaries and Expenses',\n",
       "       'Department of Energy, Energy Efficiency and Renewable Energy, Energy Programs',\n",
       "       'Department of the Air Force, Operations and Maintenance',\n",
       "       'U.S. Fish and Wildlife Service, Multinational Species Conservation Fund',\n",
       "       'Patent and Trademark Office, Salaries and Expenses',\n",
       "       'Substance Abuse and Mental Health Services Administration',\n",
       "       'Interagency Drug Enforcement, Drug Enforcement Administration',\n",
       "       'Department of the Air Force, Air Force Cadet Fund',\n",
       "       'National Institute of Mental Health',\n",
       "       'Drug Enforcement Administration. Salaries and Expenses',\n",
       "       'Department of Justice, General Legal Activities',\n",
       "       'Federal Bureau of Investigation, Salaries and Expenses',\n",
       "       'Centers for Disease Control and Prevention, Environmental Health',\n",
       "       'U.S. Fish and Wildlife Service, Neotropical Migratory Bird Conservation',\n",
       "       'Federal Trade Commission, Salaries and Expenses',\n",
       "       'Centers for Disease Control and Prevention, Public Health Preparedness and Response',\n",
       "       'Animal and Plant Health Inspection Service, Salaries and Expenses',\n",
       "       'Food and Drug Administration', 'Sahel Development Program',\n",
       "       'Toxic Substances and Environmental Public Health',\n",
       "       'Departmental Administration, Energy Programs, Energy',\n",
       "       'National Institute of Standards and Technology, Scientific and Technical Research and Services',\n",
       "       'National Cancer Institute',\n",
       "       'Department of Homeland Security, Office of the Secretary and Executive Management',\n",
       "       'Assets Forfeiture Fund',\n",
       "       'Department of Homeland Security, United States Secret Service, Salaries and Expenses',\n",
       "       'Centers and Disease Control and Prevention, Injury Prevention and Control',\n",
       "       'Economic Research Service',\n",
       "       'Department of Homeland Security, Transportation Security Administration, Aviation Security',\n",
       "       'Defense Working Capital Funds',\n",
       "       'Grants-in-Aid for Airports - Recovery Act, Federal Aviation Administration, Transportation',\n",
       "       'Department of Homeland Security, Research, Development, Acquisition, and Operations, Science and Technology',\n",
       "       'Centers for Disease Control and Prevention, Public Health Scientific Services',\n",
       "       'National Oceanic and Atmospheric Administration, Procurement, Acquisition and Construction',\n",
       "       'Department of Justice, Anti-Trust Division, Salaries and Expenses',\n",
       "       'Food Safety and Inspection Service',\n",
       "       'Department of State, Unconditional Gift Fund',\n",
       "       'Centers for Disease Control and Prevention, Chronic Disease Prevention and Health Promotion',\n",
       "       'Department of Commerce, Departmental Management, Salaries and Expenses',\n",
       "       'INACTIVE - ESF adjustment for USAID Loans and Grants',\n",
       "       'Demobilization and Transition Fund'], dtype=object)"
      ]
     },
     "execution_count": 11,
     "metadata": {},
     "output_type": "execute_result"
    }
   ],
   "source": [
    "# Too granular\n",
    "df.funding_account_name.unique()"
   ]
  },
  {
   "cell_type": "code",
   "execution_count": 12,
   "metadata": {},
   "outputs": [
    {
     "data": {
      "text/plain": [
       "array(['Department of the Army', 'Department of Defense',\n",
       "       'U.S. Agency for International Development',\n",
       "       'Executive Office of the President', 'Department of State',\n",
       "       'Department of Energy', 'Department of Agriculture',\n",
       "       'Millennium Challenge Corporation', 'Department of the Interior',\n",
       "       'Department of Health and Human Services',\n",
       "       'Department of the Treasury', 'Open World Leadership Center',\n",
       "       'Department of Labor', 'Department of Justice', 'Peace Corps',\n",
       "       'Environmental Protection Agency',\n",
       "       'Department of Homeland Security', 'Department of Commerce',\n",
       "       'Trade and Development Agency', 'Inter-American Foundation',\n",
       "       'Department of Transportation', 'African Development Foundation',\n",
       "       'Corps of Engineers, Civil', 'National Science Foundation',\n",
       "       'Department of the Navy', 'Department of the Air Force',\n",
       "       'Federal Trade Commission'], dtype=object)"
      ]
     },
     "execution_count": 12,
     "metadata": {},
     "output_type": "execute_result"
    }
   ],
   "source": [
    "# Funding information seems redundant, since Implementing Agency already includes much of the information\n",
    "df.funding_agency_name.unique()"
   ]
  },
  {
   "cell_type": "code",
   "execution_count": 13,
   "metadata": {},
   "outputs": [
    {
     "data": {
      "text/plain": [
       "array(['Military', 'Economic'], dtype=object)"
      ]
     },
     "execution_count": 13,
     "metadata": {},
     "output_type": "execute_result"
    }
   ],
   "source": [
    "# Might be redundant (Implementing agency essentially captures this data)\n",
    "df.assistance_category_name.unique()"
   ]
  },
  {
   "cell_type": "code",
   "execution_count": 14,
   "metadata": {},
   "outputs": [
    {
     "data": {
      "text/plain": [
       "array(['Afghanistan Security Force Fund', 'Iraq Security Force Fund',\n",
       "       'Department of Defense - Direct Loans', ...,\n",
       "       'Total Freight for  Wheat, Soy Blend',\n",
       "       'Commodity Value for  Vegetable Oil, bulk / Metric Tons: -5271.',\n",
       "       'Total Freight for  Bulgur / Metric Tons: 7406.8.'], dtype=object)"
      ]
     },
     "execution_count": 14,
     "metadata": {},
     "output_type": "execute_result"
    }
   ],
   "source": [
    "# Remove\n",
    "df.activity_name.unique()"
   ]
  },
  {
   "cell_type": "code",
   "execution_count": 15,
   "metadata": {},
   "outputs": [
    {
     "data": {
      "text/plain": [
       "array(['Obligations', 'Disbursements'], dtype=object)"
      ]
     },
     "execution_count": 15,
     "metadata": {},
     "output_type": "execute_result"
    }
   ],
   "source": [
    "######## Decided to use Obligations instead!! \n",
    "######## Disbursements data didn't have enough data from the 1990s, \n",
    "######## and included negative numbers which likely would have thrown off model\n",
    "\n",
    "# Keep only Disbursements\n",
    "\n",
    "# We only want to look at Disbursements, since that's when money/aid \n",
    "# is actually reaching the countries it's been alloted to \n",
    "# (\"Obligations\" implies the setting aside of money for the cause, \n",
    "# but it could take time for the money to actually reach the intended\n",
    "# country it was promised to... Since we're trying to track the actual \n",
    "# results of the aid, it makes more sense to look at when the money \n",
    "# arrived)\n",
    "\n",
    "# Potential other EDA blurb: Look at how long it takes on average for \n",
    "# money obligated to a cause to be disbursed???\n",
    "\n",
    "df.transaction_type_name.unique()"
   ]
  },
  {
   "cell_type": "code",
   "execution_count": 16,
   "metadata": {},
   "outputs": [],
   "source": [
    "# Current_Amount vs Constant_Amount:\n",
    "# current amount was amount in year money was disbursed, \n",
    "# constant amount converts all those values to 2016 USD values\n",
    "# (keep only constant_amount)"
   ]
  },
  {
   "cell_type": "code",
   "execution_count": 17,
   "metadata": {},
   "outputs": [
    {
     "data": {
      "text/plain": [
       "array(['Stabilization Operations and Security Sector Reform',\n",
       "       'Good Governance', 'Peace and Security - General',\n",
       "       'Macroeconomic Foundation for Growth', 'Infrastructure',\n",
       "       'Counter-Narcotics', 'Rule of Law and Human Rights',\n",
       "       'Protection, Assistance and Solutions', 'Manufacturing',\n",
       "       'Mining and Natural Resources', 'Financial Sector',\n",
       "       'Humanitarian Assistance - General', 'Other Public Health Threats',\n",
       "       'Social Services', 'Water Supply and Sanitation',\n",
       "       'Trade and Investment', 'HIV/AIDS',\n",
       "       'Policies, Regulations, and Systems', 'Environment',\n",
       "       'Social Assistance', 'Conflict Mitigation and Reconciliation',\n",
       "       'Debt Relief', 'Multi-sector - Unspecified',\n",
       "       'Combating Weapons of Mass Destruction (WMD)', 'Agriculture',\n",
       "       'Private Sector Competitiveness', 'Health - General',\n",
       "       'Education and Social Services - General', 'Higher Education',\n",
       "       'Counter-Terrorism', 'Maternal and Child Health', 'Civil Society',\n",
       "       'Direct Administrative Costs', 'Nutrition',\n",
       "       'Economic Development - General', 'Migration Management',\n",
       "       'International Contributions', 'Basic Education', 'Malaria',\n",
       "       'Clean Productive Environment',\n",
       "       'Political Competition and Consensus-Building',\n",
       "       'Economic Opportunity', 'Family Planning and Reproductive Health',\n",
       "       'Pandemic Influenza and Other Emerging Threats (PIOET)',\n",
       "       'Natural Resources and Biodiversity', 'Disaster Readiness',\n",
       "       'Tuberculosis', 'Labor Policies and Markets',\n",
       "       'Environment - General', 'Transnational Crime',\n",
       "       'Monitoring and Evaluation',\n",
       "       'Democracy, Human Rights, and Governance - General'], dtype=object)"
      ]
     },
     "execution_count": 17,
     "metadata": {},
     "output_type": "execute_result"
    }
   ],
   "source": [
    "# This is actually more detailed/better described than dac_sector_name\n",
    "# Use these labels instead\n",
    "df.USG_sector_name.unique()"
   ]
  },
  {
   "cell_type": "markdown",
   "metadata": {},
   "source": [
    "### Delete unnecessary columns"
   ]
  },
  {
   "cell_type": "code",
   "execution_count": 18,
   "metadata": {},
   "outputs": [],
   "source": [
    "df.drop(columns = {'channel_category_name', \n",
    "                   'channel_name', \n",
    "                   'dac_category_name', \n",
    "                   'dac_sector_name', \n",
    "                   'dac_purpose_name', \n",
    "                   'funding_account_name', \n",
    "                   'funding_agency_name', \n",
    "                   'activity_name', \n",
    "                   'current_amount'}, \n",
    "       inplace = True)"
   ]
  },
  {
   "cell_type": "markdown",
   "metadata": {},
   "source": [
    "### Limit data to 'Obligations'"
   ]
  },
  {
   "cell_type": "code",
   "execution_count": 19,
   "metadata": {},
   "outputs": [],
   "source": [
    "df = df.loc[df.transaction_type_name == 'Obligations']"
   ]
  },
  {
   "cell_type": "code",
   "execution_count": 20,
   "metadata": {},
   "outputs": [],
   "source": [
    "df.drop(columns = {'transaction_type_name'}, inplace = True)"
   ]
  },
  {
   "cell_type": "code",
   "execution_count": 21,
   "metadata": {},
   "outputs": [
    {
     "data": {
      "text/plain": [
       "array([2011, 2012, 2013, 2010, 2015, 2008, 2009, 2006, 2014, 2017, 2007,\n",
       "       2003, 2016, 2000, 2005, 2004, 2002, 2001, 1999, 1991, 1994, 1998,\n",
       "       1995, 1993, 1992, 1996, 1997, 1990])"
      ]
     },
     "execution_count": 21,
     "metadata": {},
     "output_type": "execute_result"
    }
   ],
   "source": [
    "df.fiscal_year.unique()"
   ]
  },
  {
   "cell_type": "code",
   "execution_count": 22,
   "metadata": {
    "scrolled": true
   },
   "outputs": [
    {
     "name": "stdout",
     "output_type": "stream",
     "text": [
      "<class 'pandas.core.frame.DataFrame'>\n",
      "Int64Index: 359342 entries, 0 to 986232\n",
      "Data columns (total 8 columns):\n",
      "country_name                359342 non-null object\n",
      "region_name                 359342 non-null object\n",
      "income_group_name           359342 non-null object\n",
      "implementing_agency_name    359342 non-null object\n",
      "assistance_category_name    359342 non-null object\n",
      "fiscal_year                 359342 non-null int64\n",
      "constant_amount             359342 non-null int64\n",
      "USG_sector_name             359342 non-null object\n",
      "dtypes: int64(2), object(6)\n",
      "memory usage: 24.7+ MB\n"
     ]
    }
   ],
   "source": [
    "df.info()"
   ]
  },
  {
   "cell_type": "code",
   "execution_count": 23,
   "metadata": {},
   "outputs": [],
   "source": [
    "# Pickle cleaned dataframe\n",
    "df.to_pickle('./clean_usaid.pkl')"
   ]
  },
  {
   "cell_type": "code",
   "execution_count": null,
   "metadata": {},
   "outputs": [],
   "source": []
  }
 ],
 "metadata": {
  "kernelspec": {
   "display_name": "Python 3",
   "language": "python",
   "name": "python3"
  },
  "language_info": {
   "codemirror_mode": {
    "name": "ipython",
    "version": 3
   },
   "file_extension": ".py",
   "mimetype": "text/x-python",
   "name": "python",
   "nbconvert_exporter": "python",
   "pygments_lexer": "ipython3",
   "version": "3.7.2"
  }
 },
 "nbformat": 4,
 "nbformat_minor": 2
}
