{
 "cells": [
  {
   "cell_type": "code",
   "execution_count": null,
   "metadata": {},
   "outputs": [],
   "source": [
    "import numpy as np\n",
    "import pandas as pd"
   ]
  },
  {
   "cell_type": "code",
   "execution_count": null,
   "metadata": {},
   "outputs": [],
   "source": [
    "# Read in USAID data pickle\n",
    "#df = pd.read_pickle('./usaid_data.pkl')"
   ]
  },
  {
   "cell_type": "code",
   "execution_count": null,
   "metadata": {},
   "outputs": [],
   "source": [
    "## Some initial EDA"
   ]
  },
  {
   "cell_type": "code",
   "execution_count": null,
   "metadata": {},
   "outputs": [],
   "source": [
    "# Take a look at which countries the US has given the most aid to from 1990-2017\n",
    "# Dollar amounts are in 2016 USD\n",
    "df.groupby('country_name').sum().sort_values(\n",
    "    'constant_amount', ascending = False)['constant_amount'].head(20)"
   ]
  },
  {
   "cell_type": "code",
   "execution_count": null,
   "metadata": {},
   "outputs": [],
   "source": [
    "# Plot USAID spending for top 20 countries over time"
   ]
  },
  {
   "cell_type": "code",
   "execution_count": null,
   "metadata": {},
   "outputs": [],
   "source": [
    "# Which income-level countries has the US given the most aid to?\n",
    "df.groupby('income_group_name').sum().sort_values(\n",
    "    'constant_amount', ascending = False)['constant_amount']"
   ]
  },
  {
   "cell_type": "code",
   "execution_count": null,
   "metadata": {},
   "outputs": [],
   "source": [
    "# What type of aid has the US given to High Income Countries?\n",
    "# df.loc[df.income_group_name == 'High Income Country']['USG_sector_name'].unique()\n",
    "\n",
    "### Result: all kinds"
   ]
  },
  {
   "cell_type": "code",
   "execution_count": null,
   "metadata": {},
   "outputs": [],
   "source": [
    "# See how much money has been given to various sector programs/purposes\n",
    "df.groupby('USG_sector_name').sum().sort_values(\n",
    "    'constant_amount', ascending = False)['constant_amount']"
   ]
  },
  {
   "cell_type": "code",
   "execution_count": null,
   "metadata": {},
   "outputs": [],
   "source": [
    "# Where assistance_category_name = 'Military', what are the kinds of programs?\n",
    "df.loc[df['assistance_category_name'] == 'Military']['USG_sector_name'].unique()"
   ]
  },
  {
   "cell_type": "code",
   "execution_count": null,
   "metadata": {},
   "outputs": [],
   "source": [
    "# What are the implementing agencies where assistance category = 'Military'?\n",
    "df.loc[df['assistance_category_name'] == 'Military']['implementing_agency_name'].unique()"
   ]
  },
  {
   "cell_type": "code",
   "execution_count": null,
   "metadata": {},
   "outputs": [],
   "source": [
    "# Where assistance_category_name = 'Economic', what are the kinds of programs?\n",
    "# df.loc[df['assistance_category_name'] == 'Economic']['USG_sector_name'].unique()\n",
    "### Quite a bit of overlap (Economic assistance covers more issues)"
   ]
  },
  {
   "cell_type": "code",
   "execution_count": null,
   "metadata": {},
   "outputs": [],
   "source": [
    "# What are the implementing agencies where assistance category = 'Economic'?\n",
    "df.loc[df['assistance_category_name'] == 'Economic']['implementing_agency_name'].unique()"
   ]
  },
  {
   "cell_type": "code",
   "execution_count": null,
   "metadata": {},
   "outputs": [],
   "source": []
  },
  {
   "cell_type": "code",
   "execution_count": null,
   "metadata": {},
   "outputs": [],
   "source": []
  },
  {
   "cell_type": "code",
   "execution_count": null,
   "metadata": {},
   "outputs": [],
   "source": [
    "# Things to do:\n",
    "\n",
    "# - Map USAID spending for top, like, 20 countries over time\n",
    "# - Bar graph by year for military vs economic expenditures\n",
    "# - Line plot for total economic vs military spending over time\n",
    "# - Line plot comparing US GDP to aid spending?\n",
    "\n",
    "\n",
    "\n",
    "# For main models, \n",
    "# maybe have row for each country, and aggregate sum spent in each \n",
    "# 'dac_purpose_name' entry\n",
    "# or \n",
    "\n",
    "\n",
    "###### input should be percent of GDP spent on aid in a given year?\n",
    "\n",
    "# Figure out if there's a correlation like, every dollar spent results in such and such change\n",
    "\n",
    "#### what if result was HDI score CHANGE for that year (from year before), inputs are country \n",
    "## (countries should be dummy-coded), amount of money spent that year on 'dac_purpose_name'\n",
    "##  -->> use this to figure out which variables/programs have the biggest effect!!!\n"
   ]
  },
  {
   "cell_type": "code",
   "execution_count": null,
   "metadata": {},
   "outputs": [],
   "source": [
    "# First, do we want to see if there's correlation between aid received and HDI? \n",
    "# like graph money given vs HDI "
   ]
  },
  {
   "cell_type": "code",
   "execution_count": null,
   "metadata": {},
   "outputs": [],
   "source": []
  },
  {
   "cell_type": "code",
   "execution_count": null,
   "metadata": {},
   "outputs": [],
   "source": []
  },
  {
   "cell_type": "code",
   "execution_count": null,
   "metadata": {},
   "outputs": [],
   "source": []
  },
  {
   "cell_type": "code",
   "execution_count": null,
   "metadata": {},
   "outputs": [],
   "source": []
  },
  {
   "cell_type": "code",
   "execution_count": null,
   "metadata": {},
   "outputs": [],
   "source": []
  },
  {
   "cell_type": "code",
   "execution_count": null,
   "metadata": {},
   "outputs": [],
   "source": []
  },
  {
   "cell_type": "code",
   "execution_count": null,
   "metadata": {},
   "outputs": [],
   "source": []
  },
  {
   "cell_type": "code",
   "execution_count": null,
   "metadata": {},
   "outputs": [],
   "source": []
  },
  {
   "cell_type": "code",
   "execution_count": null,
   "metadata": {},
   "outputs": [],
   "source": []
  },
  {
   "cell_type": "code",
   "execution_count": null,
   "metadata": {},
   "outputs": [],
   "source": []
  },
  {
   "cell_type": "code",
   "execution_count": null,
   "metadata": {},
   "outputs": [],
   "source": []
  },
  {
   "cell_type": "code",
   "execution_count": null,
   "metadata": {},
   "outputs": [],
   "source": []
  },
  {
   "cell_type": "code",
   "execution_count": null,
   "metadata": {},
   "outputs": [],
   "source": []
  },
  {
   "cell_type": "code",
   "execution_count": null,
   "metadata": {},
   "outputs": [],
   "source": []
  },
  {
   "cell_type": "code",
   "execution_count": null,
   "metadata": {},
   "outputs": [],
   "source": []
  }
 ],
 "metadata": {
  "kernelspec": {
   "display_name": "Python 3",
   "language": "python",
   "name": "python3"
  },
  "language_info": {
   "codemirror_mode": {
    "name": "ipython",
    "version": 3
   },
   "file_extension": ".py",
   "mimetype": "text/x-python",
   "name": "python",
   "nbconvert_exporter": "python",
   "pygments_lexer": "ipython3",
   "version": "3.7.2"
  }
 },
 "nbformat": 4,
 "nbformat_minor": 2
}
