{
 "cells": [
  {
   "cell_type": "markdown",
   "metadata": {},
   "source": [
    "Supply chain resilience definitions:\n",
    "\n",
    "1. The capacity for complex industrial systems to survive, adapt, and grow in the face of turbulent change.\n",
    "\n",
    "2. The ability of a system (supply chain) to return to its original state or move to a new, more desirable state after being disturbed.\n",
    "\n",
    "3. The ability to react to the negative effects caused by disturbances that occur at a given moment in order to maintain the supply chain’s objectives.\n",
    "\n",
    "4. “The adaptive capability of the supply chain to prepare for unexpected events, respond to disruptions, and recover from them by maintaining continuity of operations at the desired level of connectedness and control over structure and function.”\n",
    "\n",
    "5. The ability to maintain control over performance variability in the face of disturbance and a property of being adaptive and capable of sustained response to sudden and significant shifts in the environment in the form of uncertain demands.\n",
    "\n",
    "6. Supply chain resilience is the ability to maintain operations and connectedness under the loss of some structures or functions\n",
    "\n",
    "7. “The ability of a supply chain to both resist disruptions and recover operational capability after disruptions occur.“"
   ]
  },
  {
   "cell_type": "code",
   "execution_count": null,
   "metadata": {},
   "outputs": [],
   "source": []
  }
 ],
 "metadata": {
  "kernelspec": {
   "display_name": "Python 3",
   "language": "python",
   "name": "python3"
  },
  "language_info": {
   "codemirror_mode": {
    "name": "ipython",
    "version": 3
   },
   "file_extension": ".py",
   "mimetype": "text/x-python",
   "name": "python",
   "nbconvert_exporter": "python",
   "pygments_lexer": "ipython3",
   "version": "3.7.2"
  }
 },
 "nbformat": 4,
 "nbformat_minor": 2
}
