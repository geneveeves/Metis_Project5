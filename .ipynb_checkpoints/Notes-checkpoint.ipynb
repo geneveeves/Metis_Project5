{
 "cells": [
  {
   "cell_type": "markdown",
   "metadata": {},
   "source": [
    "Supply chain resilience definitions:\n",
    "\n",
    "1. The capacity for complex industrial systems to survive, adapt, and grow in the face of turbulent change.\n",
    "\n",
    "2. The ability of a system (supply chain) to return to its original state or move to a new, more desirable state after being disturbed.\n",
    "\n",
    "3. The ability to react to the negative effects caused by disturbances that occur at a given moment in order to maintain the supply chain’s objectives.\n",
    "\n",
    "4. “The adaptive capability of the supply chain to prepare for unexpected events, respond to disruptions, and recover from them by maintaining continuity of operations at the desired level of connectedness and control over structure and function.”\n",
    "\n",
    "5. The ability to maintain control over performance variability in the face of disturbance and a property of being adaptive and capable of sustained response to sudden and significant shifts in the environment in the form of uncertain demands.\n",
    "\n",
    "6. Supply chain resilience is the ability to maintain operations and connectedness under the loss of some structures or functions\n",
    "\n",
    "7. “The ability of a supply chain to both resist disruptions and recover operational capability after disruptions occur.“"
   ]
  },
  {
   "cell_type": "markdown",
   "metadata": {},
   "source": [
    "\"This paper reviews the role of climate change vulnerability in identifying least developed countries (LDCs). Taking a sustainable development perspective, it argues that climate change should be seen as an aggravating factor of existing handicaps and many indicators used to identify LDCs already capture relevant structural vulnerabilities to climate change. However, the paper proposes some refinements in the LDC criteria to better capture vulnerabilities from natural disasters and in coastal areas.\" - UN CLIMATE CHANGE VULNERABILITY AND THE IDENTIFICATION OF LEAST DEVELOPED COUNTRIES"
   ]
  },
  {
   "cell_type": "markdown",
   "metadata": {},
   "source": [
    "https://www.cfr.org/backgrounder/how-does-us-spend-its-foreign-aid\n",
    "\n",
    "As former State Department official and aid expert Carol Lancaster pointed out in her book Foreign Aid: Diplomacy, Development, Domestic Politics, modern U.S. aid originated in Cold War geopolitics: the Marshall Plan to rebuild Europe was designed to blunt the influence of rising Communist political forces on the continent. National security concerns have continued to drive U.S. assistance policy, aiming to provide stability in conflicted regions, bolster allies, promote democracy, or contribute to counterterrorism and law enforcement efforts abroad.  \n",
    "\n",
    "Other objectives, related to but separate from U.S. national security, also drive assistance. These include, most notably, humanitarian relief efforts to respond directly to acute disasters, poverty reduction, health care, and other development programs.\n",
    "\n",
    "Long-term development aid (42 percent) provides ongoing funding for projects to promote broad-based economic growth and general prosperity in the world’s poorest countries. More than half of this goes to bilateral health programs, including treatment of HIV/AIDS, maternal and family health, and support for government health-care systems, mostly in Africa. This also includes funding to multilateral institutions such as the World Bank and the UN Development Program.\n",
    "\n",
    "Military and security aid (33 percent) primarily goes toward helping allies purchase U.S. military equipment, training foreign military personnel, and funding peacekeeping missions. A smaller slice goes to “non-military security assistance,” which includes counternarcotics programs in Afghanistan, Colombia, Peru, and elsewhere, as well as nonproliferation and counterterrorism efforts.\n",
    "\n",
    "Humanitarian aid (14 percent) is spent to alleviate short-term humanitarian crises, such as those resulting from famine, earthquakes, war, state failure, or other natural or man-made disasters. This includes State Department and Defense Department disaster relief efforts, as well as purchases of U.S. agricultural goods and funding for organizations such as the International Red Cross and the UN High Commissioner for Refugees.\n",
    "\n",
    "Political aid (11 percent) is intended to support political stability, free-market economic reforms, and democratic institutions. Programs include governance and justice system reforms, backing for human rights organizations, and support for peace talks and treaty implementation.\n",
    "\n"
   ]
  }
 ],
 "metadata": {
  "kernelspec": {
   "display_name": "Python 3",
   "language": "python",
   "name": "python3"
  },
  "language_info": {
   "codemirror_mode": {
    "name": "ipython",
    "version": 3
   },
   "file_extension": ".py",
   "mimetype": "text/x-python",
   "name": "python",
   "nbconvert_exporter": "python",
   "pygments_lexer": "ipython3",
   "version": "3.7.2"
  }
 },
 "nbformat": 4,
 "nbformat_minor": 2
}
