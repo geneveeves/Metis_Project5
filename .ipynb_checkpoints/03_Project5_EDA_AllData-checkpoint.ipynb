{
 "cells": [
  {
   "cell_type": "code",
   "execution_count": 1,
   "metadata": {},
   "outputs": [],
   "source": [
    "# Data\n",
    "import numpy as np\n",
    "import pandas as pd\n",
    "\n",
    "# Plotting\n",
    "import matplotlib.pyplot as plt\n",
    "import seaborn as sns\n",
    "%matplotlib inline \n",
    "%config InlineBackend.figure_formats = ['retina']\n",
    "sns.set_style(\"white\")"
   ]
  },
  {
   "cell_type": "code",
   "execution_count": 2,
   "metadata": {},
   "outputs": [],
   "source": [
    "# Read in clean USAID data pickle\n",
    "usaid = pd.read_pickle('./clean_usaid.pkl')"
   ]
  },
  {
   "cell_type": "code",
   "execution_count": 3,
   "metadata": {
    "scrolled": true
   },
   "outputs": [
    {
     "data": {
      "text/html": [
       "<div>\n",
       "<style scoped>\n",
       "    .dataframe tbody tr th:only-of-type {\n",
       "        vertical-align: middle;\n",
       "    }\n",
       "\n",
       "    .dataframe tbody tr th {\n",
       "        vertical-align: top;\n",
       "    }\n",
       "\n",
       "    .dataframe thead th {\n",
       "        text-align: right;\n",
       "    }\n",
       "</style>\n",
       "<table border=\"1\" class=\"dataframe\">\n",
       "  <thead>\n",
       "    <tr style=\"text-align: right;\">\n",
       "      <th></th>\n",
       "      <th>country_name</th>\n",
       "      <th>region_name</th>\n",
       "      <th>income_group_name</th>\n",
       "      <th>implementing_agency_name</th>\n",
       "      <th>assistance_category_name</th>\n",
       "      <th>fiscal_year</th>\n",
       "      <th>constant_amount</th>\n",
       "      <th>USG_sector_name</th>\n",
       "    </tr>\n",
       "  </thead>\n",
       "  <tbody>\n",
       "    <tr>\n",
       "      <th>0</th>\n",
       "      <td>Afghanistan</td>\n",
       "      <td>South and Central Asia</td>\n",
       "      <td>Low Income Country</td>\n",
       "      <td>Department of Defense</td>\n",
       "      <td>Military</td>\n",
       "      <td>2011</td>\n",
       "      <td>10914528417</td>\n",
       "      <td>Stabilization Operations and Security Sector R...</td>\n",
       "    </tr>\n",
       "    <tr>\n",
       "      <th>1</th>\n",
       "      <td>Afghanistan</td>\n",
       "      <td>South and Central Asia</td>\n",
       "      <td>Low Income Country</td>\n",
       "      <td>Department of Defense</td>\n",
       "      <td>Military</td>\n",
       "      <td>2012</td>\n",
       "      <td>9966142830</td>\n",
       "      <td>Stabilization Operations and Security Sector R...</td>\n",
       "    </tr>\n",
       "    <tr>\n",
       "      <th>4</th>\n",
       "      <td>Afghanistan</td>\n",
       "      <td>South and Central Asia</td>\n",
       "      <td>Low Income Country</td>\n",
       "      <td>Department of Defense</td>\n",
       "      <td>Military</td>\n",
       "      <td>2013</td>\n",
       "      <td>7345968099</td>\n",
       "      <td>Stabilization Operations and Security Sector R...</td>\n",
       "    </tr>\n",
       "    <tr>\n",
       "      <th>7</th>\n",
       "      <td>Afghanistan</td>\n",
       "      <td>South and Central Asia</td>\n",
       "      <td>Low Income Country</td>\n",
       "      <td>Department of Defense</td>\n",
       "      <td>Military</td>\n",
       "      <td>2010</td>\n",
       "      <td>7245724425</td>\n",
       "      <td>Stabilization Operations and Security Sector R...</td>\n",
       "    </tr>\n",
       "    <tr>\n",
       "      <th>9</th>\n",
       "      <td>Afghanistan</td>\n",
       "      <td>South and Central Asia</td>\n",
       "      <td>Low Income Country</td>\n",
       "      <td>Department of Defense</td>\n",
       "      <td>Military</td>\n",
       "      <td>2015</td>\n",
       "      <td>6207678503</td>\n",
       "      <td>Stabilization Operations and Security Sector R...</td>\n",
       "    </tr>\n",
       "  </tbody>\n",
       "</table>\n",
       "</div>"
      ],
      "text/plain": [
       "  country_name             region_name   income_group_name  \\\n",
       "0  Afghanistan  South and Central Asia  Low Income Country   \n",
       "1  Afghanistan  South and Central Asia  Low Income Country   \n",
       "4  Afghanistan  South and Central Asia  Low Income Country   \n",
       "7  Afghanistan  South and Central Asia  Low Income Country   \n",
       "9  Afghanistan  South and Central Asia  Low Income Country   \n",
       "\n",
       "  implementing_agency_name assistance_category_name  fiscal_year  \\\n",
       "0    Department of Defense                 Military         2011   \n",
       "1    Department of Defense                 Military         2012   \n",
       "4    Department of Defense                 Military         2013   \n",
       "7    Department of Defense                 Military         2010   \n",
       "9    Department of Defense                 Military         2015   \n",
       "\n",
       "   constant_amount                                    USG_sector_name  \n",
       "0      10914528417  Stabilization Operations and Security Sector R...  \n",
       "1       9966142830  Stabilization Operations and Security Sector R...  \n",
       "4       7345968099  Stabilization Operations and Security Sector R...  \n",
       "7       7245724425  Stabilization Operations and Security Sector R...  \n",
       "9       6207678503  Stabilization Operations and Security Sector R...  "
      ]
     },
     "execution_count": 3,
     "metadata": {},
     "output_type": "execute_result"
    }
   ],
   "source": [
    "usaid.head()"
   ]
  },
  {
   "cell_type": "code",
   "execution_count": 4,
   "metadata": {},
   "outputs": [
    {
     "name": "stdout",
     "output_type": "stream",
     "text": [
      "<class 'pandas.core.frame.DataFrame'>\n",
      "Int64Index: 359342 entries, 0 to 986232\n",
      "Data columns (total 8 columns):\n",
      "country_name                359342 non-null object\n",
      "region_name                 359342 non-null object\n",
      "income_group_name           359342 non-null object\n",
      "implementing_agency_name    359342 non-null object\n",
      "assistance_category_name    359342 non-null object\n",
      "fiscal_year                 359342 non-null int64\n",
      "constant_amount             359342 non-null int64\n",
      "USG_sector_name             359342 non-null object\n",
      "dtypes: int64(2), object(6)\n",
      "memory usage: 24.7+ MB\n"
     ]
    }
   ],
   "source": [
    "usaid.info()"
   ]
  },
  {
   "cell_type": "code",
   "execution_count": 5,
   "metadata": {},
   "outputs": [],
   "source": [
    "# Read in HDI data pickle\n",
    "hdi = pd.read_pickle('./hdi_data.pkl')"
   ]
  },
  {
   "cell_type": "code",
   "execution_count": 6,
   "metadata": {},
   "outputs": [
    {
     "data": {
      "text/html": [
       "<div>\n",
       "<style scoped>\n",
       "    .dataframe tbody tr th:only-of-type {\n",
       "        vertical-align: middle;\n",
       "    }\n",
       "\n",
       "    .dataframe tbody tr th {\n",
       "        vertical-align: top;\n",
       "    }\n",
       "\n",
       "    .dataframe thead th {\n",
       "        text-align: right;\n",
       "    }\n",
       "</style>\n",
       "<table border=\"1\" class=\"dataframe\">\n",
       "  <thead>\n",
       "    <tr style=\"text-align: right;\">\n",
       "      <th></th>\n",
       "      <th>Country</th>\n",
       "      <th>Year</th>\n",
       "      <th>HDI_Change</th>\n",
       "    </tr>\n",
       "  </thead>\n",
       "  <tbody>\n",
       "    <tr>\n",
       "      <th>0</th>\n",
       "      <td>Afghanistan</td>\n",
       "      <td>1990</td>\n",
       "      <td>NaN</td>\n",
       "    </tr>\n",
       "    <tr>\n",
       "      <th>1</th>\n",
       "      <td>Albania</td>\n",
       "      <td>1990</td>\n",
       "      <td>NaN</td>\n",
       "    </tr>\n",
       "    <tr>\n",
       "      <th>2</th>\n",
       "      <td>Algeria</td>\n",
       "      <td>1990</td>\n",
       "      <td>NaN</td>\n",
       "    </tr>\n",
       "    <tr>\n",
       "      <th>3</th>\n",
       "      <td>Andorra</td>\n",
       "      <td>1990</td>\n",
       "      <td>NaN</td>\n",
       "    </tr>\n",
       "    <tr>\n",
       "      <th>4</th>\n",
       "      <td>Angola</td>\n",
       "      <td>1990</td>\n",
       "      <td>NaN</td>\n",
       "    </tr>\n",
       "  </tbody>\n",
       "</table>\n",
       "</div>"
      ],
      "text/plain": [
       "       Country  Year  HDI_Change\n",
       "0  Afghanistan  1990         NaN\n",
       "1      Albania  1990         NaN\n",
       "2      Algeria  1990         NaN\n",
       "3      Andorra  1990         NaN\n",
       "4       Angola  1990         NaN"
      ]
     },
     "execution_count": 6,
     "metadata": {},
     "output_type": "execute_result"
    }
   ],
   "source": [
    "hdi.head()"
   ]
  },
  {
   "cell_type": "code",
   "execution_count": 7,
   "metadata": {
    "scrolled": true
   },
   "outputs": [
    {
     "name": "stdout",
     "output_type": "stream",
     "text": [
      "<class 'pandas.core.frame.DataFrame'>\n",
      "Int64Index: 5292 entries, 0 to 5318\n",
      "Data columns (total 3 columns):\n",
      "Country       5292 non-null object\n",
      "Year          5292 non-null int64\n",
      "HDI_Change    4565 non-null float64\n",
      "dtypes: float64(1), int64(1), object(1)\n",
      "memory usage: 165.4+ KB\n"
     ]
    }
   ],
   "source": [
    "hdi.info()"
   ]
  },
  {
   "cell_type": "code",
   "execution_count": null,
   "metadata": {},
   "outputs": [],
   "source": []
  },
  {
   "cell_type": "code",
   "execution_count": 8,
   "metadata": {},
   "outputs": [],
   "source": [
    "# Merge dataframes\n",
    "df = pd.merge(usaid, hdi,  \n",
    "              how='left', \n",
    "              left_on=['country_name','fiscal_year'], \n",
    "              right_on = ['Country','Year'])"
   ]
  },
  {
   "cell_type": "code",
   "execution_count": 9,
   "metadata": {},
   "outputs": [
    {
     "data": {
      "text/html": [
       "<div>\n",
       "<style scoped>\n",
       "    .dataframe tbody tr th:only-of-type {\n",
       "        vertical-align: middle;\n",
       "    }\n",
       "\n",
       "    .dataframe tbody tr th {\n",
       "        vertical-align: top;\n",
       "    }\n",
       "\n",
       "    .dataframe thead th {\n",
       "        text-align: right;\n",
       "    }\n",
       "</style>\n",
       "<table border=\"1\" class=\"dataframe\">\n",
       "  <thead>\n",
       "    <tr style=\"text-align: right;\">\n",
       "      <th></th>\n",
       "      <th>country_name</th>\n",
       "      <th>region_name</th>\n",
       "      <th>income_group_name</th>\n",
       "      <th>implementing_agency_name</th>\n",
       "      <th>assistance_category_name</th>\n",
       "      <th>fiscal_year</th>\n",
       "      <th>constant_amount</th>\n",
       "      <th>USG_sector_name</th>\n",
       "      <th>Country</th>\n",
       "      <th>Year</th>\n",
       "      <th>HDI_Change</th>\n",
       "    </tr>\n",
       "  </thead>\n",
       "  <tbody>\n",
       "    <tr>\n",
       "      <th>0</th>\n",
       "      <td>Afghanistan</td>\n",
       "      <td>South and Central Asia</td>\n",
       "      <td>Low Income Country</td>\n",
       "      <td>Department of Defense</td>\n",
       "      <td>Military</td>\n",
       "      <td>2011</td>\n",
       "      <td>10914528417</td>\n",
       "      <td>Stabilization Operations and Security Sector R...</td>\n",
       "      <td>Afghanistan</td>\n",
       "      <td>2011.0</td>\n",
       "      <td>0.008</td>\n",
       "    </tr>\n",
       "    <tr>\n",
       "      <th>1</th>\n",
       "      <td>Afghanistan</td>\n",
       "      <td>South and Central Asia</td>\n",
       "      <td>Low Income Country</td>\n",
       "      <td>Department of Defense</td>\n",
       "      <td>Military</td>\n",
       "      <td>2012</td>\n",
       "      <td>9966142830</td>\n",
       "      <td>Stabilization Operations and Security Sector R...</td>\n",
       "      <td>Afghanistan</td>\n",
       "      <td>2012.0</td>\n",
       "      <td>0.011</td>\n",
       "    </tr>\n",
       "    <tr>\n",
       "      <th>2</th>\n",
       "      <td>Afghanistan</td>\n",
       "      <td>South and Central Asia</td>\n",
       "      <td>Low Income Country</td>\n",
       "      <td>Department of Defense</td>\n",
       "      <td>Military</td>\n",
       "      <td>2013</td>\n",
       "      <td>7345968099</td>\n",
       "      <td>Stabilization Operations and Security Sector R...</td>\n",
       "      <td>Afghanistan</td>\n",
       "      <td>2013.0</td>\n",
       "      <td>0.005</td>\n",
       "    </tr>\n",
       "    <tr>\n",
       "      <th>3</th>\n",
       "      <td>Afghanistan</td>\n",
       "      <td>South and Central Asia</td>\n",
       "      <td>Low Income Country</td>\n",
       "      <td>Department of Defense</td>\n",
       "      <td>Military</td>\n",
       "      <td>2010</td>\n",
       "      <td>7245724425</td>\n",
       "      <td>Stabilization Operations and Security Sector R...</td>\n",
       "      <td>Afghanistan</td>\n",
       "      <td>2010.0</td>\n",
       "      <td>0.010</td>\n",
       "    </tr>\n",
       "    <tr>\n",
       "      <th>4</th>\n",
       "      <td>Afghanistan</td>\n",
       "      <td>South and Central Asia</td>\n",
       "      <td>Low Income Country</td>\n",
       "      <td>Department of Defense</td>\n",
       "      <td>Military</td>\n",
       "      <td>2015</td>\n",
       "      <td>6207678503</td>\n",
       "      <td>Stabilization Operations and Security Sector R...</td>\n",
       "      <td>Afghanistan</td>\n",
       "      <td>2015.0</td>\n",
       "      <td>0.002</td>\n",
       "    </tr>\n",
       "  </tbody>\n",
       "</table>\n",
       "</div>"
      ],
      "text/plain": [
       "  country_name             region_name   income_group_name  \\\n",
       "0  Afghanistan  South and Central Asia  Low Income Country   \n",
       "1  Afghanistan  South and Central Asia  Low Income Country   \n",
       "2  Afghanistan  South and Central Asia  Low Income Country   \n",
       "3  Afghanistan  South and Central Asia  Low Income Country   \n",
       "4  Afghanistan  South and Central Asia  Low Income Country   \n",
       "\n",
       "  implementing_agency_name assistance_category_name  fiscal_year  \\\n",
       "0    Department of Defense                 Military         2011   \n",
       "1    Department of Defense                 Military         2012   \n",
       "2    Department of Defense                 Military         2013   \n",
       "3    Department of Defense                 Military         2010   \n",
       "4    Department of Defense                 Military         2015   \n",
       "\n",
       "   constant_amount                                    USG_sector_name  \\\n",
       "0      10914528417  Stabilization Operations and Security Sector R...   \n",
       "1       9966142830  Stabilization Operations and Security Sector R...   \n",
       "2       7345968099  Stabilization Operations and Security Sector R...   \n",
       "3       7245724425  Stabilization Operations and Security Sector R...   \n",
       "4       6207678503  Stabilization Operations and Security Sector R...   \n",
       "\n",
       "       Country    Year  HDI_Change  \n",
       "0  Afghanistan  2011.0       0.008  \n",
       "1  Afghanistan  2012.0       0.011  \n",
       "2  Afghanistan  2013.0       0.005  \n",
       "3  Afghanistan  2010.0       0.010  \n",
       "4  Afghanistan  2015.0       0.002  "
      ]
     },
     "execution_count": 9,
     "metadata": {},
     "output_type": "execute_result"
    }
   ],
   "source": [
    "df.head()"
   ]
  },
  {
   "cell_type": "code",
   "execution_count": 10,
   "metadata": {},
   "outputs": [
    {
     "name": "stdout",
     "output_type": "stream",
     "text": [
      "<class 'pandas.core.frame.DataFrame'>\n",
      "Int64Index: 359342 entries, 0 to 359341\n",
      "Data columns (total 11 columns):\n",
      "country_name                359342 non-null object\n",
      "region_name                 359342 non-null object\n",
      "income_group_name           359342 non-null object\n",
      "implementing_agency_name    359342 non-null object\n",
      "assistance_category_name    359342 non-null object\n",
      "fiscal_year                 359342 non-null int64\n",
      "constant_amount             359342 non-null int64\n",
      "USG_sector_name             359342 non-null object\n",
      "Country                     355238 non-null object\n",
      "Year                        355238 non-null float64\n",
      "HDI_Change                  345050 non-null float64\n",
      "dtypes: float64(2), int64(2), object(7)\n",
      "memory usage: 32.9+ MB\n"
     ]
    }
   ],
   "source": [
    "df.info()"
   ]
  },
  {
   "cell_type": "code",
   "execution_count": 11,
   "metadata": {},
   "outputs": [],
   "source": [
    "# Drop redundant columns\n",
    "df.drop(columns = {'Country', 'Year'}, inplace = True)"
   ]
  },
  {
   "cell_type": "code",
   "execution_count": 12,
   "metadata": {
    "scrolled": true
   },
   "outputs": [
    {
     "name": "stdout",
     "output_type": "stream",
     "text": [
      "<class 'pandas.core.frame.DataFrame'>\n",
      "Int64Index: 359342 entries, 0 to 359341\n",
      "Data columns (total 9 columns):\n",
      "country_name                359342 non-null object\n",
      "region_name                 359342 non-null object\n",
      "income_group_name           359342 non-null object\n",
      "implementing_agency_name    359342 non-null object\n",
      "assistance_category_name    359342 non-null object\n",
      "fiscal_year                 359342 non-null int64\n",
      "constant_amount             359342 non-null int64\n",
      "USG_sector_name             359342 non-null object\n",
      "HDI_Change                  345050 non-null float64\n",
      "dtypes: float64(1), int64(2), object(6)\n",
      "memory usage: 27.4+ MB\n"
     ]
    }
   ],
   "source": [
    "df.info()"
   ]
  },
  {
   "cell_type": "code",
   "execution_count": 13,
   "metadata": {},
   "outputs": [
    {
     "data": {
      "text/plain": [
       "{'Andorra', 'Liechtenstein', 'United States'}"
      ]
     },
     "execution_count": 13,
     "metadata": {},
     "output_type": "execute_result"
    }
   ],
   "source": [
    "# Countries in the UN HDI dataset that the US has not given aid to\n",
    "set(hdi.Country) - (set(usaid.country_name) & set(hdi.Country)) "
   ]
  },
  {
   "cell_type": "code",
   "execution_count": 14,
   "metadata": {},
   "outputs": [
    {
     "data": {
      "text/plain": [
       "{'Aruba',\n",
       " 'Bermuda',\n",
       " 'British Virgin Islands',\n",
       " 'Cayman Islands',\n",
       " 'China, Republic of (Taiwan)',\n",
       " 'Curacao',\n",
       " 'Korea, Democratic Republic',\n",
       " 'Kosovo',\n",
       " 'Macau',\n",
       " 'Nauru',\n",
       " 'New Caledonia',\n",
       " 'Somalia',\n",
       " 'Turks and Caicos Islands',\n",
       " 'Tuvalu'}"
      ]
     },
     "execution_count": 14,
     "metadata": {},
     "output_type": "execute_result"
    }
   ],
   "source": [
    "# Countries the US has given to that are not included in the UN HDI dataset\n",
    "set(usaid.country_name) - (set(usaid.country_name) & set(hdi.Country))"
   ]
  },
  {
   "cell_type": "code",
   "execution_count": 15,
   "metadata": {},
   "outputs": [],
   "source": [
    "# Drop Null Values for 'HDI_Change'\n",
    "df = df[pd.notnull(df['HDI_Change'])]"
   ]
  },
  {
   "cell_type": "code",
   "execution_count": 16,
   "metadata": {},
   "outputs": [
    {
     "name": "stdout",
     "output_type": "stream",
     "text": [
      "<class 'pandas.core.frame.DataFrame'>\n",
      "Int64Index: 345050 entries, 0 to 359341\n",
      "Data columns (total 9 columns):\n",
      "country_name                345050 non-null object\n",
      "region_name                 345050 non-null object\n",
      "income_group_name           345050 non-null object\n",
      "implementing_agency_name    345050 non-null object\n",
      "assistance_category_name    345050 non-null object\n",
      "fiscal_year                 345050 non-null int64\n",
      "constant_amount             345050 non-null int64\n",
      "USG_sector_name             345050 non-null object\n",
      "HDI_Change                  345050 non-null float64\n",
      "dtypes: float64(1), int64(2), object(6)\n",
      "memory usage: 26.3+ MB\n"
     ]
    }
   ],
   "source": [
    "df.info()"
   ]
  },
  {
   "cell_type": "code",
   "execution_count": 17,
   "metadata": {},
   "outputs": [
    {
     "data": {
      "text/html": [
       "<div>\n",
       "<style scoped>\n",
       "    .dataframe tbody tr th:only-of-type {\n",
       "        vertical-align: middle;\n",
       "    }\n",
       "\n",
       "    .dataframe tbody tr th {\n",
       "        vertical-align: top;\n",
       "    }\n",
       "\n",
       "    .dataframe thead th {\n",
       "        text-align: right;\n",
       "    }\n",
       "</style>\n",
       "<table border=\"1\" class=\"dataframe\">\n",
       "  <thead>\n",
       "    <tr style=\"text-align: right;\">\n",
       "      <th></th>\n",
       "      <th>country_name</th>\n",
       "      <th>region_name</th>\n",
       "      <th>income_group_name</th>\n",
       "      <th>fiscal_year</th>\n",
       "      <th>HDI_Change</th>\n",
       "      <th>assistance_category_name</th>\n",
       "      <th>implementing_agency_name</th>\n",
       "      <th>USG_sector_name</th>\n",
       "      <th>constant_amount</th>\n",
       "    </tr>\n",
       "  </thead>\n",
       "  <tbody>\n",
       "    <tr>\n",
       "      <th>0</th>\n",
       "      <td>Afghanistan</td>\n",
       "      <td>South and Central Asia</td>\n",
       "      <td>Low Income Country</td>\n",
       "      <td>2003</td>\n",
       "      <td>0.01</td>\n",
       "      <td>Economic</td>\n",
       "      <td>Department of Agriculture</td>\n",
       "      <td>Agriculture</td>\n",
       "      <td>7053065</td>\n",
       "    </tr>\n",
       "    <tr>\n",
       "      <th>1</th>\n",
       "      <td>Afghanistan</td>\n",
       "      <td>South and Central Asia</td>\n",
       "      <td>Low Income Country</td>\n",
       "      <td>2003</td>\n",
       "      <td>0.01</td>\n",
       "      <td>Economic</td>\n",
       "      <td>Department of Agriculture</td>\n",
       "      <td>Natural Resources and Biodiversity</td>\n",
       "      <td>34632</td>\n",
       "    </tr>\n",
       "    <tr>\n",
       "      <th>2</th>\n",
       "      <td>Afghanistan</td>\n",
       "      <td>South and Central Asia</td>\n",
       "      <td>Low Income Country</td>\n",
       "      <td>2003</td>\n",
       "      <td>0.01</td>\n",
       "      <td>Economic</td>\n",
       "      <td>Department of Agriculture</td>\n",
       "      <td>Nutrition</td>\n",
       "      <td>4392782</td>\n",
       "    </tr>\n",
       "    <tr>\n",
       "      <th>3</th>\n",
       "      <td>Afghanistan</td>\n",
       "      <td>South and Central Asia</td>\n",
       "      <td>Low Income Country</td>\n",
       "      <td>2003</td>\n",
       "      <td>0.01</td>\n",
       "      <td>Economic</td>\n",
       "      <td>Department of Health and Human Services</td>\n",
       "      <td>Pandemic Influenza and Other Emerging Threats ...</td>\n",
       "      <td>3976353</td>\n",
       "    </tr>\n",
       "    <tr>\n",
       "      <th>4</th>\n",
       "      <td>Afghanistan</td>\n",
       "      <td>South and Central Asia</td>\n",
       "      <td>Low Income Country</td>\n",
       "      <td>2003</td>\n",
       "      <td>0.01</td>\n",
       "      <td>Economic</td>\n",
       "      <td>Department of Health and Human Services</td>\n",
       "      <td>Stabilization Operations and Security Sector R...</td>\n",
       "      <td>915696</td>\n",
       "    </tr>\n",
       "  </tbody>\n",
       "</table>\n",
       "</div>"
      ],
      "text/plain": [
       "  country_name             region_name   income_group_name  fiscal_year  \\\n",
       "0  Afghanistan  South and Central Asia  Low Income Country         2003   \n",
       "1  Afghanistan  South and Central Asia  Low Income Country         2003   \n",
       "2  Afghanistan  South and Central Asia  Low Income Country         2003   \n",
       "3  Afghanistan  South and Central Asia  Low Income Country         2003   \n",
       "4  Afghanistan  South and Central Asia  Low Income Country         2003   \n",
       "\n",
       "   HDI_Change assistance_category_name  \\\n",
       "0        0.01                 Economic   \n",
       "1        0.01                 Economic   \n",
       "2        0.01                 Economic   \n",
       "3        0.01                 Economic   \n",
       "4        0.01                 Economic   \n",
       "\n",
       "                  implementing_agency_name  \\\n",
       "0                Department of Agriculture   \n",
       "1                Department of Agriculture   \n",
       "2                Department of Agriculture   \n",
       "3  Department of Health and Human Services   \n",
       "4  Department of Health and Human Services   \n",
       "\n",
       "                                     USG_sector_name  constant_amount  \n",
       "0                                        Agriculture          7053065  \n",
       "1                 Natural Resources and Biodiversity            34632  \n",
       "2                                          Nutrition          4392782  \n",
       "3  Pandemic Influenza and Other Emerging Threats ...          3976353  \n",
       "4  Stabilization Operations and Security Sector R...           915696  "
      ]
     },
     "execution_count": 17,
     "metadata": {},
     "output_type": "execute_result"
    }
   ],
   "source": [
    "### Need to aggregate all individual expenses, sum total aid\n",
    "### Break down by country/region/income/year/HDI(same for all \n",
    "### categories for country in given year), then break down by \n",
    "### Miltary/Economic aid, implementing agency, and Sector\n",
    "\n",
    "df = df.groupby(['country_name', \n",
    "                 'region_name', \n",
    "                 'income_group_name', \n",
    "                 'fiscal_year', \n",
    "                 'HDI_Change',  \n",
    "                 'assistance_category_name', \n",
    "                 'implementing_agency_name', \n",
    "                 'USG_sector_name']\n",
    "               ).agg({'constant_amount': 'sum'})\n",
    "\n",
    "df = df.reset_index()\n",
    "df.head()"
   ]
  },
  {
   "cell_type": "code",
   "execution_count": 18,
   "metadata": {},
   "outputs": [
    {
     "name": "stdout",
     "output_type": "stream",
     "text": [
      "<class 'pandas.core.frame.DataFrame'>\n",
      "RangeIndex: 58567 entries, 0 to 58566\n",
      "Data columns (total 9 columns):\n",
      "country_name                58567 non-null object\n",
      "region_name                 58567 non-null object\n",
      "income_group_name           58567 non-null object\n",
      "fiscal_year                 58567 non-null int64\n",
      "HDI_Change                  58567 non-null float64\n",
      "assistance_category_name    58567 non-null object\n",
      "implementing_agency_name    58567 non-null object\n",
      "USG_sector_name             58567 non-null object\n",
      "constant_amount             58567 non-null int64\n",
      "dtypes: float64(1), int64(2), object(6)\n",
      "memory usage: 4.0+ MB\n"
     ]
    }
   ],
   "source": [
    "df.info()"
   ]
  },
  {
   "cell_type": "code",
   "execution_count": 19,
   "metadata": {},
   "outputs": [],
   "source": [
    "# Pickle combined df\n",
    "df.to_pickle('./all_data.pkl')"
   ]
  },
  {
   "cell_type": "code",
   "execution_count": 20,
   "metadata": {},
   "outputs": [],
   "source": [
    "# Write CSV of combined df\n",
    "df.to_csv('./all_data.csv')"
   ]
  },
  {
   "cell_type": "markdown",
   "metadata": {},
   "source": [
    "# Some initial EDA"
   ]
  },
  {
   "cell_type": "code",
   "execution_count": 21,
   "metadata": {},
   "outputs": [
    {
     "data": {
      "text/plain": [
       "country_name\n",
       "Afghanistan       113713671984\n",
       "Israel            105634567681\n",
       "Iraq               81072734976\n",
       "Egypt              63812663206\n",
       "Russia             24114733497\n",
       "Jordan             19683231880\n",
       "Pakistan           19678442492\n",
       "Colombia           15597712662\n",
       "Ethiopia           12636119425\n",
       "Kenya              11847147070\n",
       "Uganda              8174847513\n",
       "South Africa        8010610113\n",
       "Haiti               7996507804\n",
       "Tanzania            7291494111\n",
       "West Bank/Gaza      7229312271\n",
       "Ukraine             7219697456\n",
       "Turkey              7190298449\n",
       "Poland              6838853233\n",
       "Mozambique          6701059711\n",
       "Nigeria             6660042885\n",
       "Name: constant_amount, dtype: int64"
      ]
     },
     "execution_count": 21,
     "metadata": {},
     "output_type": "execute_result"
    }
   ],
   "source": [
    "# Take a look at which countries the US has given the most aid to from 1990-2017\n",
    "# Dollar amounts are in 2016 USD\n",
    "df.groupby('country_name').sum().sort_values(\n",
    "    'constant_amount', ascending = False)['constant_amount'].head(20)"
   ]
  },
  {
   "cell_type": "code",
   "execution_count": 22,
   "metadata": {},
   "outputs": [],
   "source": [
    "# Plot USAID spending for top 20 countries over time"
   ]
  },
  {
   "cell_type": "code",
   "execution_count": 23,
   "metadata": {},
   "outputs": [
    {
     "data": {
      "text/plain": [
       "income_group_name\n",
       "Lower Middle Income Country    204628366786\n",
       "Upper Middle Income Country    204242652419\n",
       "Low Income Country             203132964084\n",
       "High Income Country            123339226127\n",
       "Name: constant_amount, dtype: int64"
      ]
     },
     "execution_count": 23,
     "metadata": {},
     "output_type": "execute_result"
    }
   ],
   "source": [
    "# Which income-level countries has the US given the most aid to?\n",
    "df.groupby('income_group_name').sum().sort_values(\n",
    "    'constant_amount', ascending = False)['constant_amount']"
   ]
  },
  {
   "cell_type": "code",
   "execution_count": 24,
   "metadata": {},
   "outputs": [],
   "source": [
    "# What type of aid has the US given to High Income Countries?\n",
    "# df.loc[df.income_group_name == 'High Income Country']['USG_sector_name'].unique()\n",
    "\n",
    "### Result: all kinds"
   ]
  },
  {
   "cell_type": "code",
   "execution_count": 25,
   "metadata": {},
   "outputs": [
    {
     "data": {
      "text/plain": [
       "USG_sector_name\n",
       "Stabilization Operations and Security Sector Reform      286141993002\n",
       "Macroeconomic Foundation for Growth                       79220921997\n",
       "Protection, Assistance and Solutions                      71408999491\n",
       "HIV/AIDS                                                  40365634293\n",
       "Rule of Law and Human Rights                              29953949996\n",
       "Infrastructure                                            27322817469\n",
       "Good Governance                                           20424632542\n",
       "Counter-Narcotics                                         18789109451\n",
       "Agriculture                                               14577101184\n",
       "Direct Administrative Costs                               14376888607\n",
       "Combating Weapons of Mass Destruction (WMD)                9885321046\n",
       "Basic Education                                            8484174416\n",
       "Private Sector Competitiveness                             7744042513\n",
       "Social Services                                            7612461308\n",
       "Water Supply and Sanitation                                7575150914\n",
       "Conflict Mitigation and Reconciliation                     7265826195\n",
       "Social Assistance                                          6470409527\n",
       "Peace and Security - General                               6178943470\n",
       "Maternal and Child Health                                  5321005409\n",
       "Financial Sector                                           5167317610\n",
       "Civil Society                                              5154242172\n",
       "Malaria                                                    5044506821\n",
       "Family Planning and Reproductive Health                    4849960236\n",
       "Other Public Health Threats                                4633576217\n",
       "Economic Opportunity                                       3715011352\n",
       "Trade and Investment                                       3625382001\n",
       "Counter-Terrorism                                          3248577193\n",
       "Nutrition                                                  2759852640\n",
       "Clean Productive Environment                               2674217195\n",
       "Mining and Natural Resources                               2651624711\n",
       "Natural Resources and Biodiversity                         2203211000\n",
       "Policies, Regulations, and Systems                         2140217815\n",
       "Pandemic Influenza and Other Emerging Threats (PIOET)      2110370953\n",
       "Political Competition and Consensus-Building               2105488744\n",
       "Health - General                                           1992532594\n",
       "Higher Education                                           1915013636\n",
       "Multi-sector - Unspecified                                 1827753701\n",
       "Tuberculosis                                               1455732079\n",
       "Education and Social Services - General                    1113262210\n",
       "Manufacturing                                               968830103\n",
       "Humanitarian Assistance - General                           932791499\n",
       "Disaster Readiness                                          727219871\n",
       "Labor Policies and Markets                                  721880124\n",
       "Environment                                                 501889675\n",
       "Debt Relief                                                 500384598\n",
       "Economic Development - General                              395226126\n",
       "Transnational Crime                                         374003274\n",
       "Monitoring and Evaluation                                   245256718\n",
       "Environment - General                                       164794632\n",
       "Migration Management                                        149662331\n",
       "International Contributions                                  82754367\n",
       "Democracy, Human Rights, and Governance - General            71282388\n",
       "Name: constant_amount, dtype: int64"
      ]
     },
     "execution_count": 25,
     "metadata": {},
     "output_type": "execute_result"
    }
   ],
   "source": [
    "# See how much money has been given to various sector programs/purposes\n",
    "df.groupby('USG_sector_name').sum().sort_values(\n",
    "    'constant_amount', ascending = False)['constant_amount']"
   ]
  },
  {
   "cell_type": "code",
   "execution_count": 26,
   "metadata": {},
   "outputs": [
    {
     "data": {
      "text/plain": [
       "array(['Counter-Narcotics',\n",
       "       'Stabilization Operations and Security Sector Reform',\n",
       "       'Combating Weapons of Mass Destruction (WMD)', 'Counter-Terrorism',\n",
       "       'Peace and Security - General', 'Multi-sector - Unspecified',\n",
       "       'Conflict Mitigation and Reconciliation', 'Infrastructure',\n",
       "       'Trade and Investment', 'Health - General',\n",
       "       'Rule of Law and Human Rights', 'Water Supply and Sanitation',\n",
       "       'Good Governance'], dtype=object)"
      ]
     },
     "execution_count": 26,
     "metadata": {},
     "output_type": "execute_result"
    }
   ],
   "source": [
    "# Where assistance_category_name = 'Military', what are the kinds of programs?\n",
    "df.loc[df['assistance_category_name'] == 'Military']['USG_sector_name'].unique()"
   ]
  },
  {
   "cell_type": "code",
   "execution_count": 27,
   "metadata": {},
   "outputs": [
    {
     "data": {
      "text/plain": [
       "array(['Department of Defense', 'Department of the Army',\n",
       "       'Department of State', 'Department of the Navy',\n",
       "       'Department of the Air Force', 'Department of Homeland Security'],\n",
       "      dtype=object)"
      ]
     },
     "execution_count": 27,
     "metadata": {},
     "output_type": "execute_result"
    }
   ],
   "source": [
    "# What are the implementing agencies where assistance category = 'Military'?\n",
    "df.loc[df['assistance_category_name'] == 'Military']['implementing_agency_name'].unique()"
   ]
  },
  {
   "cell_type": "code",
   "execution_count": 28,
   "metadata": {},
   "outputs": [],
   "source": [
    "# Where assistance_category_name = 'Economic', what are the kinds of programs?\n",
    "# df.loc[df['assistance_category_name'] == 'Economic']['USG_sector_name'].unique()\n",
    "### Quite a bit of overlap (Economic assistance covers more issues)"
   ]
  },
  {
   "cell_type": "code",
   "execution_count": 29,
   "metadata": {},
   "outputs": [
    {
     "data": {
      "text/plain": [
       "array(['Department of Agriculture',\n",
       "       'Department of Health and Human Services', 'Department of Labor',\n",
       "       'Department of State', 'Department of the Treasury',\n",
       "       'Trade and Development Agency',\n",
       "       'U.S. Agency for International Development',\n",
       "       'Department of the Army', 'Department of Defense',\n",
       "       'Department of Transportation', 'Department of Homeland Security',\n",
       "       'Department of Justice', 'Department of Energy',\n",
       "       'Department of Commerce', 'Peace Corps',\n",
       "       'Millennium Challenge Corporation', 'Department of the Interior',\n",
       "       'African Development Foundation', 'Inter-American Foundation',\n",
       "       'Environmental Protection Agency', 'National Science Foundation',\n",
       "       'Open World Leadership Center', 'Federal Trade Commission',\n",
       "       'United States Institute of Peace',\n",
       "       'Overseas Private Investment Corporation'], dtype=object)"
      ]
     },
     "execution_count": 29,
     "metadata": {},
     "output_type": "execute_result"
    }
   ],
   "source": [
    "# What are the implementing agencies where assistance category = 'Economic'?\n",
    "df.loc[df['assistance_category_name'] == 'Economic']['implementing_agency_name'].unique()"
   ]
  },
  {
   "cell_type": "code",
   "execution_count": 30,
   "metadata": {
    "scrolled": false
   },
   "outputs": [
    {
     "data": {
      "text/plain": [
       "<matplotlib.axes._subplots.AxesSubplot at 0x110592e80>"
      ]
     },
     "execution_count": 30,
     "metadata": {},
     "output_type": "execute_result"
    },
    {
     "data": {
      "image/png": "[encoded data removed]",
      "text/plain": [
       "<Figure size 432x288 with 1 Axes>"
      ]
     },
     "metadata": {
      "image/png": {
       "height": 272,
       "width": 371
      },
      "needs_background": "light"
     },
     "output_type": "display_data"
    }
   ],
   "source": [
    "# How much has the goverment given to aid each year?\n",
    "total_aid_by_year = df.groupby('fiscal_year').sum().sort_values('fiscal_year', ascending = False)['constant_amount']\n",
    "total_aid_by_year.plot()\n",
    "\n",
    "# Looks like aid increased significantly after 9/11 and the Iraq War"
   ]
  },
  {
   "cell_type": "code",
   "execution_count": 31,
   "metadata": {
    "scrolled": false
   },
   "outputs": [
    {
     "data": {
      "text/plain": [
       "fiscal_year\n",
       "2017    34924953720\n",
       "2016    35942127634\n",
       "2015    36716358968\n",
       "2014    31197433715\n",
       "2013    35565150383\n",
       "2012    40405147700\n",
       "2011    41073345423\n",
       "2010    41383128774\n",
       "2009    40261017563\n",
       "2008    42493010981\n",
       "2007    35983314683\n",
       "2006    35376610445\n",
       "2005    32823204483\n",
       "2004    31036039573\n",
       "2003    32020280627\n",
       "2002    17515478283\n",
       "2001    15008100005\n",
       "2000    16796749411\n",
       "1999    16537289536\n",
       "1998    13399074875\n",
       "1997    12518446732\n",
       "1996    13843364304\n",
       "1995    14705025205\n",
       "1994    16550978788\n",
       "1993    16699876420\n",
       "1992    15698755470\n",
       "1991    18868945715\n",
       "Name: constant_amount, dtype: int64"
      ]
     },
     "execution_count": 31,
     "metadata": {},
     "output_type": "execute_result"
    }
   ],
   "source": [
    "total_aid_by_year"
   ]
  },
  {
   "cell_type": "code",
   "execution_count": 32,
   "metadata": {},
   "outputs": [],
   "source": [
    "# Plot economic aid by year (wonder if it's different)\n",
    "\n",
    "#economic_aid_by_year = \n",
    "economic_aid = df.loc[df['assistance_category_name'] == 'Economic']\n",
    "\n",
    "economic_aid_by_year = economic_aid.groupby('fiscal_year').sum().sort_values(\n",
    "    'fiscal_year', ascending = False)['constant_amount']\n"
   ]
  },
  {
   "cell_type": "code",
   "execution_count": 33,
   "metadata": {},
   "outputs": [
    {
     "data": {
      "text/plain": [
       "<matplotlib.axes._subplots.AxesSubplot at 0x1a287a7a20>"
      ]
     },
     "execution_count": 33,
     "metadata": {},
     "output_type": "execute_result"
    },
    {
     "data": {
      "image/png": "[encoded data removed]",
      "text/plain": [
       "<Figure size 432x288 with 1 Axes>"
      ]
     },
     "metadata": {
      "image/png": {
       "height": 272,
       "width": 377
      },
      "needs_background": "light"
     },
     "output_type": "display_data"
    }
   ],
   "source": [
    "economic_aid_by_year.plot()"
   ]
  },
  {
   "cell_type": "code",
   "execution_count": 34,
   "metadata": {},
   "outputs": [],
   "source": [
    "# Things to do:\n",
    "\n",
    "# - Map USAID spending for top, like, 20 countries over time\n",
    "# - Bar graph by year for military vs economic expenditures\n",
    "# - Line plot for total economic vs military spending over time\n",
    "# - Line plot comparing US GDP to aid spending?\n",
    "\n",
    "\n",
    "\n",
    "# For main models, \n",
    "# maybe have row for each country, and aggregate sum spent in each \n",
    "# 'dac_purpose_name' entry\n",
    "# or \n",
    "\n",
    "\n",
    "###### input should be percent of GDP spent on aid in a given year?\n",
    "\n",
    "# Figure out if there's a correlation like, every dollar spent results in such and such change\n",
    "\n",
    "#### what if result was HDI score CHANGE for that year (from year before), inputs are country \n",
    "## (countries should be dummy-coded), amount of money spent that year on 'dac_purpose_name'\n",
    "##  -->> use this to figure out which variables/programs have the biggest effect!!!\n"
   ]
  },
  {
   "cell_type": "code",
   "execution_count": 35,
   "metadata": {},
   "outputs": [],
   "source": [
    "# First, do we want to see if there's correlation between aid received and HDI? \n",
    "# like graph money given vs HDI "
   ]
  },
  {
   "cell_type": "code",
   "execution_count": null,
   "metadata": {},
   "outputs": [],
   "source": []
  },
  {
   "cell_type": "code",
   "execution_count": null,
   "metadata": {},
   "outputs": [],
   "source": []
  },
  {
   "cell_type": "code",
   "execution_count": null,
   "metadata": {},
   "outputs": [],
   "source": []
  },
  {
   "cell_type": "code",
   "execution_count": null,
   "metadata": {},
   "outputs": [],
   "source": []
  },
  {
   "cell_type": "code",
   "execution_count": null,
   "metadata": {},
   "outputs": [],
   "source": []
  },
  {
   "cell_type": "code",
   "execution_count": null,
   "metadata": {},
   "outputs": [],
   "source": []
  },
  {
   "cell_type": "code",
   "execution_count": null,
   "metadata": {},
   "outputs": [],
   "source": []
  },
  {
   "cell_type": "code",
   "execution_count": null,
   "metadata": {},
   "outputs": [],
   "source": []
  },
  {
   "cell_type": "code",
   "execution_count": null,
   "metadata": {},
   "outputs": [],
   "source": []
  },
  {
   "cell_type": "code",
   "execution_count": null,
   "metadata": {},
   "outputs": [],
   "source": []
  },
  {
   "cell_type": "code",
   "execution_count": null,
   "metadata": {},
   "outputs": [],
   "source": []
  },
  {
   "cell_type": "code",
   "execution_count": null,
   "metadata": {},
   "outputs": [],
   "source": []
  },
  {
   "cell_type": "code",
   "execution_count": null,
   "metadata": {},
   "outputs": [],
   "source": []
  },
  {
   "cell_type": "code",
   "execution_count": null,
   "metadata": {},
   "outputs": [],
   "source": []
  },
  {
   "cell_type": "code",
   "execution_count": null,
   "metadata": {},
   "outputs": [],
   "source": []
  }
 ],
 "metadata": {
  "kernelspec": {
   "display_name": "Python 3",
   "language": "python",
   "name": "python3"
  },
  "language_info": {
   "codemirror_mode": {
    "name": "ipython",
    "version": 3
   },
   "file_extension": ".py",
   "mimetype": "text/x-python",
   "name": "python",
   "nbconvert_exporter": "python",
   "pygments_lexer": "ipython3",
   "version": "3.7.2"
  }
 },
 "nbformat": 4,
 "nbformat_minor": 2
}
