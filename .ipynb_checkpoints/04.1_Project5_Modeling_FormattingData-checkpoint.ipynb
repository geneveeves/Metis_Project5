{
 "cells": [
  {
   "cell_type": "code",
   "execution_count": 1,
   "metadata": {},
   "outputs": [],
   "source": [
    "from IPython.core.display import display, HTML\n",
    "display(HTML(\"<style>.container { width:95% !important; }</style>\"))"
   ]
  },
  {
   "cell_type": "code",
   "execution_count": 2,
   "metadata": {},
   "outputs": [
    {
     "name": "stdout",
     "output_type": "stream",
     "text": [
      "Requirement already satisfied: xgboost in /anaconda3/lib/python3.7/site-packages (0.90)\r\n",
      "Requirement already satisfied: scipy in /anaconda3/lib/python3.7/site-packages (from xgboost) (1.2.1)\r\n",
      "Requirement already satisfied: numpy in /anaconda3/lib/python3.7/site-packages (from xgboost) (1.16.2)\r\n"
     ]
    }
   ],
   "source": [
    "!pip install xgboost"
   ]
  },
  {
   "cell_type": "code",
   "execution_count": 3,
   "metadata": {},
   "outputs": [],
   "source": [
    "# Data\n",
    "import numpy as np\n",
    "import pandas as pd\n",
    "\n",
    "# Modeling\n",
    "import patsy\n",
    "import statsmodels.api as sm\n",
    "import statsmodels.formula.api as smf\n",
    "from sklearn.preprocessing import LabelEncoder, OneHotEncoder\n",
    "from sklearn.model_selection import train_test_split, GridSearchCV\n",
    "#from sklearn.metrics import precision_score, recall_score, precision_recall_curve,f1_score, fbeta_score\n",
    "#from sklearn.metrics import confusion_matrix\n",
    "\n",
    "from sklearn.model_selection import train_test_split\n",
    "from sklearn.linear_model import LinearRegression, Lasso, LassoCV, Ridge, RidgeCV\n",
    "from sklearn.metrics import r2_score\n",
    "\n",
    "# Plotting\n",
    "import matplotlib.pyplot as plt\n",
    "import seaborn as sns\n",
    "%matplotlib inline \n",
    "%config InlineBackend.figure_formats = ['retina']\n",
    "sns.set_style(\"white\")"
   ]
  },
  {
   "cell_type": "code",
   "execution_count": 4,
   "metadata": {},
   "outputs": [],
   "source": [
    "# Import pickled df with all data\n",
    "df = pd.read_pickle('./all_data.pkl')"
   ]
  },
  {
   "cell_type": "code",
   "execution_count": 5,
   "metadata": {
    "scrolled": true
   },
   "outputs": [
    {
     "name": "stdout",
     "output_type": "stream",
     "text": [
      "<class 'pandas.core.frame.DataFrame'>\n",
      "RangeIndex: 51835 entries, 0 to 51834\n",
      "Data columns (total 10 columns):\n",
      "country_name                51835 non-null object\n",
      "region_name                 51835 non-null object\n",
      "income_group_name           51835 non-null object\n",
      "fiscal_year                 51835 non-null int64\n",
      "HDI_Change                  51835 non-null float64\n",
      "assistance_category_name    51835 non-null object\n",
      "implementing_agency_name    51835 non-null object\n",
      "dac_category_name           51835 non-null object\n",
      "dac_sector_name             51835 non-null object\n",
      "constant_amount             51835 non-null int64\n",
      "dtypes: float64(1), int64(2), object(7)\n",
      "memory usage: 4.0+ MB\n"
     ]
    }
   ],
   "source": [
    "df.info()"
   ]
  },
  {
   "cell_type": "code",
   "execution_count": null,
   "metadata": {
    "scrolled": true
   },
   "outputs": [],
   "source": []
  },
  {
   "cell_type": "code",
   "execution_count": 6,
   "metadata": {},
   "outputs": [],
   "source": [
    "# Divide 'constant_amount' by 1,000,000 (want dollar amt in millions)\n",
    "df['constant_amount'] = df['constant_amount'].apply(lambda x: x/1000000)"
   ]
  },
  {
   "cell_type": "code",
   "execution_count": 7,
   "metadata": {},
   "outputs": [
    {
     "data": {
      "text/html": [
       "<div>\n",
       "<style scoped>\n",
       "    .dataframe tbody tr th:only-of-type {\n",
       "        vertical-align: middle;\n",
       "    }\n",
       "\n",
       "    .dataframe tbody tr th {\n",
       "        vertical-align: top;\n",
       "    }\n",
       "\n",
       "    .dataframe thead th {\n",
       "        text-align: right;\n",
       "    }\n",
       "</style>\n",
       "<table border=\"1\" class=\"dataframe\">\n",
       "  <thead>\n",
       "    <tr style=\"text-align: right;\">\n",
       "      <th></th>\n",
       "      <th>country_name</th>\n",
       "      <th>region_name</th>\n",
       "      <th>income_group_name</th>\n",
       "      <th>fiscal_year</th>\n",
       "      <th>HDI_Change</th>\n",
       "      <th>assistance_category_name</th>\n",
       "      <th>implementing_agency_name</th>\n",
       "      <th>dac_category_name</th>\n",
       "      <th>dac_sector_name</th>\n",
       "      <th>constant_amount</th>\n",
       "    </tr>\n",
       "  </thead>\n",
       "  <tbody>\n",
       "    <tr>\n",
       "      <th>0</th>\n",
       "      <td>Afghanistan</td>\n",
       "      <td>South and Central Asia</td>\n",
       "      <td>Low Income Country</td>\n",
       "      <td>2002</td>\n",
       "      <td>0.01</td>\n",
       "      <td>Economic</td>\n",
       "      <td>Department of Agriculture</td>\n",
       "      <td>Humanitarian</td>\n",
       "      <td>Emergency Response</td>\n",
       "      <td>2.037638</td>\n",
       "    </tr>\n",
       "    <tr>\n",
       "      <th>1</th>\n",
       "      <td>Afghanistan</td>\n",
       "      <td>South and Central Asia</td>\n",
       "      <td>Low Income Country</td>\n",
       "      <td>2002</td>\n",
       "      <td>0.01</td>\n",
       "      <td>Economic</td>\n",
       "      <td>Department of Defense</td>\n",
       "      <td>Governance</td>\n",
       "      <td>Conflict, Peace, and Security</td>\n",
       "      <td>3.284849</td>\n",
       "    </tr>\n",
       "    <tr>\n",
       "      <th>2</th>\n",
       "      <td>Afghanistan</td>\n",
       "      <td>South and Central Asia</td>\n",
       "      <td>Low Income Country</td>\n",
       "      <td>2002</td>\n",
       "      <td>0.01</td>\n",
       "      <td>Economic</td>\n",
       "      <td>Department of Health and Human Services</td>\n",
       "      <td>Governance</td>\n",
       "      <td>Conflict, Peace, and Security</td>\n",
       "      <td>0.799882</td>\n",
       "    </tr>\n",
       "    <tr>\n",
       "      <th>3</th>\n",
       "      <td>Afghanistan</td>\n",
       "      <td>South and Central Asia</td>\n",
       "      <td>Low Income Country</td>\n",
       "      <td>2002</td>\n",
       "      <td>0.01</td>\n",
       "      <td>Economic</td>\n",
       "      <td>Department of Health and Human Services</td>\n",
       "      <td>Health and Population</td>\n",
       "      <td>Basic Health</td>\n",
       "      <td>2.743823</td>\n",
       "    </tr>\n",
       "    <tr>\n",
       "      <th>4</th>\n",
       "      <td>Afghanistan</td>\n",
       "      <td>South and Central Asia</td>\n",
       "      <td>Low Income Country</td>\n",
       "      <td>2002</td>\n",
       "      <td>0.01</td>\n",
       "      <td>Economic</td>\n",
       "      <td>Department of State</td>\n",
       "      <td>Governance</td>\n",
       "      <td>Conflict, Peace, and Security</td>\n",
       "      <td>9.331957</td>\n",
       "    </tr>\n",
       "  </tbody>\n",
       "</table>\n",
       "</div>"
      ],
      "text/plain": [
       "  country_name             region_name   income_group_name  fiscal_year  \\\n",
       "0  Afghanistan  South and Central Asia  Low Income Country         2002   \n",
       "1  Afghanistan  South and Central Asia  Low Income Country         2002   \n",
       "2  Afghanistan  South and Central Asia  Low Income Country         2002   \n",
       "3  Afghanistan  South and Central Asia  Low Income Country         2002   \n",
       "4  Afghanistan  South and Central Asia  Low Income Country         2002   \n",
       "\n",
       "   HDI_Change assistance_category_name  \\\n",
       "0        0.01                 Economic   \n",
       "1        0.01                 Economic   \n",
       "2        0.01                 Economic   \n",
       "3        0.01                 Economic   \n",
       "4        0.01                 Economic   \n",
       "\n",
       "                  implementing_agency_name      dac_category_name  \\\n",
       "0                Department of Agriculture           Humanitarian   \n",
       "1                    Department of Defense             Governance   \n",
       "2  Department of Health and Human Services             Governance   \n",
       "3  Department of Health and Human Services  Health and Population   \n",
       "4                      Department of State             Governance   \n",
       "\n",
       "                 dac_sector_name  constant_amount  \n",
       "0             Emergency Response         2.037638  \n",
       "1  Conflict, Peace, and Security         3.284849  \n",
       "2  Conflict, Peace, and Security         0.799882  \n",
       "3                   Basic Health         2.743823  \n",
       "4  Conflict, Peace, and Security         9.331957  "
      ]
     },
     "execution_count": 7,
     "metadata": {},
     "output_type": "execute_result"
    }
   ],
   "source": [
    "df.head()"
   ]
  },
  {
   "cell_type": "code",
   "execution_count": 8,
   "metadata": {},
   "outputs": [],
   "source": [
    "# Drop rows where 'dac_category_name' is 'Administrative Costs' or 'Other' --> too vague/didn't effect models\n",
    "df = df.loc[(df['dac_category_name'] != 'Administrative Costs') & (df['dac_category_name'] != 'Other')]"
   ]
  },
  {
   "cell_type": "code",
   "execution_count": 9,
   "metadata": {},
   "outputs": [],
   "source": [
    "# Drop obligations that are less than 0.75 mil\n",
    "df = df.loc[df['constant_amount'] >= 0.75]"
   ]
  },
  {
   "cell_type": "code",
   "execution_count": null,
   "metadata": {},
   "outputs": [],
   "source": []
  },
  {
   "cell_type": "code",
   "execution_count": null,
   "metadata": {},
   "outputs": [],
   "source": []
  },
  {
   "cell_type": "code",
   "execution_count": 10,
   "metadata": {
    "scrolled": true
   },
   "outputs": [],
   "source": [
    "#Remove observations for countries that received aid in a year for fewer than 2 categories\n",
    "categories_per_countryyear = df.groupby(['country_name', 'fiscal_year']\n",
    "                                       )['dac_category_name'].nunique().reset_index()\n",
    "\n",
    "categories_per_countryyear = categories_per_countryyear.loc[(\n",
    "    categories_per_countryyear['dac_category_name'] >= 2\n",
    "    )].drop(columns = 'dac_category_name')"
   ]
  },
  {
   "cell_type": "code",
   "execution_count": 11,
   "metadata": {
    "scrolled": true
   },
   "outputs": [
    {
     "name": "stdout",
     "output_type": "stream",
     "text": [
      "<class 'pandas.core.frame.DataFrame'>\n",
      "Int64Index: 1948 entries, 0 to 2998\n",
      "Data columns (total 2 columns):\n",
      "country_name    1948 non-null object\n",
      "fiscal_year     1948 non-null int64\n",
      "dtypes: int64(1), object(1)\n",
      "memory usage: 45.7+ KB\n"
     ]
    }
   ],
   "source": [
    "categories_per_countryyear.info()"
   ]
  },
  {
   "cell_type": "code",
   "execution_count": 12,
   "metadata": {},
   "outputs": [],
   "source": [
    "df = pd.merge(df, categories_per_countryyear, \n",
    "              how = 'inner', \n",
    "              on=['country_name', 'fiscal_year'])"
   ]
  },
  {
   "cell_type": "code",
   "execution_count": 13,
   "metadata": {
    "scrolled": true
   },
   "outputs": [
    {
     "name": "stdout",
     "output_type": "stream",
     "text": [
      "<class 'pandas.core.frame.DataFrame'>\n",
      "Int64Index: 17403 entries, 0 to 17402\n",
      "Data columns (total 10 columns):\n",
      "country_name                17403 non-null object\n",
      "region_name                 17403 non-null object\n",
      "income_group_name           17403 non-null object\n",
      "fiscal_year                 17403 non-null int64\n",
      "HDI_Change                  17403 non-null float64\n",
      "assistance_category_name    17403 non-null object\n",
      "implementing_agency_name    17403 non-null object\n",
      "dac_category_name           17403 non-null object\n",
      "dac_sector_name             17403 non-null object\n",
      "constant_amount             17403 non-null float64\n",
      "dtypes: float64(2), int64(1), object(7)\n",
      "memory usage: 1.5+ MB\n"
     ]
    }
   ],
   "source": [
    "df.info()"
   ]
  },
  {
   "cell_type": "code",
   "execution_count": null,
   "metadata": {},
   "outputs": [],
   "source": []
  },
  {
   "cell_type": "code",
   "execution_count": 14,
   "metadata": {
    "scrolled": true
   },
   "outputs": [
    {
     "data": {
      "text/html": [
       "<div>\n",
       "<style scoped>\n",
       "    .dataframe tbody tr th:only-of-type {\n",
       "        vertical-align: middle;\n",
       "    }\n",
       "\n",
       "    .dataframe tbody tr th {\n",
       "        vertical-align: top;\n",
       "    }\n",
       "\n",
       "    .dataframe thead th {\n",
       "        text-align: right;\n",
       "    }\n",
       "</style>\n",
       "<table border=\"1\" class=\"dataframe\">\n",
       "  <thead>\n",
       "    <tr style=\"text-align: right;\">\n",
       "      <th>implementing_agency_name</th>\n",
       "      <th>region_name</th>\n",
       "      <th>income_group_name</th>\n",
       "      <th>fiscal_year</th>\n",
       "      <th>country_name</th>\n",
       "      <th>HDI_Change</th>\n",
       "      <th>African Development Foundation</th>\n",
       "      <th>Department of Agriculture</th>\n",
       "      <th>Department of Commerce</th>\n",
       "      <th>Department of Defense</th>\n",
       "      <th>Department of Energy</th>\n",
       "      <th>...</th>\n",
       "      <th>Environmental Protection Agency</th>\n",
       "      <th>Inter-American Foundation</th>\n",
       "      <th>Millennium Challenge Corporation</th>\n",
       "      <th>National Science Foundation</th>\n",
       "      <th>Open World Leadership Center</th>\n",
       "      <th>Overseas Private Investment Corporation</th>\n",
       "      <th>Peace Corps</th>\n",
       "      <th>Trade and Development Agency</th>\n",
       "      <th>U.S. Agency for International Development</th>\n",
       "      <th>United States Institute of Peace</th>\n",
       "    </tr>\n",
       "  </thead>\n",
       "  <tbody>\n",
       "    <tr>\n",
       "      <th>0</th>\n",
       "      <td>East Asia and Oceania</td>\n",
       "      <td>Lower Middle Income Country</td>\n",
       "      <td>1992</td>\n",
       "      <td>Indonesia</td>\n",
       "      <td>0.006</td>\n",
       "      <td>NaN</td>\n",
       "      <td>NaN</td>\n",
       "      <td>NaN</td>\n",
       "      <td>3.416021</td>\n",
       "      <td>NaN</td>\n",
       "      <td>...</td>\n",
       "      <td>NaN</td>\n",
       "      <td>NaN</td>\n",
       "      <td>NaN</td>\n",
       "      <td>NaN</td>\n",
       "      <td>NaN</td>\n",
       "      <td>NaN</td>\n",
       "      <td>NaN</td>\n",
       "      <td>NaN</td>\n",
       "      <td>12.607928</td>\n",
       "      <td>NaN</td>\n",
       "    </tr>\n",
       "    <tr>\n",
       "      <th>1</th>\n",
       "      <td>East Asia and Oceania</td>\n",
       "      <td>Lower Middle Income Country</td>\n",
       "      <td>1992</td>\n",
       "      <td>Laos</td>\n",
       "      <td>0.006</td>\n",
       "      <td>NaN</td>\n",
       "      <td>NaN</td>\n",
       "      <td>NaN</td>\n",
       "      <td>NaN</td>\n",
       "      <td>NaN</td>\n",
       "      <td>...</td>\n",
       "      <td>NaN</td>\n",
       "      <td>NaN</td>\n",
       "      <td>NaN</td>\n",
       "      <td>NaN</td>\n",
       "      <td>NaN</td>\n",
       "      <td>NaN</td>\n",
       "      <td>NaN</td>\n",
       "      <td>NaN</td>\n",
       "      <td>2.162301</td>\n",
       "      <td>NaN</td>\n",
       "    </tr>\n",
       "    <tr>\n",
       "      <th>2</th>\n",
       "      <td>East Asia and Oceania</td>\n",
       "      <td>Lower Middle Income Country</td>\n",
       "      <td>1992</td>\n",
       "      <td>Philippines</td>\n",
       "      <td>0.002</td>\n",
       "      <td>NaN</td>\n",
       "      <td>NaN</td>\n",
       "      <td>NaN</td>\n",
       "      <td>50.373846</td>\n",
       "      <td>NaN</td>\n",
       "      <td>...</td>\n",
       "      <td>NaN</td>\n",
       "      <td>NaN</td>\n",
       "      <td>NaN</td>\n",
       "      <td>NaN</td>\n",
       "      <td>NaN</td>\n",
       "      <td>NaN</td>\n",
       "      <td>NaN</td>\n",
       "      <td>NaN</td>\n",
       "      <td>45.135198</td>\n",
       "      <td>NaN</td>\n",
       "    </tr>\n",
       "    <tr>\n",
       "      <th>3</th>\n",
       "      <td>East Asia and Oceania</td>\n",
       "      <td>Lower Middle Income Country</td>\n",
       "      <td>1993</td>\n",
       "      <td>Philippines</td>\n",
       "      <td>0.004</td>\n",
       "      <td>NaN</td>\n",
       "      <td>NaN</td>\n",
       "      <td>NaN</td>\n",
       "      <td>27.540397</td>\n",
       "      <td>NaN</td>\n",
       "      <td>...</td>\n",
       "      <td>NaN</td>\n",
       "      <td>NaN</td>\n",
       "      <td>NaN</td>\n",
       "      <td>NaN</td>\n",
       "      <td>NaN</td>\n",
       "      <td>NaN</td>\n",
       "      <td>NaN</td>\n",
       "      <td>NaN</td>\n",
       "      <td>31.907700</td>\n",
       "      <td>NaN</td>\n",
       "    </tr>\n",
       "    <tr>\n",
       "      <th>4</th>\n",
       "      <td>East Asia and Oceania</td>\n",
       "      <td>Lower Middle Income Country</td>\n",
       "      <td>1994</td>\n",
       "      <td>Philippines</td>\n",
       "      <td>0.003</td>\n",
       "      <td>NaN</td>\n",
       "      <td>NaN</td>\n",
       "      <td>NaN</td>\n",
       "      <td>1.348010</td>\n",
       "      <td>NaN</td>\n",
       "      <td>...</td>\n",
       "      <td>NaN</td>\n",
       "      <td>NaN</td>\n",
       "      <td>NaN</td>\n",
       "      <td>NaN</td>\n",
       "      <td>NaN</td>\n",
       "      <td>NaN</td>\n",
       "      <td>NaN</td>\n",
       "      <td>NaN</td>\n",
       "      <td>21.807518</td>\n",
       "      <td>NaN</td>\n",
       "    </tr>\n",
       "  </tbody>\n",
       "</table>\n",
       "<p>5 rows × 31 columns</p>\n",
       "</div>"
      ],
      "text/plain": [
       "implementing_agency_name            region_name            income_group_name  \\\n",
       "0                         East Asia and Oceania  Lower Middle Income Country   \n",
       "1                         East Asia and Oceania  Lower Middle Income Country   \n",
       "2                         East Asia and Oceania  Lower Middle Income Country   \n",
       "3                         East Asia and Oceania  Lower Middle Income Country   \n",
       "4                         East Asia and Oceania  Lower Middle Income Country   \n",
       "\n",
       "implementing_agency_name  fiscal_year country_name  HDI_Change  \\\n",
       "0                                1992    Indonesia       0.006   \n",
       "1                                1992         Laos       0.006   \n",
       "2                                1992  Philippines       0.002   \n",
       "3                                1993  Philippines       0.004   \n",
       "4                                1994  Philippines       0.003   \n",
       "\n",
       "implementing_agency_name  African Development Foundation  \\\n",
       "0                                                    NaN   \n",
       "1                                                    NaN   \n",
       "2                                                    NaN   \n",
       "3                                                    NaN   \n",
       "4                                                    NaN   \n",
       "\n",
       "implementing_agency_name  Department of Agriculture  Department of Commerce  \\\n",
       "0                                               NaN                     NaN   \n",
       "1                                               NaN                     NaN   \n",
       "2                                               NaN                     NaN   \n",
       "3                                               NaN                     NaN   \n",
       "4                                               NaN                     NaN   \n",
       "\n",
       "implementing_agency_name  Department of Defense  Department of Energy  ...  \\\n",
       "0                                      3.416021                   NaN  ...   \n",
       "1                                           NaN                   NaN  ...   \n",
       "2                                     50.373846                   NaN  ...   \n",
       "3                                     27.540397                   NaN  ...   \n",
       "4                                      1.348010                   NaN  ...   \n",
       "\n",
       "implementing_agency_name  Environmental Protection Agency  \\\n",
       "0                                                     NaN   \n",
       "1                                                     NaN   \n",
       "2                                                     NaN   \n",
       "3                                                     NaN   \n",
       "4                                                     NaN   \n",
       "\n",
       "implementing_agency_name  Inter-American Foundation  \\\n",
       "0                                               NaN   \n",
       "1                                               NaN   \n",
       "2                                               NaN   \n",
       "3                                               NaN   \n",
       "4                                               NaN   \n",
       "\n",
       "implementing_agency_name  Millennium Challenge Corporation  \\\n",
       "0                                                      NaN   \n",
       "1                                                      NaN   \n",
       "2                                                      NaN   \n",
       "3                                                      NaN   \n",
       "4                                                      NaN   \n",
       "\n",
       "implementing_agency_name  National Science Foundation  \\\n",
       "0                                                 NaN   \n",
       "1                                                 NaN   \n",
       "2                                                 NaN   \n",
       "3                                                 NaN   \n",
       "4                                                 NaN   \n",
       "\n",
       "implementing_agency_name  Open World Leadership Center  \\\n",
       "0                                                  NaN   \n",
       "1                                                  NaN   \n",
       "2                                                  NaN   \n",
       "3                                                  NaN   \n",
       "4                                                  NaN   \n",
       "\n",
       "implementing_agency_name  Overseas Private Investment Corporation  \\\n",
       "0                                                             NaN   \n",
       "1                                                             NaN   \n",
       "2                                                             NaN   \n",
       "3                                                             NaN   \n",
       "4                                                             NaN   \n",
       "\n",
       "implementing_agency_name  Peace Corps  Trade and Development Agency  \\\n",
       "0                                 NaN                           NaN   \n",
       "1                                 NaN                           NaN   \n",
       "2                                 NaN                           NaN   \n",
       "3                                 NaN                           NaN   \n",
       "4                                 NaN                           NaN   \n",
       "\n",
       "implementing_agency_name  U.S. Agency for International Development  \\\n",
       "0                                                         12.607928   \n",
       "1                                                          2.162301   \n",
       "2                                                         45.135198   \n",
       "3                                                         31.907700   \n",
       "4                                                         21.807518   \n",
       "\n",
       "implementing_agency_name  United States Institute of Peace  \n",
       "0                                                      NaN  \n",
       "1                                                      NaN  \n",
       "2                                                      NaN  \n",
       "3                                                      NaN  \n",
       "4                                                      NaN  \n",
       "\n",
       "[5 rows x 31 columns]"
      ]
     },
     "execution_count": 14,
     "metadata": {},
     "output_type": "execute_result"
    }
   ],
   "source": [
    "# Transform df so entries for year/country are grouped (want one row per country per year), with monetary value going under Agency Name\n",
    "#grouped_df = \n",
    "grouped_df = df.groupby(['region_name', 'income_group_name', 'fiscal_year', \n",
    "                         'country_name', 'HDI_Change', 'implementing_agency_name']\n",
    "                       )['constant_amount'].sum().unstack('implementing_agency_name').reset_index()\n",
    "grouped_df.head()"
   ]
  },
  {
   "cell_type": "code",
   "execution_count": 15,
   "metadata": {},
   "outputs": [],
   "source": [
    "# Drop columns for Agencies with less than 100 expenditures\n",
    "grouped_df.dropna(thresh=100, axis=1, inplace=True)"
   ]
  },
  {
   "cell_type": "code",
   "execution_count": 16,
   "metadata": {},
   "outputs": [
    {
     "name": "stdout",
     "output_type": "stream",
     "text": [
      "<class 'pandas.core.frame.DataFrame'>\n",
      "RangeIndex: 1948 entries, 0 to 1947\n",
      "Data columns (total 17 columns):\n",
      "region_name                                  1948 non-null object\n",
      "income_group_name                            1948 non-null object\n",
      "fiscal_year                                  1948 non-null int64\n",
      "country_name                                 1948 non-null object\n",
      "HDI_Change                                   1948 non-null float64\n",
      "Department of Agriculture                    560 non-null float64\n",
      "Department of Defense                        1357 non-null float64\n",
      "Department of Energy                         378 non-null float64\n",
      "Department of Health and Human Services      625 non-null float64\n",
      "Department of Labor                          176 non-null float64\n",
      "Department of State                          1373 non-null float64\n",
      "Department of the Army                       120 non-null float64\n",
      "Department of the Treasury                   142 non-null float64\n",
      "Millennium Challenge Corporation             183 non-null float64\n",
      "Peace Corps                                  401 non-null float64\n",
      "Trade and Development Agency                 226 non-null float64\n",
      "U.S. Agency for International Development    1677 non-null float64\n",
      "dtypes: float64(13), int64(1), object(3)\n",
      "memory usage: 258.8+ KB\n"
     ]
    }
   ],
   "source": [
    "grouped_df.info()"
   ]
  },
  {
   "cell_type": "code",
   "execution_count": 17,
   "metadata": {},
   "outputs": [],
   "source": [
    "grouped_df.fillna(0, inplace=True)"
   ]
  },
  {
   "cell_type": "code",
   "execution_count": 18,
   "metadata": {},
   "outputs": [],
   "source": [
    "grouped_df['total_sum'] = grouped_df['Department of Agriculture'\n",
    "                                    ] + grouped_df['Department of Defense'\n",
    "                                    ] + grouped_df['Department of Energy'\n",
    "                                    ] + grouped_df['Department of Health and Human Services'\n",
    "                                    ] + grouped_df['Department of Labor'\n",
    "                                    ] + grouped_df['Department of State'\n",
    "                                    ] + grouped_df['Department of the Army'\n",
    "                                    ] + grouped_df['Department of the Treasury'\n",
    "                                    ] + grouped_df['Millennium Challenge Corporation'\n",
    "                                    ] + grouped_df['Peace Corps'\n",
    "                                    ] + grouped_df['Trade and Development Agency'\n",
    "                                    ] + grouped_df['U.S. Agency for International Development']\n",
    "\n",
    "                                     \n",
    "#''African Development Foundation'\n",
    "                                  \n",
    "                    "
   ]
  },
  {
   "cell_type": "code",
   "execution_count": 19,
   "metadata": {},
   "outputs": [],
   "source": [
    "grouped_df = grouped_df.loc[grouped_df['total_sum'] > 2]\n"
   ]
  },
  {
   "cell_type": "code",
   "execution_count": 20,
   "metadata": {},
   "outputs": [],
   "source": [
    "df = df.groupby(['region_name', 'income_group_name', 'fiscal_year', 'country_name', 'HDI_Change', 'dac_category_name']\n",
    "               )['dac_category_name'].count().unstack('dac_category_name').reset_index()\n",
    "\n",
    "category_list = ['Agriculture', 'Commodity Assistance', \n",
    "                 'Economic Growth', 'Education', 'Governance', \n",
    "                 'Health and Population', 'Humanitarian','Infrastructure']\n",
    "\n",
    "for item in category_list:\n",
    "    df[item] = df[item].apply(lambda x: 1 if np.isfinite(x) else 0)"
   ]
  },
  {
   "cell_type": "code",
   "execution_count": 21,
   "metadata": {
    "scrolled": true
   },
   "outputs": [],
   "source": [
    "df = df.merge(grouped_df, \n",
    "              on=['country_name', 'fiscal_year', 'region_name', 'income_group_name', 'HDI_Change'])"
   ]
  },
  {
   "cell_type": "code",
   "execution_count": 22,
   "metadata": {},
   "outputs": [
    {
     "data": {
      "text/html": [
       "<div>\n",
       "<style scoped>\n",
       "    .dataframe tbody tr th:only-of-type {\n",
       "        vertical-align: middle;\n",
       "    }\n",
       "\n",
       "    .dataframe tbody tr th {\n",
       "        vertical-align: top;\n",
       "    }\n",
       "\n",
       "    .dataframe thead th {\n",
       "        text-align: right;\n",
       "    }\n",
       "</style>\n",
       "<table border=\"1\" class=\"dataframe\">\n",
       "  <thead>\n",
       "    <tr style=\"text-align: right;\">\n",
       "      <th></th>\n",
       "      <th>region_name</th>\n",
       "      <th>income_group_name</th>\n",
       "      <th>fiscal_year</th>\n",
       "      <th>country_name</th>\n",
       "      <th>HDI_Change</th>\n",
       "      <th>Agriculture</th>\n",
       "      <th>Commodity Assistance</th>\n",
       "      <th>Economic Growth</th>\n",
       "      <th>Education</th>\n",
       "      <th>Governance</th>\n",
       "      <th>...</th>\n",
       "      <th>Department of Health and Human Services</th>\n",
       "      <th>Department of Labor</th>\n",
       "      <th>Department of State</th>\n",
       "      <th>Department of the Army</th>\n",
       "      <th>Department of the Treasury</th>\n",
       "      <th>Millennium Challenge Corporation</th>\n",
       "      <th>Peace Corps</th>\n",
       "      <th>Trade and Development Agency</th>\n",
       "      <th>U.S. Agency for International Development</th>\n",
       "      <th>total_sum</th>\n",
       "    </tr>\n",
       "  </thead>\n",
       "  <tbody>\n",
       "    <tr>\n",
       "      <th>0</th>\n",
       "      <td>East Asia and Oceania</td>\n",
       "      <td>Lower Middle Income Country</td>\n",
       "      <td>1992</td>\n",
       "      <td>Indonesia</td>\n",
       "      <td>0.006</td>\n",
       "      <td>0</td>\n",
       "      <td>1</td>\n",
       "      <td>0</td>\n",
       "      <td>0</td>\n",
       "      <td>1</td>\n",
       "      <td>...</td>\n",
       "      <td>0.0</td>\n",
       "      <td>0.0</td>\n",
       "      <td>0.000000</td>\n",
       "      <td>0.0</td>\n",
       "      <td>0.0</td>\n",
       "      <td>0.0</td>\n",
       "      <td>0.0</td>\n",
       "      <td>0.0</td>\n",
       "      <td>12.607928</td>\n",
       "      <td>16.023949</td>\n",
       "    </tr>\n",
       "    <tr>\n",
       "      <th>1</th>\n",
       "      <td>East Asia and Oceania</td>\n",
       "      <td>Lower Middle Income Country</td>\n",
       "      <td>1992</td>\n",
       "      <td>Laos</td>\n",
       "      <td>0.006</td>\n",
       "      <td>0</td>\n",
       "      <td>0</td>\n",
       "      <td>0</td>\n",
       "      <td>0</td>\n",
       "      <td>1</td>\n",
       "      <td>...</td>\n",
       "      <td>0.0</td>\n",
       "      <td>0.0</td>\n",
       "      <td>2.959760</td>\n",
       "      <td>0.0</td>\n",
       "      <td>0.0</td>\n",
       "      <td>0.0</td>\n",
       "      <td>0.0</td>\n",
       "      <td>0.0</td>\n",
       "      <td>2.162301</td>\n",
       "      <td>5.122061</td>\n",
       "    </tr>\n",
       "    <tr>\n",
       "      <th>2</th>\n",
       "      <td>East Asia and Oceania</td>\n",
       "      <td>Lower Middle Income Country</td>\n",
       "      <td>1992</td>\n",
       "      <td>Philippines</td>\n",
       "      <td>0.002</td>\n",
       "      <td>0</td>\n",
       "      <td>1</td>\n",
       "      <td>0</td>\n",
       "      <td>0</td>\n",
       "      <td>1</td>\n",
       "      <td>...</td>\n",
       "      <td>0.0</td>\n",
       "      <td>0.0</td>\n",
       "      <td>1.279599</td>\n",
       "      <td>0.0</td>\n",
       "      <td>0.0</td>\n",
       "      <td>0.0</td>\n",
       "      <td>0.0</td>\n",
       "      <td>0.0</td>\n",
       "      <td>45.135198</td>\n",
       "      <td>96.788643</td>\n",
       "    </tr>\n",
       "    <tr>\n",
       "      <th>3</th>\n",
       "      <td>East Asia and Oceania</td>\n",
       "      <td>Lower Middle Income Country</td>\n",
       "      <td>1993</td>\n",
       "      <td>Philippines</td>\n",
       "      <td>0.004</td>\n",
       "      <td>0</td>\n",
       "      <td>1</td>\n",
       "      <td>0</td>\n",
       "      <td>0</td>\n",
       "      <td>1</td>\n",
       "      <td>...</td>\n",
       "      <td>0.0</td>\n",
       "      <td>0.0</td>\n",
       "      <td>0.000000</td>\n",
       "      <td>0.0</td>\n",
       "      <td>0.0</td>\n",
       "      <td>0.0</td>\n",
       "      <td>0.0</td>\n",
       "      <td>0.0</td>\n",
       "      <td>31.907700</td>\n",
       "      <td>59.448097</td>\n",
       "    </tr>\n",
       "    <tr>\n",
       "      <th>4</th>\n",
       "      <td>East Asia and Oceania</td>\n",
       "      <td>Lower Middle Income Country</td>\n",
       "      <td>1994</td>\n",
       "      <td>Philippines</td>\n",
       "      <td>0.003</td>\n",
       "      <td>0</td>\n",
       "      <td>1</td>\n",
       "      <td>0</td>\n",
       "      <td>0</td>\n",
       "      <td>1</td>\n",
       "      <td>...</td>\n",
       "      <td>0.0</td>\n",
       "      <td>0.0</td>\n",
       "      <td>0.000000</td>\n",
       "      <td>0.0</td>\n",
       "      <td>0.0</td>\n",
       "      <td>0.0</td>\n",
       "      <td>0.0</td>\n",
       "      <td>0.0</td>\n",
       "      <td>21.807518</td>\n",
       "      <td>23.155528</td>\n",
       "    </tr>\n",
       "  </tbody>\n",
       "</table>\n",
       "<p>5 rows × 26 columns</p>\n",
       "</div>"
      ],
      "text/plain": [
       "             region_name            income_group_name  fiscal_year  \\\n",
       "0  East Asia and Oceania  Lower Middle Income Country         1992   \n",
       "1  East Asia and Oceania  Lower Middle Income Country         1992   \n",
       "2  East Asia and Oceania  Lower Middle Income Country         1992   \n",
       "3  East Asia and Oceania  Lower Middle Income Country         1993   \n",
       "4  East Asia and Oceania  Lower Middle Income Country         1994   \n",
       "\n",
       "  country_name  HDI_Change  Agriculture  Commodity Assistance  \\\n",
       "0    Indonesia       0.006            0                     1   \n",
       "1         Laos       0.006            0                     0   \n",
       "2  Philippines       0.002            0                     1   \n",
       "3  Philippines       0.004            0                     1   \n",
       "4  Philippines       0.003            0                     1   \n",
       "\n",
       "   Economic Growth  Education  Governance  ...  \\\n",
       "0                0          0           1  ...   \n",
       "1                0          0           1  ...   \n",
       "2                0          0           1  ...   \n",
       "3                0          0           1  ...   \n",
       "4                0          0           1  ...   \n",
       "\n",
       "   Department of Health and Human Services  Department of Labor  \\\n",
       "0                                      0.0                  0.0   \n",
       "1                                      0.0                  0.0   \n",
       "2                                      0.0                  0.0   \n",
       "3                                      0.0                  0.0   \n",
       "4                                      0.0                  0.0   \n",
       "\n",
       "   Department of State  Department of the Army  Department of the Treasury  \\\n",
       "0             0.000000                     0.0                         0.0   \n",
       "1             2.959760                     0.0                         0.0   \n",
       "2             1.279599                     0.0                         0.0   \n",
       "3             0.000000                     0.0                         0.0   \n",
       "4             0.000000                     0.0                         0.0   \n",
       "\n",
       "   Millennium Challenge Corporation  Peace Corps  \\\n",
       "0                               0.0          0.0   \n",
       "1                               0.0          0.0   \n",
       "2                               0.0          0.0   \n",
       "3                               0.0          0.0   \n",
       "4                               0.0          0.0   \n",
       "\n",
       "   Trade and Development Agency  U.S. Agency for International Development  \\\n",
       "0                           0.0                                  12.607928   \n",
       "1                           0.0                                   2.162301   \n",
       "2                           0.0                                  45.135198   \n",
       "3                           0.0                                  31.907700   \n",
       "4                           0.0                                  21.807518   \n",
       "\n",
       "   total_sum  \n",
       "0  16.023949  \n",
       "1   5.122061  \n",
       "2  96.788643  \n",
       "3  59.448097  \n",
       "4  23.155528  \n",
       "\n",
       "[5 rows x 26 columns]"
      ]
     },
     "execution_count": 22,
     "metadata": {},
     "output_type": "execute_result"
    }
   ],
   "source": [
    "df.head()"
   ]
  },
  {
   "cell_type": "code",
   "execution_count": 23,
   "metadata": {
    "scrolled": false
   },
   "outputs": [
    {
     "name": "stdout",
     "output_type": "stream",
     "text": [
      "<class 'pandas.core.frame.DataFrame'>\n",
      "Int64Index: 1926 entries, 0 to 1925\n",
      "Data columns (total 26 columns):\n",
      "region_name                                  1926 non-null object\n",
      "income_group_name                            1926 non-null object\n",
      "fiscal_year                                  1926 non-null int64\n",
      "country_name                                 1926 non-null object\n",
      "HDI_Change                                   1926 non-null float64\n",
      "Agriculture                                  1926 non-null int64\n",
      "Commodity Assistance                         1926 non-null int64\n",
      "Economic Growth                              1926 non-null int64\n",
      "Education                                    1926 non-null int64\n",
      "Governance                                   1926 non-null int64\n",
      "Health and Population                        1926 non-null int64\n",
      "Humanitarian                                 1926 non-null int64\n",
      "Infrastructure                               1926 non-null int64\n",
      "Department of Agriculture                    1926 non-null float64\n",
      "Department of Defense                        1926 non-null float64\n",
      "Department of Energy                         1926 non-null float64\n",
      "Department of Health and Human Services      1926 non-null float64\n",
      "Department of Labor                          1926 non-null float64\n",
      "Department of State                          1926 non-null float64\n",
      "Department of the Army                       1926 non-null float64\n",
      "Department of the Treasury                   1926 non-null float64\n",
      "Millennium Challenge Corporation             1926 non-null float64\n",
      "Peace Corps                                  1926 non-null float64\n",
      "Trade and Development Agency                 1926 non-null float64\n",
      "U.S. Agency for International Development    1926 non-null float64\n",
      "total_sum                                    1926 non-null float64\n",
      "dtypes: float64(14), int64(9), object(3)\n",
      "memory usage: 406.3+ KB\n"
     ]
    }
   ],
   "source": [
    "df.info()"
   ]
  },
  {
   "cell_type": "code",
   "execution_count": 24,
   "metadata": {},
   "outputs": [
    {
     "data": {
      "text/plain": [
       "array([1992, 1993, 1994, 1995, 1996, 1997, 1998, 1999, 2000, 2001, 2002,\n",
       "       2003, 2004, 2005, 2006, 2007, 2008, 2009, 2010, 2011, 2012, 2013,\n",
       "       2014, 2015, 2016])"
      ]
     },
     "execution_count": 24,
     "metadata": {},
     "output_type": "execute_result"
    }
   ],
   "source": [
    "df.fiscal_year.unique()"
   ]
  },
  {
   "cell_type": "code",
   "execution_count": 25,
   "metadata": {},
   "outputs": [],
   "source": [
    "df.drop(columns='total_sum', inplace=True)"
   ]
  },
  {
   "cell_type": "code",
   "execution_count": 26,
   "metadata": {
    "scrolled": false
   },
   "outputs": [],
   "source": [
    "#sns.distplot(df['African Development Foundation'])"
   ]
  },
  {
   "cell_type": "code",
   "execution_count": 27,
   "metadata": {},
   "outputs": [
    {
     "data": {
      "text/plain": [
       "<matplotlib.axes._subplots.AxesSubplot at 0x1c1714eef0>"
      ]
     },
     "execution_count": 27,
     "metadata": {},
     "output_type": "execute_result"
    },
    {
     "data": {
      "image/png": "[encoded data removed]",
      "text/plain": [
       "<Figure size 432x288 with 1 Axes>"
      ]
     },
     "metadata": {
      "image/png": {
       "height": 263,
       "width": 383
      },
      "needs_background": "light"
     },
     "output_type": "display_data"
    }
   ],
   "source": [
    "sns.distplot(df['Department of Agriculture'])"
   ]
  },
  {
   "cell_type": "code",
   "execution_count": 28,
   "metadata": {},
   "outputs": [
    {
     "data": {
      "text/plain": [
       "<matplotlib.axes._subplots.AxesSubplot at 0x1c1728b550>"
      ]
     },
     "execution_count": 28,
     "metadata": {},
     "output_type": "execute_result"
    },
    {
     "data": {
      "image/png": "[encoded data removed]",
      "text/plain": [
       "<Figure size 432x288 with 1 Axes>"
      ]
     },
     "metadata": {
      "image/png": {
       "height": 263,
       "width": 391
      },
      "needs_background": "light"
     },
     "output_type": "display_data"
    }
   ],
   "source": [
    "sns.distplot(df['Department of Defense'])"
   ]
  },
  {
   "cell_type": "code",
   "execution_count": 29,
   "metadata": {},
   "outputs": [
    {
     "data": {
      "text/plain": [
       "<matplotlib.axes._subplots.AxesSubplot at 0x1c178ab3c8>"
      ]
     },
     "execution_count": 29,
     "metadata": {},
     "output_type": "execute_result"
    },
    {
     "data": {
      "image/png": "[encoded data removed]",
      "text/plain": [
       "<Figure size 432x288 with 1 Axes>"
      ]
     },
     "metadata": {
      "image/png": {
       "height": 263,
       "width": 383
      },
      "needs_background": "light"
     },
     "output_type": "display_data"
    }
   ],
   "source": [
    "sns.distplot(df['Department of Energy'])"
   ]
  },
  {
   "cell_type": "code",
   "execution_count": 30,
   "metadata": {},
   "outputs": [
    {
     "data": {
      "text/plain": [
       "<matplotlib.axes._subplots.AxesSubplot at 0x1c178e1908>"
      ]
     },
     "execution_count": 30,
     "metadata": {},
     "output_type": "execute_result"
    },
    {
     "data": {
      "image/png": "[encoded data removed]",
      "text/plain": [
       "<Figure size 432x288 with 1 Axes>"
      ]
     },
     "metadata": {
      "image/png": {
       "height": 263,
       "width": 377
      },
      "needs_background": "light"
     },
     "output_type": "display_data"
    }
   ],
   "source": [
    "sns.distplot(df['Department of Health and Human Services'])"
   ]
  },
  {
   "cell_type": "code",
   "execution_count": 31,
   "metadata": {},
   "outputs": [
    {
     "data": {
      "text/plain": [
       "<matplotlib.axes._subplots.AxesSubplot at 0x1c17c44a58>"
      ]
     },
     "execution_count": 31,
     "metadata": {},
     "output_type": "execute_result"
    },
    {
     "data": {
      "image/png": "[encoded data removed]",
      "text/plain": [
       "<Figure size 432x288 with 1 Axes>"
      ]
     },
     "metadata": {
      "image/png": {
       "height": 263,
       "width": 377
      },
      "needs_background": "light"
     },
     "output_type": "display_data"
    }
   ],
   "source": [
    "sns.distplot(df['Department of Labor'])"
   ]
  },
  {
   "cell_type": "code",
   "execution_count": 32,
   "metadata": {},
   "outputs": [
    {
     "data": {
      "text/plain": [
       "<matplotlib.axes._subplots.AxesSubplot at 0x1c17d52ef0>"
      ]
     },
     "execution_count": 32,
     "metadata": {},
     "output_type": "execute_result"
    },
    {
     "data": {
      "image/png": "[encoded data removed]",
      "text/plain": [
       "<Figure size 432x288 with 1 Axes>"
      ]
     },
     "metadata": {
      "image/png": {
       "height": 263,
       "width": 383
      },
      "needs_background": "light"
     },
     "output_type": "display_data"
    }
   ],
   "source": [
    "sns.distplot(df['Department of State'])"
   ]
  },
  {
   "cell_type": "code",
   "execution_count": 33,
   "metadata": {},
   "outputs": [
    {
     "data": {
      "text/plain": [
       "<matplotlib.axes._subplots.AxesSubplot at 0x1c189d7be0>"
      ]
     },
     "execution_count": 33,
     "metadata": {},
     "output_type": "execute_result"
    },
    {
     "data": {
      "image/png": "[encoded data removed]",
      "text/plain": [
       "<Figure size 432x288 with 1 Axes>"
      ]
     },
     "metadata": {
      "image/png": {
       "height": 263,
       "width": 388
      },
      "needs_background": "light"
     },
     "output_type": "display_data"
    }
   ],
   "source": [
    "sns.distplot(df['Department of the Army'])"
   ]
  },
  {
   "cell_type": "code",
   "execution_count": 34,
   "metadata": {},
   "outputs": [],
   "source": [
    "#sns.distplot(df['Department of the Treasury'])"
   ]
  },
  {
   "cell_type": "code",
   "execution_count": 35,
   "metadata": {},
   "outputs": [
    {
     "data": {
      "text/plain": [
       "<matplotlib.axes._subplots.AxesSubplot at 0x1c18c87908>"
      ]
     },
     "execution_count": 35,
     "metadata": {},
     "output_type": "execute_result"
    },
    {
     "data": {
      "image/png": "[encoded data removed]",
      "text/plain": [
       "<Figure size 432x288 with 1 Axes>"
      ]
     },
     "metadata": {
      "image/png": {
       "height": 263,
       "width": 377
      },
      "needs_background": "light"
     },
     "output_type": "display_data"
    }
   ],
   "source": [
    "sns.distplot(df['Millennium Challenge Corporation'])"
   ]
  },
  {
   "cell_type": "code",
   "execution_count": 36,
   "metadata": {},
   "outputs": [
    {
     "data": {
      "text/plain": [
       "<matplotlib.axes._subplots.AxesSubplot at 0x1c178b10f0>"
      ]
     },
     "execution_count": 36,
     "metadata": {},
     "output_type": "execute_result"
    },
    {
     "data": {
      "image/png": "[encoded data removed]",
      "text/plain": [
       "<Figure size 432x288 with 1 Axes>"
      ]
     },
     "metadata": {
      "image/png": {
       "height": 263,
       "width": 371
      },
      "needs_background": "light"
     },
     "output_type": "display_data"
    }
   ],
   "source": [
    "sns.distplot(df['Peace Corps'])"
   ]
  },
  {
   "cell_type": "code",
   "execution_count": 37,
   "metadata": {
    "scrolled": true
   },
   "outputs": [
    {
     "data": {
      "text/plain": [
       "<matplotlib.axes._subplots.AxesSubplot at 0x1c1919d128>"
      ]
     },
     "execution_count": 37,
     "metadata": {},
     "output_type": "execute_result"
    },
    {
     "data": {
      "image/png": "[encoded data removed]",
      "text/plain": [
       "<Figure size 432x288 with 1 Axes>"
      ]
     },
     "metadata": {
      "image/png": {
       "height": 263,
       "width": 371
      },
      "needs_background": "light"
     },
     "output_type": "display_data"
    }
   ],
   "source": [
    "sns.distplot(df['Trade and Development Agency'])"
   ]
  },
  {
   "cell_type": "code",
   "execution_count": 38,
   "metadata": {},
   "outputs": [
    {
     "data": {
      "text/plain": [
       "<matplotlib.axes._subplots.AxesSubplot at 0x1c19222da0>"
      ]
     },
     "execution_count": 38,
     "metadata": {},
     "output_type": "execute_result"
    },
    {
     "data": {
      "image/png": "[encoded data removed]",
      "text/plain": [
       "<Figure size 432x288 with 1 Axes>"
      ]
     },
     "metadata": {
      "image/png": {
       "height": 263,
       "width": 383
      },
      "needs_background": "light"
     },
     "output_type": "display_data"
    }
   ],
   "source": [
    "sns.distplot(df['U.S. Agency for International Development'])"
   ]
  },
  {
   "cell_type": "code",
   "execution_count": 39,
   "metadata": {},
   "outputs": [
    {
     "data": {
      "text/plain": [
       "<matplotlib.axes._subplots.AxesSubplot at 0x1c191cd710>"
      ]
     },
     "execution_count": 39,
     "metadata": {},
     "output_type": "execute_result"
    },
    {
     "data": {
      "image/png": "[encoded data removed]",
      "text/plain": [
       "<Figure size 432x288 with 1 Axes>"
      ]
     },
     "metadata": {
      "image/png": {
       "height": 263,
       "width": 369
      },
      "needs_background": "light"
     },
     "output_type": "display_data"
    }
   ],
   "source": [
    "# Target pretty normally distributed\n",
    "sns.distplot(df['HDI_Change'])"
   ]
  },
  {
   "cell_type": "markdown",
   "metadata": {},
   "source": [
    "## Split data into data/target categories"
   ]
  },
  {
   "cell_type": "code",
   "execution_count": 40,
   "metadata": {},
   "outputs": [],
   "source": [
    "# Define small input df (all columns except target)\n",
    "X = df.loc[:, df.columns != 'HDI_Change']\n",
    "\n",
    "# Define Targets\n",
    "y = df['HDI_Change']"
   ]
  },
  {
   "cell_type": "markdown",
   "metadata": {},
   "source": [
    "### Drop Columns"
   ]
  },
  {
   "cell_type": "code",
   "execution_count": 41,
   "metadata": {},
   "outputs": [
    {
     "name": "stderr",
     "output_type": "stream",
     "text": [
      "/anaconda3/lib/python3.7/site-packages/pandas/core/frame.py:3940: SettingWithCopyWarning: \n",
      "A value is trying to be set on a copy of a slice from a DataFrame\n",
      "\n",
      "See the caveats in the documentation: http://pandas.pydata.org/pandas-docs/stable/indexing.html#indexing-view-versus-copy\n",
      "  errors=errors)\n"
     ]
    }
   ],
   "source": [
    "# Drop 'fiscal_year' column\n",
    "X.drop(['fiscal_year'], axis=1, inplace=True)"
   ]
  },
  {
   "cell_type": "markdown",
   "metadata": {},
   "source": [
    "## Transform categorical variables"
   ]
  },
  {
   "cell_type": "code",
   "execution_count": 42,
   "metadata": {},
   "outputs": [],
   "source": [
    "# Get dummy variables for 'country_name' & 'region_name', then drop original columns\n",
    "X = pd.concat([X, pd.get_dummies(X[['country_name', 'region_name']])], axis=1)#'country_name', \n",
    "X.drop(['country_name', 'region_name'], axis=1, inplace=True)# "
   ]
  },
  {
   "cell_type": "code",
   "execution_count": 43,
   "metadata": {},
   "outputs": [],
   "source": [
    "# Encode Income Group Name:\n",
    "# 1 = Low Income Country\n",
    "# 2 = Lower Middle Income Country\n",
    "# 3 = Upper Middle Income Country\n",
    "# 4 = High Income Country\n",
    "\n",
    "def rankIncomes(incomeClass):\n",
    "    if incomeClass == 'Low Income Country':\n",
    "        return 0\n",
    "    elif incomeClass == 'Lower Middle Income Country':\n",
    "        return 1\n",
    "    elif incomeClass == 'Upper Middle Income Country':\n",
    "        return 2\n",
    "    else:\n",
    "        return 3\n",
    "\n",
    "# Apply function and drop original column\n",
    "X['Country_Income_Class'] = X.income_group_name.apply(rankIncomes)\n",
    "X.drop('income_group_name', axis=1, inplace=True)"
   ]
  },
  {
   "cell_type": "code",
   "execution_count": 44,
   "metadata": {},
   "outputs": [
    {
     "name": "stdout",
     "output_type": "stream",
     "text": [
      "<class 'pandas.core.frame.DataFrame'>\n",
      "Int64Index: 1926 entries, 0 to 1925\n",
      "Columns: 161 entries, Agriculture to Country_Income_Class\n",
      "dtypes: float64(12), int64(9), uint8(140)\n",
      "memory usage: 594.4 KB\n"
     ]
    }
   ],
   "source": [
    "X.info()"
   ]
  },
  {
   "cell_type": "code",
   "execution_count": 45,
   "metadata": {},
   "outputs": [
    {
     "data": {
      "text/plain": [
       "['Agriculture',\n",
       " 'Commodity Assistance',\n",
       " 'Economic Growth',\n",
       " 'Education',\n",
       " 'Governance',\n",
       " 'Health and Population',\n",
       " 'Humanitarian',\n",
       " 'Infrastructure',\n",
       " 'Department of Agriculture',\n",
       " 'Department of Defense',\n",
       " 'Department of Energy',\n",
       " 'Department of Health and Human Services',\n",
       " 'Department of Labor',\n",
       " 'Department of State',\n",
       " 'Department of the Army',\n",
       " 'Department of the Treasury',\n",
       " 'Millennium Challenge Corporation',\n",
       " 'Peace Corps',\n",
       " 'Trade and Development Agency',\n",
       " 'U.S. Agency for International Development',\n",
       " 'country_name_Afghanistan',\n",
       " 'country_name_Albania',\n",
       " 'country_name_Algeria',\n",
       " 'country_name_Angola',\n",
       " 'country_name_Argentina',\n",
       " 'country_name_Armenia',\n",
       " 'country_name_Azerbaijan',\n",
       " 'country_name_Bahamas',\n",
       " 'country_name_Bangladesh',\n",
       " 'country_name_Belarus',\n",
       " 'country_name_Belize',\n",
       " 'country_name_Benin',\n",
       " 'country_name_Bolivia',\n",
       " 'country_name_Bosnia and Herzegovina',\n",
       " 'country_name_Botswana',\n",
       " 'country_name_Brazil',\n",
       " 'country_name_Bulgaria',\n",
       " 'country_name_Burkina Faso',\n",
       " 'country_name_Burma (Myanmar)',\n",
       " 'country_name_Burundi',\n",
       " 'country_name_Cabo Verde',\n",
       " 'country_name_Cambodia',\n",
       " 'country_name_Cameroon',\n",
       " 'country_name_Central African Republic',\n",
       " 'country_name_Chad',\n",
       " 'country_name_Chile',\n",
       " 'country_name_China (P.R.C.)',\n",
       " 'country_name_Colombia',\n",
       " 'country_name_Congo (Brazzaville)',\n",
       " 'country_name_Congo (Kinshasa)',\n",
       " 'country_name_Costa Rica',\n",
       " \"country_name_Cote d'Ivoire\",\n",
       " 'country_name_Croatia',\n",
       " 'country_name_Cuba',\n",
       " 'country_name_Czechia',\n",
       " 'country_name_Djibouti',\n",
       " 'country_name_Dominican Republic',\n",
       " 'country_name_Ecuador',\n",
       " 'country_name_Egypt',\n",
       " 'country_name_El Salvador',\n",
       " 'country_name_Eritrea',\n",
       " 'country_name_Estonia',\n",
       " 'country_name_Eswatini',\n",
       " 'country_name_Ethiopia',\n",
       " 'country_name_Fiji',\n",
       " 'country_name_Gambia',\n",
       " 'country_name_Georgia',\n",
       " 'country_name_Ghana',\n",
       " 'country_name_Greece',\n",
       " 'country_name_Guatemala',\n",
       " 'country_name_Guinea',\n",
       " 'country_name_Guinea-Bissau',\n",
       " 'country_name_Guyana',\n",
       " 'country_name_Haiti',\n",
       " 'country_name_Honduras',\n",
       " 'country_name_Hungary',\n",
       " 'country_name_India',\n",
       " 'country_name_Indonesia',\n",
       " 'country_name_Iran',\n",
       " 'country_name_Iraq',\n",
       " 'country_name_Israel',\n",
       " 'country_name_Jamaica',\n",
       " 'country_name_Jordan',\n",
       " 'country_name_Kazakhstan',\n",
       " 'country_name_Kenya',\n",
       " 'country_name_Kyrgyzstan',\n",
       " 'country_name_Laos',\n",
       " 'country_name_Latvia',\n",
       " 'country_name_Lebanon',\n",
       " 'country_name_Lesotho',\n",
       " 'country_name_Liberia',\n",
       " 'country_name_Libya',\n",
       " 'country_name_Lithuania',\n",
       " 'country_name_Madagascar',\n",
       " 'country_name_Malawi',\n",
       " 'country_name_Malaysia',\n",
       " 'country_name_Maldives',\n",
       " 'country_name_Mali',\n",
       " 'country_name_Mauritania',\n",
       " 'country_name_Mexico',\n",
       " 'country_name_Micronesia (Federated States)',\n",
       " 'country_name_Moldova',\n",
       " 'country_name_Mongolia',\n",
       " 'country_name_Montenegro',\n",
       " 'country_name_Morocco',\n",
       " 'country_name_Mozambique',\n",
       " 'country_name_Namibia',\n",
       " 'country_name_Nepal',\n",
       " 'country_name_Nicaragua',\n",
       " 'country_name_Niger',\n",
       " 'country_name_Nigeria',\n",
       " 'country_name_North Macedonia',\n",
       " 'country_name_Oman',\n",
       " 'country_name_Pakistan',\n",
       " 'country_name_Panama',\n",
       " 'country_name_Papua New Guinea',\n",
       " 'country_name_Paraguay',\n",
       " 'country_name_Peru',\n",
       " 'country_name_Philippines',\n",
       " 'country_name_Poland',\n",
       " 'country_name_Romania',\n",
       " 'country_name_Russia',\n",
       " 'country_name_Rwanda',\n",
       " 'country_name_Samoa',\n",
       " 'country_name_Senegal',\n",
       " 'country_name_Serbia',\n",
       " 'country_name_Sierra Leone',\n",
       " 'country_name_Slovak Republic',\n",
       " 'country_name_Slovenia',\n",
       " 'country_name_South Africa',\n",
       " 'country_name_South Sudan',\n",
       " 'country_name_Sri Lanka',\n",
       " 'country_name_Sudan',\n",
       " 'country_name_Suriname',\n",
       " 'country_name_Syria',\n",
       " 'country_name_Tajikistan',\n",
       " 'country_name_Tanzania',\n",
       " 'country_name_Thailand',\n",
       " 'country_name_Timor-Leste',\n",
       " 'country_name_Togo',\n",
       " 'country_name_Tunisia',\n",
       " 'country_name_Turkey',\n",
       " 'country_name_Turkmenistan',\n",
       " 'country_name_Uganda',\n",
       " 'country_name_Ukraine',\n",
       " 'country_name_United Arab Emirates',\n",
       " 'country_name_Uzbekistan',\n",
       " 'country_name_Vanuatu',\n",
       " 'country_name_Venezuela',\n",
       " 'country_name_Vietnam',\n",
       " 'country_name_West Bank/Gaza',\n",
       " 'country_name_Yemen',\n",
       " 'country_name_Zambia',\n",
       " 'country_name_Zimbabwe',\n",
       " 'region_name_East Asia and Oceania',\n",
       " 'region_name_Europe and Eurasia',\n",
       " 'region_name_Middle East and North Africa',\n",
       " 'region_name_South and Central Asia',\n",
       " 'region_name_Sub-Saharan Africa',\n",
       " 'region_name_Western Hemisphere',\n",
       " 'Country_Income_Class']"
      ]
     },
     "execution_count": 45,
     "metadata": {},
     "output_type": "execute_result"
    }
   ],
   "source": [
    "# List of columns\n",
    "list(X.columns)"
   ]
  },
  {
   "cell_type": "code",
   "execution_count": null,
   "metadata": {},
   "outputs": [],
   "source": []
  },
  {
   "cell_type": "code",
   "execution_count": 46,
   "metadata": {},
   "outputs": [],
   "source": [
    "# Look at feature collinearity \n",
    "#plt.figure(figsize=(25, 25))\n",
    "#sns.set_context(\"paper\")\n",
    "#sns.heatmap(X.corr(), annot=False, cmap='coolwarm', vmin=-1, vmax=1)\n",
    "#plt.savefig('feature_correlation.png', bbox_inches = 'tight');"
   ]
  },
  {
   "cell_type": "code",
   "execution_count": null,
   "metadata": {},
   "outputs": [],
   "source": [
    "   "
   ]
  },
  {
   "cell_type": "markdown",
   "metadata": {},
   "source": [
    "# Train/Val/Test Split"
   ]
  },
  {
   "cell_type": "code",
   "execution_count": 47,
   "metadata": {},
   "outputs": [],
   "source": [
    "#Split the data 60 - 20 - 20 train/val/test\n",
    "X_train_val, X_test, y_train_val, y_test = train_test_split(X, y, test_size=0.2,random_state=42)\n",
    "X_train, X_val, y_train, y_val = train_test_split(X_train_val, y_train_val, test_size=.25, random_state=42)"
   ]
  },
  {
   "cell_type": "markdown",
   "metadata": {},
   "source": [
    "## Standardize Monetary Amounts"
   ]
  },
  {
   "cell_type": "code",
   "execution_count": 48,
   "metadata": {},
   "outputs": [
    {
     "name": "stderr",
     "output_type": "stream",
     "text": [
      "/anaconda3/lib/python3.7/site-packages/ipykernel_launcher.py:30: SettingWithCopyWarning: \n",
      "A value is trying to be set on a copy of a slice from a DataFrame.\n",
      "Try using .loc[row_indexer,col_indexer] = value instead\n",
      "\n",
      "See the caveats in the documentation: http://pandas.pydata.org/pandas-docs/stable/indexing.html#indexing-view-versus-copy\n",
      "/anaconda3/lib/python3.7/site-packages/pandas/core/indexing.py:543: SettingWithCopyWarning: \n",
      "A value is trying to be set on a copy of a slice from a DataFrame.\n",
      "Try using .loc[row_indexer,col_indexer] = value instead\n",
      "\n",
      "See the caveats in the documentation: http://pandas.pydata.org/pandas-docs/stable/indexing.html#indexing-view-versus-copy\n",
      "  self.obj[item] = s\n",
      "/anaconda3/lib/python3.7/site-packages/ipykernel_launcher.py:31: SettingWithCopyWarning: \n",
      "A value is trying to be set on a copy of a slice from a DataFrame.\n",
      "Try using .loc[row_indexer,col_indexer] = value instead\n",
      "\n",
      "See the caveats in the documentation: http://pandas.pydata.org/pandas-docs/stable/indexing.html#indexing-view-versus-copy\n"
     ]
    }
   ],
   "source": [
    "#After train/test split, Standardize numerical features (e.g. constant_amount)\n",
    "from sklearn.preprocessing import StandardScaler\n",
    "\n",
    "# Make copy of test and training input data\n",
    "scaled_train = X_train.copy()\n",
    "scaled_test = X_test.copy()\n",
    "\n",
    "# List columns to be standardized\n",
    "col_names = ['Department of Agriculture',\n",
    " 'Department of Defense',\n",
    " 'Department of Energy',\n",
    " 'Department of Health and Human Services',\n",
    " 'Department of Labor',\n",
    " 'Department of State',\n",
    " 'Department of the Army',\n",
    " 'Millennium Challenge Corporation',\n",
    " 'Peace Corps',\n",
    " 'Trade and Development Agency',\n",
    " 'U.S. Agency for International Development']\n",
    "\n",
    "features_train = scaled_train[col_names]\n",
    "features_test = scaled_test[col_names]\n",
    "\n",
    "# Apply the scaler to the training set, then apply the same mean and std dev to the test set\n",
    "scaler = StandardScaler()\n",
    "train_amount = scaler.fit_transform(features_train)\n",
    "test_amount = scaler.transform(features_test)\n",
    "\n",
    "# Set standardized values back into original train & test sets\n",
    "X_train[col_names] = train_amount\n",
    "X_test[col_names] = test_amount"
   ]
  },
  {
   "cell_type": "code",
   "execution_count": 49,
   "metadata": {},
   "outputs": [
    {
     "data": {
      "text/html": [
       "<div>\n",
       "<style scoped>\n",
       "    .dataframe tbody tr th:only-of-type {\n",
       "        vertical-align: middle;\n",
       "    }\n",
       "\n",
       "    .dataframe tbody tr th {\n",
       "        vertical-align: top;\n",
       "    }\n",
       "\n",
       "    .dataframe thead th {\n",
       "        text-align: right;\n",
       "    }\n",
       "</style>\n",
       "<table border=\"1\" class=\"dataframe\">\n",
       "  <thead>\n",
       "    <tr style=\"text-align: right;\">\n",
       "      <th></th>\n",
       "      <th>Agriculture</th>\n",
       "      <th>Commodity Assistance</th>\n",
       "      <th>Economic Growth</th>\n",
       "      <th>Education</th>\n",
       "      <th>Governance</th>\n",
       "      <th>Health and Population</th>\n",
       "      <th>Humanitarian</th>\n",
       "      <th>Infrastructure</th>\n",
       "      <th>Department of Agriculture</th>\n",
       "      <th>Department of Defense</th>\n",
       "      <th>...</th>\n",
       "      <th>country_name_Yemen</th>\n",
       "      <th>country_name_Zambia</th>\n",
       "      <th>country_name_Zimbabwe</th>\n",
       "      <th>region_name_East Asia and Oceania</th>\n",
       "      <th>region_name_Europe and Eurasia</th>\n",
       "      <th>region_name_Middle East and North Africa</th>\n",
       "      <th>region_name_South and Central Asia</th>\n",
       "      <th>region_name_Sub-Saharan Africa</th>\n",
       "      <th>region_name_Western Hemisphere</th>\n",
       "      <th>Country_Income_Class</th>\n",
       "    </tr>\n",
       "  </thead>\n",
       "  <tbody>\n",
       "    <tr>\n",
       "      <th>1423</th>\n",
       "      <td>0</td>\n",
       "      <td>0</td>\n",
       "      <td>0</td>\n",
       "      <td>0</td>\n",
       "      <td>1</td>\n",
       "      <td>1</td>\n",
       "      <td>1</td>\n",
       "      <td>0</td>\n",
       "      <td>-0.255894</td>\n",
       "      <td>-0.179408</td>\n",
       "      <td>...</td>\n",
       "      <td>0</td>\n",
       "      <td>0</td>\n",
       "      <td>0</td>\n",
       "      <td>0</td>\n",
       "      <td>0</td>\n",
       "      <td>0</td>\n",
       "      <td>0</td>\n",
       "      <td>1</td>\n",
       "      <td>0</td>\n",
       "      <td>1</td>\n",
       "    </tr>\n",
       "    <tr>\n",
       "      <th>1792</th>\n",
       "      <td>0</td>\n",
       "      <td>0</td>\n",
       "      <td>0</td>\n",
       "      <td>0</td>\n",
       "      <td>1</td>\n",
       "      <td>0</td>\n",
       "      <td>1</td>\n",
       "      <td>0</td>\n",
       "      <td>-0.255894</td>\n",
       "      <td>-0.179408</td>\n",
       "      <td>...</td>\n",
       "      <td>0</td>\n",
       "      <td>0</td>\n",
       "      <td>0</td>\n",
       "      <td>0</td>\n",
       "      <td>0</td>\n",
       "      <td>0</td>\n",
       "      <td>0</td>\n",
       "      <td>0</td>\n",
       "      <td>1</td>\n",
       "      <td>2</td>\n",
       "    </tr>\n",
       "    <tr>\n",
       "      <th>313</th>\n",
       "      <td>0</td>\n",
       "      <td>0</td>\n",
       "      <td>1</td>\n",
       "      <td>1</td>\n",
       "      <td>1</td>\n",
       "      <td>1</td>\n",
       "      <td>1</td>\n",
       "      <td>1</td>\n",
       "      <td>-0.255894</td>\n",
       "      <td>-0.135049</td>\n",
       "      <td>...</td>\n",
       "      <td>0</td>\n",
       "      <td>0</td>\n",
       "      <td>0</td>\n",
       "      <td>0</td>\n",
       "      <td>1</td>\n",
       "      <td>0</td>\n",
       "      <td>0</td>\n",
       "      <td>0</td>\n",
       "      <td>0</td>\n",
       "      <td>1</td>\n",
       "    </tr>\n",
       "    <tr>\n",
       "      <th>580</th>\n",
       "      <td>1</td>\n",
       "      <td>1</td>\n",
       "      <td>1</td>\n",
       "      <td>1</td>\n",
       "      <td>1</td>\n",
       "      <td>1</td>\n",
       "      <td>0</td>\n",
       "      <td>1</td>\n",
       "      <td>-0.121086</td>\n",
       "      <td>2.075900</td>\n",
       "      <td>...</td>\n",
       "      <td>0</td>\n",
       "      <td>0</td>\n",
       "      <td>0</td>\n",
       "      <td>0</td>\n",
       "      <td>0</td>\n",
       "      <td>1</td>\n",
       "      <td>0</td>\n",
       "      <td>0</td>\n",
       "      <td>0</td>\n",
       "      <td>1</td>\n",
       "    </tr>\n",
       "    <tr>\n",
       "      <th>269</th>\n",
       "      <td>0</td>\n",
       "      <td>0</td>\n",
       "      <td>0</td>\n",
       "      <td>0</td>\n",
       "      <td>1</td>\n",
       "      <td>0</td>\n",
       "      <td>1</td>\n",
       "      <td>0</td>\n",
       "      <td>-0.255894</td>\n",
       "      <td>-0.173021</td>\n",
       "      <td>...</td>\n",
       "      <td>0</td>\n",
       "      <td>0</td>\n",
       "      <td>0</td>\n",
       "      <td>0</td>\n",
       "      <td>1</td>\n",
       "      <td>0</td>\n",
       "      <td>0</td>\n",
       "      <td>0</td>\n",
       "      <td>0</td>\n",
       "      <td>3</td>\n",
       "    </tr>\n",
       "  </tbody>\n",
       "</table>\n",
       "<p>5 rows × 161 columns</p>\n",
       "</div>"
      ],
      "text/plain": [
       "      Agriculture  Commodity Assistance  Economic Growth  Education  \\\n",
       "1423            0                     0                0          0   \n",
       "1792            0                     0                0          0   \n",
       "313             0                     0                1          1   \n",
       "580             1                     1                1          1   \n",
       "269             0                     0                0          0   \n",
       "\n",
       "      Governance  Health and Population  Humanitarian  Infrastructure  \\\n",
       "1423           1                      1             1               0   \n",
       "1792           1                      0             1               0   \n",
       "313            1                      1             1               1   \n",
       "580            1                      1             0               1   \n",
       "269            1                      0             1               0   \n",
       "\n",
       "      Department of Agriculture  Department of Defense  ...  \\\n",
       "1423                  -0.255894              -0.179408  ...   \n",
       "1792                  -0.255894              -0.179408  ...   \n",
       "313                   -0.255894              -0.135049  ...   \n",
       "580                   -0.121086               2.075900  ...   \n",
       "269                   -0.255894              -0.173021  ...   \n",
       "\n",
       "      country_name_Yemen  country_name_Zambia  country_name_Zimbabwe  \\\n",
       "1423                   0                    0                      0   \n",
       "1792                   0                    0                      0   \n",
       "313                    0                    0                      0   \n",
       "580                    0                    0                      0   \n",
       "269                    0                    0                      0   \n",
       "\n",
       "      region_name_East Asia and Oceania  region_name_Europe and Eurasia  \\\n",
       "1423                                  0                               0   \n",
       "1792                                  0                               0   \n",
       "313                                   0                               1   \n",
       "580                                   0                               0   \n",
       "269                                   0                               1   \n",
       "\n",
       "      region_name_Middle East and North Africa  \\\n",
       "1423                                         0   \n",
       "1792                                         0   \n",
       "313                                          0   \n",
       "580                                          1   \n",
       "269                                          0   \n",
       "\n",
       "      region_name_South and Central Asia  region_name_Sub-Saharan Africa  \\\n",
       "1423                                   0                               1   \n",
       "1792                                   0                               0   \n",
       "313                                    0                               0   \n",
       "580                                    0                               0   \n",
       "269                                    0                               0   \n",
       "\n",
       "      region_name_Western Hemisphere  Country_Income_Class  \n",
       "1423                               0                     1  \n",
       "1792                               1                     2  \n",
       "313                                0                     1  \n",
       "580                                0                     1  \n",
       "269                                0                     3  \n",
       "\n",
       "[5 rows x 161 columns]"
      ]
     },
     "execution_count": 49,
     "metadata": {},
     "output_type": "execute_result"
    }
   ],
   "source": [
    "X_train.head()"
   ]
  },
  {
   "cell_type": "markdown",
   "metadata": {},
   "source": [
    "## Define RMSE"
   ]
  },
  {
   "cell_type": "code",
   "execution_count": 50,
   "metadata": {},
   "outputs": [],
   "source": [
    "#Evaluate models with Root Mean Squared Error\n",
    "def rmse(actuals, preds):\n",
    "    return np.sqrt(((actuals - preds) ** 2).mean())"
   ]
  },
  {
   "cell_type": "markdown",
   "metadata": {},
   "source": [
    "## Initial OLS"
   ]
  },
  {
   "cell_type": "code",
   "execution_count": 51,
   "metadata": {},
   "outputs": [
    {
     "data": {
      "text/html": [
       "<table class=\"simpletable\">\n",
       "<caption>OLS Regression Results</caption>\n",
       "<tr>\n",
       "  <th>Dep. Variable:</th>       <td>HDI_Change</td>    <th>  R-squared:         </th> <td>   0.288</td>\n",
       "</tr>\n",
       "<tr>\n",
       "  <th>Model:</th>                   <td>OLS</td>       <th>  Adj. R-squared:    </th> <td>   0.182</td>\n",
       "</tr>\n",
       "<tr>\n",
       "  <th>Method:</th>             <td>Least Squares</td>  <th>  F-statistic:       </th> <td>   2.726</td>\n",
       "</tr>\n",
       "<tr>\n",
       "  <th>Date:</th>             <td>Thu, 20 Jun 2019</td> <th>  Prob (F-statistic):</th> <td>3.69e-20</td>\n",
       "</tr>\n",
       "<tr>\n",
       "  <th>Time:</th>                 <td>04:16:45</td>     <th>  Log-Likelihood:    </th> <td>  4463.6</td>\n",
       "</tr>\n",
       "<tr>\n",
       "  <th>No. Observations:</th>      <td>  1155</td>      <th>  AIC:               </th> <td>  -8627.</td>\n",
       "</tr>\n",
       "<tr>\n",
       "  <th>Df Residuals:</th>          <td>  1005</td>      <th>  BIC:               </th> <td>  -7869.</td>\n",
       "</tr>\n",
       "<tr>\n",
       "  <th>Df Model:</th>              <td>   149</td>      <th>                     </th>     <td> </td>   \n",
       "</tr>\n",
       "<tr>\n",
       "  <th>Covariance Type:</th>      <td>nonrobust</td>    <th>                     </th>     <td> </td>   \n",
       "</tr>\n",
       "</table>\n",
       "<table class=\"simpletable\">\n",
       "<tr>\n",
       "                       <td></td>                         <th>coef</th>     <th>std err</th>      <th>t</th>      <th>P>|t|</th>  <th>[0.025</th>    <th>0.975]</th>  \n",
       "</tr>\n",
       "<tr>\n",
       "  <th>Agriculture</th>                                <td>   -0.0003</td> <td>    0.001</td> <td>   -0.484</td> <td> 0.629</td> <td>   -0.001</td> <td>    0.001</td>\n",
       "</tr>\n",
       "<tr>\n",
       "  <th>Commodity Assistance</th>                       <td>    0.0009</td> <td>    0.000</td> <td>    1.933</td> <td> 0.054</td> <td>-1.44e-05</td> <td>    0.002</td>\n",
       "</tr>\n",
       "<tr>\n",
       "  <th>Economic Growth</th>                            <td>-8.717e-05</td> <td>    0.000</td> <td>   -0.187</td> <td> 0.851</td> <td>   -0.001</td> <td>    0.001</td>\n",
       "</tr>\n",
       "<tr>\n",
       "  <th>Education</th>                                  <td>   -0.0006</td> <td>    0.000</td> <td>   -1.259</td> <td> 0.208</td> <td>   -0.002</td> <td>    0.000</td>\n",
       "</tr>\n",
       "<tr>\n",
       "  <th>Governance</th>                                 <td>    0.0005</td> <td>    0.001</td> <td>    0.637</td> <td> 0.524</td> <td>   -0.001</td> <td>    0.002</td>\n",
       "</tr>\n",
       "<tr>\n",
       "  <th>Health and Population</th>                      <td>    0.0018</td> <td>    0.001</td> <td>    3.357</td> <td> 0.001</td> <td>    0.001</td> <td>    0.003</td>\n",
       "</tr>\n",
       "<tr>\n",
       "  <th>Humanitarian</th>                               <td>    0.0006</td> <td>    0.000</td> <td>    1.325</td> <td> 0.186</td> <td>   -0.000</td> <td>    0.002</td>\n",
       "</tr>\n",
       "<tr>\n",
       "  <th>Infrastructure</th>                             <td>   -0.0002</td> <td>    0.000</td> <td>   -0.485</td> <td> 0.628</td> <td>   -0.001</td> <td>    0.001</td>\n",
       "</tr>\n",
       "<tr>\n",
       "  <th>Department of Agriculture</th>                  <td>   -0.0002</td> <td>    0.000</td> <td>   -1.109</td> <td> 0.268</td> <td>   -0.001</td> <td>    0.000</td>\n",
       "</tr>\n",
       "<tr>\n",
       "  <th>Department of Defense</th>                      <td>   -0.0003</td> <td>    0.000</td> <td>   -1.241</td> <td> 0.215</td> <td>   -0.001</td> <td>    0.000</td>\n",
       "</tr>\n",
       "<tr>\n",
       "  <th>Department of Energy</th>                       <td>-9.184e-06</td> <td>    0.000</td> <td>   -0.041</td> <td> 0.968</td> <td>   -0.000</td> <td>    0.000</td>\n",
       "</tr>\n",
       "<tr>\n",
       "  <th>Department of Health and Human Services</th>    <td>    0.0001</td> <td>    0.000</td> <td>    0.435</td> <td> 0.664</td> <td>   -0.000</td> <td>    0.001</td>\n",
       "</tr>\n",
       "<tr>\n",
       "  <th>Department of Labor</th>                        <td>-9.998e-05</td> <td>    0.000</td> <td>   -0.577</td> <td> 0.564</td> <td>   -0.000</td> <td>    0.000</td>\n",
       "</tr>\n",
       "<tr>\n",
       "  <th>Department of State</th>                        <td>   -0.0004</td> <td>    0.000</td> <td>   -1.438</td> <td> 0.151</td> <td>   -0.001</td> <td>    0.000</td>\n",
       "</tr>\n",
       "<tr>\n",
       "  <th>Department of the Army</th>                     <td>    0.0006</td> <td>    0.001</td> <td>    1.225</td> <td> 0.221</td> <td>   -0.000</td> <td>    0.002</td>\n",
       "</tr>\n",
       "<tr>\n",
       "  <th>Department of the Treasury</th>                 <td>   -0.0005</td> <td>    0.000</td> <td>   -1.880</td> <td> 0.060</td> <td>   -0.001</td> <td> 2.11e-05</td>\n",
       "</tr>\n",
       "<tr>\n",
       "  <th>Millennium Challenge Corporation</th>           <td>    0.0002</td> <td>    0.000</td> <td>    1.436</td> <td> 0.151</td> <td>-9.13e-05</td> <td>    0.001</td>\n",
       "</tr>\n",
       "<tr>\n",
       "  <th>Peace Corps</th>                                <td>   -0.0004</td> <td>    0.000</td> <td>   -1.930</td> <td> 0.054</td> <td>   -0.001</td> <td> 6.96e-06</td>\n",
       "</tr>\n",
       "<tr>\n",
       "  <th>Trade and Development Agency</th>               <td>   -0.0001</td> <td>    0.000</td> <td>   -0.537</td> <td> 0.591</td> <td>   -0.001</td> <td>    0.000</td>\n",
       "</tr>\n",
       "<tr>\n",
       "  <th>U.S. Agency for International Development</th>  <td>    0.0005</td> <td>    0.000</td> <td>    1.352</td> <td> 0.177</td> <td>   -0.000</td> <td>    0.001</td>\n",
       "</tr>\n",
       "<tr>\n",
       "  <th>country_name_Afghanistan</th>                   <td>    0.0036</td> <td>    0.003</td> <td>    1.385</td> <td> 0.166</td> <td>   -0.001</td> <td>    0.009</td>\n",
       "</tr>\n",
       "<tr>\n",
       "  <th>country_name_Albania</th>                       <td>    0.0023</td> <td>    0.002</td> <td>    1.261</td> <td> 0.208</td> <td>   -0.001</td> <td>    0.006</td>\n",
       "</tr>\n",
       "<tr>\n",
       "  <th>country_name_Algeria</th>                       <td>    0.0039</td> <td>    0.002</td> <td>    2.141</td> <td> 0.032</td> <td>    0.000</td> <td>    0.007</td>\n",
       "</tr>\n",
       "<tr>\n",
       "  <th>country_name_Angola</th>                        <td>    0.0016</td> <td>    0.002</td> <td>    0.960</td> <td> 0.337</td> <td>   -0.002</td> <td>    0.005</td>\n",
       "</tr>\n",
       "<tr>\n",
       "  <th>country_name_Argentina</th>                     <td>    0.0007</td> <td>    0.004</td> <td>    0.185</td> <td> 0.853</td> <td>   -0.007</td> <td>    0.008</td>\n",
       "</tr>\n",
       "<tr>\n",
       "  <th>country_name_Armenia</th>                       <td>    0.0008</td> <td>    0.002</td> <td>    0.471</td> <td> 0.638</td> <td>   -0.002</td> <td>    0.004</td>\n",
       "</tr>\n",
       "<tr>\n",
       "  <th>country_name_Azerbaijan</th>                    <td>    0.0016</td> <td>    0.002</td> <td>    0.974</td> <td> 0.330</td> <td>   -0.002</td> <td>    0.005</td>\n",
       "</tr>\n",
       "<tr>\n",
       "  <th>country_name_Bahamas</th>                       <td>   -0.0076</td> <td>    0.005</td> <td>   -1.485</td> <td> 0.138</td> <td>   -0.018</td> <td>    0.002</td>\n",
       "</tr>\n",
       "<tr>\n",
       "  <th>country_name_Bangladesh</th>                    <td>    0.0015</td> <td>    0.001</td> <td>    1.149</td> <td> 0.251</td> <td>   -0.001</td> <td>    0.004</td>\n",
       "</tr>\n",
       "<tr>\n",
       "  <th>country_name_Belarus</th>                       <td>   -0.0010</td> <td>    0.002</td> <td>   -0.463</td> <td> 0.644</td> <td>   -0.005</td> <td>    0.003</td>\n",
       "</tr>\n",
       "<tr>\n",
       "  <th>country_name_Belize</th>                        <td>   -0.0033</td> <td>    0.002</td> <td>   -1.355</td> <td> 0.176</td> <td>   -0.008</td> <td>    0.001</td>\n",
       "</tr>\n",
       "<tr>\n",
       "  <th>country_name_Benin</th>                         <td>    0.0011</td> <td>    0.002</td> <td>    0.696</td> <td> 0.487</td> <td>   -0.002</td> <td>    0.004</td>\n",
       "</tr>\n",
       "<tr>\n",
       "  <th>country_name_Bolivia</th>                       <td>    0.0021</td> <td>    0.002</td> <td>    1.139</td> <td> 0.255</td> <td>   -0.001</td> <td>    0.006</td>\n",
       "</tr>\n",
       "<tr>\n",
       "  <th>country_name_Bosnia and Herzegovina</th>        <td>   -0.0009</td> <td>    0.002</td> <td>   -0.488</td> <td> 0.625</td> <td>   -0.005</td> <td>    0.003</td>\n",
       "</tr>\n",
       "<tr>\n",
       "  <th>country_name_Botswana</th>                      <td>-6.581e-05</td> <td>    0.002</td> <td>   -0.037</td> <td> 0.971</td> <td>   -0.004</td> <td>    0.003</td>\n",
       "</tr>\n",
       "<tr>\n",
       "  <th>country_name_Brazil</th>                        <td>    0.0006</td> <td>    0.002</td> <td>    0.340</td> <td> 0.734</td> <td>   -0.003</td> <td>    0.004</td>\n",
       "</tr>\n",
       "<tr>\n",
       "  <th>country_name_Bulgaria</th>                      <td>    0.0011</td> <td>    0.002</td> <td>    0.591</td> <td> 0.554</td> <td>   -0.003</td> <td>    0.005</td>\n",
       "</tr>\n",
       "<tr>\n",
       "  <th>country_name_Burkina Faso</th>                  <td>    0.0023</td> <td>    0.002</td> <td>    1.170</td> <td> 0.242</td> <td>   -0.002</td> <td>    0.006</td>\n",
       "</tr>\n",
       "<tr>\n",
       "  <th>country_name_Burma (Myanmar)</th>               <td>    0.0019</td> <td>    0.002</td> <td>    0.936</td> <td> 0.349</td> <td>   -0.002</td> <td>    0.006</td>\n",
       "</tr>\n",
       "<tr>\n",
       "  <th>country_name_Burundi</th>                       <td>    0.0002</td> <td>    0.002</td> <td>    0.121</td> <td> 0.904</td> <td>   -0.003</td> <td>    0.003</td>\n",
       "</tr>\n",
       "<tr>\n",
       "  <th>country_name_Cabo Verde</th>                    <td>    0.0005</td> <td>    0.003</td> <td>    0.152</td> <td> 0.880</td> <td>   -0.006</td> <td>    0.007</td>\n",
       "</tr>\n",
       "<tr>\n",
       "  <th>country_name_Cambodia</th>                      <td>    0.0043</td> <td>    0.001</td> <td>    2.882</td> <td> 0.004</td> <td>    0.001</td> <td>    0.007</td>\n",
       "</tr>\n",
       "<tr>\n",
       "  <th>country_name_Cameroon</th>                      <td>    0.0008</td> <td>    0.002</td> <td>    0.457</td> <td> 0.648</td> <td>   -0.003</td> <td>    0.004</td>\n",
       "</tr>\n",
       "<tr>\n",
       "  <th>country_name_Central African Republic</th>      <td>    0.0011</td> <td>    0.002</td> <td>    0.487</td> <td> 0.626</td> <td>   -0.003</td> <td>    0.005</td>\n",
       "</tr>\n",
       "<tr>\n",
       "  <th>country_name_Chad</th>                          <td>    0.0004</td> <td>    0.002</td> <td>    0.196</td> <td> 0.844</td> <td>   -0.003</td> <td>    0.004</td>\n",
       "</tr>\n",
       "<tr>\n",
       "  <th>country_name_Chile</th>                         <td>    0.0015</td> <td>    0.004</td> <td>    0.422</td> <td> 0.673</td> <td>   -0.006</td> <td>    0.009</td>\n",
       "</tr>\n",
       "<tr>\n",
       "  <th>country_name_China (P.R.C.)</th>                <td>    0.0035</td> <td>    0.002</td> <td>    1.856</td> <td> 0.064</td> <td>   -0.000</td> <td>    0.007</td>\n",
       "</tr>\n",
       "<tr>\n",
       "  <th>country_name_Colombia</th>                      <td>    0.0031</td> <td>    0.002</td> <td>    1.594</td> <td> 0.111</td> <td>   -0.001</td> <td>    0.007</td>\n",
       "</tr>\n",
       "<tr>\n",
       "  <th>country_name_Congo (Brazzaville)</th>           <td>    0.0087</td> <td>    0.004</td> <td>    2.298</td> <td> 0.022</td> <td>    0.001</td> <td>    0.016</td>\n",
       "</tr>\n",
       "<tr>\n",
       "  <th>country_name_Congo (Kinshasa)</th>              <td>   -0.0002</td> <td>    0.002</td> <td>   -0.086</td> <td> 0.931</td> <td>   -0.004</td> <td>    0.004</td>\n",
       "</tr>\n",
       "<tr>\n",
       "  <th>country_name_Costa Rica</th>                    <td>    0.0007</td> <td>    0.002</td> <td>    0.384</td> <td> 0.701</td> <td>   -0.003</td> <td>    0.004</td>\n",
       "</tr>\n",
       "<tr>\n",
       "  <th>country_name_Cote d'Ivoire</th>                 <td>   -0.0008</td> <td>    0.002</td> <td>   -0.393</td> <td> 0.694</td> <td>   -0.005</td> <td>    0.003</td>\n",
       "</tr>\n",
       "<tr>\n",
       "  <th>country_name_Croatia</th>                       <td>    0.0011</td> <td>    0.002</td> <td>    0.524</td> <td> 0.600</td> <td>   -0.003</td> <td>    0.005</td>\n",
       "</tr>\n",
       "<tr>\n",
       "  <th>country_name_Cuba</th>                          <td>    0.0090</td> <td>    0.003</td> <td>    2.921</td> <td> 0.004</td> <td>    0.003</td> <td>    0.015</td>\n",
       "</tr>\n",
       "<tr>\n",
       "  <th>country_name_Czechia</th>                       <td>   -0.0009</td> <td>    0.002</td> <td>   -0.422</td> <td> 0.673</td> <td>   -0.005</td> <td>    0.003</td>\n",
       "</tr>\n",
       "<tr>\n",
       "  <th>country_name_Djibouti</th>                      <td>    0.0012</td> <td>    0.002</td> <td>    0.668</td> <td> 0.505</td> <td>   -0.002</td> <td>    0.005</td>\n",
       "</tr>\n",
       "<tr>\n",
       "  <th>country_name_Dominican Republic</th>            <td>    0.0006</td> <td>    0.002</td> <td>    0.346</td> <td> 0.729</td> <td>   -0.003</td> <td>    0.004</td>\n",
       "</tr>\n",
       "<tr>\n",
       "  <th>country_name_Ecuador</th>                       <td>   -0.0006</td> <td>    0.002</td> <td>   -0.335</td> <td> 0.738</td> <td>   -0.004</td> <td>    0.003</td>\n",
       "</tr>\n",
       "<tr>\n",
       "  <th>country_name_Egypt</th>                         <td>    0.0035</td> <td>    0.002</td> <td>    2.297</td> <td> 0.022</td> <td>    0.001</td> <td>    0.007</td>\n",
       "</tr>\n",
       "<tr>\n",
       "  <th>country_name_El Salvador</th>                   <td>   -0.0003</td> <td>    0.002</td> <td>   -0.194</td> <td> 0.846</td> <td>   -0.003</td> <td>    0.003</td>\n",
       "</tr>\n",
       "<tr>\n",
       "  <th>country_name_Eritrea</th>                       <td>   -0.0047</td> <td>    0.005</td> <td>   -0.873</td> <td> 0.383</td> <td>   -0.015</td> <td>    0.006</td>\n",
       "</tr>\n",
       "<tr>\n",
       "  <th>country_name_Estonia</th>                       <td> 6.411e-18</td> <td> 4.41e-18</td> <td>    1.453</td> <td> 0.147</td> <td>-2.25e-18</td> <td> 1.51e-17</td>\n",
       "</tr>\n",
       "<tr>\n",
       "  <th>country_name_Eswatini</th>                      <td>    0.0044</td> <td>    0.004</td> <td>    1.148</td> <td> 0.251</td> <td>   -0.003</td> <td>    0.012</td>\n",
       "</tr>\n",
       "<tr>\n",
       "  <th>country_name_Ethiopia</th>                      <td>    0.0054</td> <td>    0.002</td> <td>    2.822</td> <td> 0.005</td> <td>    0.002</td> <td>    0.009</td>\n",
       "</tr>\n",
       "<tr>\n",
       "  <th>country_name_Fiji</th>                          <td>   -0.0011</td> <td>    0.005</td> <td>   -0.220</td> <td> 0.826</td> <td>   -0.011</td> <td>    0.009</td>\n",
       "</tr>\n",
       "<tr>\n",
       "  <th>country_name_Gambia</th>                        <td>   -0.0021</td> <td>    0.005</td> <td>   -0.392</td> <td> 0.695</td> <td>   -0.013</td> <td>    0.008</td>\n",
       "</tr>\n",
       "<tr>\n",
       "  <th>country_name_Georgia</th>                       <td>   -0.0006</td> <td>    0.002</td> <td>   -0.315</td> <td> 0.753</td> <td>   -0.004</td> <td>    0.003</td>\n",
       "</tr>\n",
       "<tr>\n",
       "  <th>country_name_Ghana</th>                         <td>   -0.0024</td> <td>    0.002</td> <td>   -1.289</td> <td> 0.198</td> <td>   -0.006</td> <td>    0.001</td>\n",
       "</tr>\n",
       "<tr>\n",
       "  <th>country_name_Greece</th>                        <td>   -0.0043</td> <td>    0.005</td> <td>   -0.819</td> <td> 0.413</td> <td>   -0.015</td> <td>    0.006</td>\n",
       "</tr>\n",
       "<tr>\n",
       "  <th>country_name_Guatemala</th>                     <td>    0.0034</td> <td>    0.001</td> <td>    2.448</td> <td> 0.015</td> <td>    0.001</td> <td>    0.006</td>\n",
       "</tr>\n",
       "<tr>\n",
       "  <th>country_name_Guinea</th>                        <td>    0.0006</td> <td>    0.002</td> <td>    0.367</td> <td> 0.714</td> <td>   -0.002</td> <td>    0.004</td>\n",
       "</tr>\n",
       "<tr>\n",
       "  <th>country_name_Guinea-Bissau</th>                 <td>    0.0041</td> <td>    0.004</td> <td>    1.059</td> <td> 0.290</td> <td>   -0.003</td> <td>    0.012</td>\n",
       "</tr>\n",
       "<tr>\n",
       "  <th>country_name_Guyana</th>                        <td>   -0.0029</td> <td>    0.002</td> <td>   -1.620</td> <td> 0.105</td> <td>   -0.006</td> <td>    0.001</td>\n",
       "</tr>\n",
       "<tr>\n",
       "  <th>country_name_Haiti</th>                         <td>   -0.0007</td> <td>    0.001</td> <td>   -0.490</td> <td> 0.624</td> <td>   -0.003</td> <td>    0.002</td>\n",
       "</tr>\n",
       "<tr>\n",
       "  <th>country_name_Honduras</th>                      <td>   -0.0005</td> <td>    0.002</td> <td>   -0.314</td> <td> 0.754</td> <td>   -0.004</td> <td>    0.003</td>\n",
       "</tr>\n",
       "<tr>\n",
       "  <th>country_name_Hungary</th>                       <td>   -0.0024</td> <td>    0.004</td> <td>   -0.655</td> <td> 0.512</td> <td>   -0.010</td> <td>    0.005</td>\n",
       "</tr>\n",
       "<tr>\n",
       "  <th>country_name_India</th>                         <td>    0.0019</td> <td>    0.002</td> <td>    1.184</td> <td> 0.237</td> <td>   -0.001</td> <td>    0.005</td>\n",
       "</tr>\n",
       "<tr>\n",
       "  <th>country_name_Indonesia</th>                     <td> 2.419e-05</td> <td>    0.002</td> <td>    0.015</td> <td> 0.988</td> <td>   -0.003</td> <td>    0.003</td>\n",
       "</tr>\n",
       "<tr>\n",
       "  <th>country_name_Iran</th>                          <td>    0.0017</td> <td>    0.005</td> <td>    0.332</td> <td> 0.740</td> <td>   -0.008</td> <td>    0.012</td>\n",
       "</tr>\n",
       "<tr>\n",
       "  <th>country_name_Iraq</th>                          <td>    0.0062</td> <td>    0.002</td> <td>    2.658</td> <td> 0.008</td> <td>    0.002</td> <td>    0.011</td>\n",
       "</tr>\n",
       "<tr>\n",
       "  <th>country_name_Israel</th>                        <td>    0.0016</td> <td>    0.002</td> <td>    0.884</td> <td> 0.377</td> <td>   -0.002</td> <td>    0.005</td>\n",
       "</tr>\n",
       "<tr>\n",
       "  <th>country_name_Jamaica</th>                       <td>   -0.0004</td> <td>    0.001</td> <td>   -0.287</td> <td> 0.774</td> <td>   -0.003</td> <td>    0.002</td>\n",
       "</tr>\n",
       "<tr>\n",
       "  <th>country_name_Jordan</th>                        <td>   -0.0013</td> <td>    0.002</td> <td>   -0.746</td> <td> 0.456</td> <td>   -0.005</td> <td>    0.002</td>\n",
       "</tr>\n",
       "<tr>\n",
       "  <th>country_name_Kazakhstan</th>                    <td>   -0.0016</td> <td>    0.002</td> <td>   -1.003</td> <td> 0.316</td> <td>   -0.005</td> <td>    0.002</td>\n",
       "</tr>\n",
       "<tr>\n",
       "  <th>country_name_Kenya</th>                         <td>   -0.0003</td> <td>    0.002</td> <td>   -0.143</td> <td> 0.887</td> <td>   -0.004</td> <td>    0.004</td>\n",
       "</tr>\n",
       "<tr>\n",
       "  <th>country_name_Kyrgyzstan</th>                    <td>   -0.0008</td> <td>    0.002</td> <td>   -0.470</td> <td> 0.639</td> <td>   -0.004</td> <td>    0.002</td>\n",
       "</tr>\n",
       "<tr>\n",
       "  <th>country_name_Laos</th>                          <td>    0.0034</td> <td>    0.002</td> <td>    1.543</td> <td> 0.123</td> <td>   -0.001</td> <td>    0.008</td>\n",
       "</tr>\n",
       "<tr>\n",
       "  <th>country_name_Latvia</th>                        <td>    0.0013</td> <td>    0.003</td> <td>    0.416</td> <td> 0.677</td> <td>   -0.005</td> <td>    0.007</td>\n",
       "</tr>\n",
       "<tr>\n",
       "  <th>country_name_Lebanon</th>                       <td> 6.445e-05</td> <td>    0.002</td> <td>    0.035</td> <td> 0.972</td> <td>   -0.004</td> <td>    0.004</td>\n",
       "</tr>\n",
       "<tr>\n",
       "  <th>country_name_Lesotho</th>                       <td>   -0.0022</td> <td>    0.002</td> <td>   -1.143</td> <td> 0.253</td> <td>   -0.006</td> <td>    0.002</td>\n",
       "</tr>\n",
       "<tr>\n",
       "  <th>country_name_Liberia</th>                       <td>   -0.0040</td> <td>    0.002</td> <td>   -2.150</td> <td> 0.032</td> <td>   -0.008</td> <td>   -0.000</td>\n",
       "</tr>\n",
       "<tr>\n",
       "  <th>country_name_Libya</th>                         <td>   -0.0176</td> <td>    0.002</td> <td>   -7.349</td> <td> 0.000</td> <td>   -0.022</td> <td>   -0.013</td>\n",
       "</tr>\n",
       "<tr>\n",
       "  <th>country_name_Lithuania</th>                     <td>   -0.0016</td> <td>    0.002</td> <td>   -0.660</td> <td> 0.510</td> <td>   -0.006</td> <td>    0.003</td>\n",
       "</tr>\n",
       "<tr>\n",
       "  <th>country_name_Madagascar</th>                    <td>   -0.0026</td> <td>    0.001</td> <td>   -1.756</td> <td> 0.079</td> <td>   -0.005</td> <td>    0.000</td>\n",
       "</tr>\n",
       "<tr>\n",
       "  <th>country_name_Malawi</th>                        <td>   -0.0015</td> <td>    0.002</td> <td>   -0.967</td> <td> 0.334</td> <td>   -0.004</td> <td>    0.002</td>\n",
       "</tr>\n",
       "<tr>\n",
       "  <th>country_name_Malaysia</th>                      <td>   -0.0011</td> <td>    0.002</td> <td>   -0.526</td> <td> 0.599</td> <td>   -0.005</td> <td>    0.003</td>\n",
       "</tr>\n",
       "<tr>\n",
       "  <th>country_name_Maldives</th>                      <td> 2.474e-18</td> <td> 2.34e-18</td> <td>    1.058</td> <td> 0.290</td> <td>-2.11e-18</td> <td> 7.06e-18</td>\n",
       "</tr>\n",
       "<tr>\n",
       "  <th>country_name_Mali</th>                          <td>    0.0036</td> <td>    0.002</td> <td>    2.151</td> <td> 0.032</td> <td>    0.000</td> <td>    0.007</td>\n",
       "</tr>\n",
       "<tr>\n",
       "  <th>country_name_Mauritania</th>                    <td>   -0.0034</td> <td>    0.002</td> <td>   -1.659</td> <td> 0.097</td> <td>   -0.008</td> <td>    0.001</td>\n",
       "</tr>\n",
       "<tr>\n",
       "  <th>country_name_Mexico</th>                        <td>    0.0004</td> <td>    0.002</td> <td>    0.236</td> <td> 0.813</td> <td>   -0.003</td> <td>    0.004</td>\n",
       "</tr>\n",
       "<tr>\n",
       "  <th>country_name_Micronesia (Federated States)</th> <td>   -0.0049</td> <td>    0.004</td> <td>   -1.309</td> <td> 0.191</td> <td>   -0.012</td> <td>    0.002</td>\n",
       "</tr>\n",
       "<tr>\n",
       "  <th>country_name_Moldova</th>                       <td>    0.0028</td> <td>    0.002</td> <td>    1.667</td> <td> 0.096</td> <td>   -0.000</td> <td>    0.006</td>\n",
       "</tr>\n",
       "<tr>\n",
       "  <th>country_name_Mongolia</th>                      <td>    0.0033</td> <td>    0.002</td> <td>    1.834</td> <td> 0.067</td> <td>   -0.000</td> <td>    0.007</td>\n",
       "</tr>\n",
       "<tr>\n",
       "  <th>country_name_Montenegro</th>                    <td>    0.0042</td> <td>    0.004</td> <td>    1.109</td> <td> 0.268</td> <td>   -0.003</td> <td>    0.012</td>\n",
       "</tr>\n",
       "<tr>\n",
       "  <th>country_name_Morocco</th>                       <td>    0.0073</td> <td>    0.002</td> <td>    4.023</td> <td> 0.000</td> <td>    0.004</td> <td>    0.011</td>\n",
       "</tr>\n",
       "<tr>\n",
       "  <th>country_name_Mozambique</th>                    <td>    0.0021</td> <td>    0.001</td> <td>    1.526</td> <td> 0.127</td> <td>   -0.001</td> <td>    0.005</td>\n",
       "</tr>\n",
       "<tr>\n",
       "  <th>country_name_Namibia</th>                       <td>   -0.0007</td> <td>    0.002</td> <td>   -0.410</td> <td> 0.682</td> <td>   -0.004</td> <td>    0.003</td>\n",
       "</tr>\n",
       "<tr>\n",
       "  <th>country_name_Nepal</th>                         <td>    0.0008</td> <td>    0.002</td> <td>    0.451</td> <td> 0.652</td> <td>   -0.003</td> <td>    0.004</td>\n",
       "</tr>\n",
       "<tr>\n",
       "  <th>country_name_Nicaragua</th>                     <td>    0.0009</td> <td>    0.001</td> <td>    0.651</td> <td> 0.515</td> <td>   -0.002</td> <td>    0.004</td>\n",
       "</tr>\n",
       "<tr>\n",
       "  <th>country_name_Niger</th>                         <td>   -0.0012</td> <td>    0.002</td> <td>   -0.764</td> <td> 0.445</td> <td>   -0.004</td> <td>    0.002</td>\n",
       "</tr>\n",
       "<tr>\n",
       "  <th>country_name_Nigeria</th>                       <td>   -0.0012</td> <td>    0.002</td> <td>   -0.544</td> <td> 0.587</td> <td>   -0.006</td> <td>    0.003</td>\n",
       "</tr>\n",
       "<tr>\n",
       "  <th>country_name_North Macedonia</th>               <td>    0.0004</td> <td>    0.002</td> <td>    0.240</td> <td> 0.811</td> <td>   -0.003</td> <td>    0.004</td>\n",
       "</tr>\n",
       "<tr>\n",
       "  <th>country_name_Oman</th>                          <td>    0.0052</td> <td>    0.004</td> <td>    1.436</td> <td> 0.151</td> <td>   -0.002</td> <td>    0.012</td>\n",
       "</tr>\n",
       "<tr>\n",
       "  <th>country_name_Pakistan</th>                      <td>   -0.0018</td> <td>    0.002</td> <td>   -1.187</td> <td> 0.235</td> <td>   -0.005</td> <td>    0.001</td>\n",
       "</tr>\n",
       "<tr>\n",
       "  <th>country_name_Panama</th>                        <td>    0.0003</td> <td>    0.002</td> <td>    0.144</td> <td> 0.885</td> <td>   -0.004</td> <td>    0.004</td>\n",
       "</tr>\n",
       "<tr>\n",
       "  <th>country_name_Papua New Guinea</th>              <td>   -0.0039</td> <td>    0.003</td> <td>   -1.467</td> <td> 0.143</td> <td>   -0.009</td> <td>    0.001</td>\n",
       "</tr>\n",
       "<tr>\n",
       "  <th>country_name_Paraguay</th>                      <td>    0.0001</td> <td>    0.002</td> <td>    0.071</td> <td> 0.944</td> <td>   -0.003</td> <td>    0.003</td>\n",
       "</tr>\n",
       "<tr>\n",
       "  <th>country_name_Peru</th>                          <td>    0.0013</td> <td>    0.001</td> <td>    0.906</td> <td> 0.365</td> <td>   -0.002</td> <td>    0.004</td>\n",
       "</tr>\n",
       "<tr>\n",
       "  <th>country_name_Philippines</th>                   <td>   -0.0019</td> <td>    0.001</td> <td>   -1.285</td> <td> 0.199</td> <td>   -0.005</td> <td>    0.001</td>\n",
       "</tr>\n",
       "<tr>\n",
       "  <th>country_name_Poland</th>                        <td>   -0.0007</td> <td>    0.002</td> <td>   -0.414</td> <td> 0.679</td> <td>   -0.004</td> <td>    0.003</td>\n",
       "</tr>\n",
       "<tr>\n",
       "  <th>country_name_Romania</th>                       <td>    0.0011</td> <td>    0.002</td> <td>    0.633</td> <td> 0.527</td> <td>   -0.002</td> <td>    0.004</td>\n",
       "</tr>\n",
       "<tr>\n",
       "  <th>country_name_Russia</th>                        <td>   -0.0019</td> <td>    0.002</td> <td>   -0.951</td> <td> 0.342</td> <td>   -0.006</td> <td>    0.002</td>\n",
       "</tr>\n",
       "<tr>\n",
       "  <th>country_name_Rwanda</th>                        <td>    0.0057</td> <td>    0.001</td> <td>    4.269</td> <td> 0.000</td> <td>    0.003</td> <td>    0.008</td>\n",
       "</tr>\n",
       "<tr>\n",
       "  <th>country_name_Samoa</th>                         <td>-3.562e-18</td> <td> 1.27e-18</td> <td>   -2.805</td> <td> 0.005</td> <td>-6.05e-18</td> <td>-1.07e-18</td>\n",
       "</tr>\n",
       "<tr>\n",
       "  <th>country_name_Senegal</th>                       <td>    0.0003</td> <td>    0.002</td> <td>    0.157</td> <td> 0.875</td> <td>   -0.003</td> <td>    0.004</td>\n",
       "</tr>\n",
       "<tr>\n",
       "  <th>country_name_Serbia</th>                        <td>   -0.0010</td> <td>    0.002</td> <td>   -0.658</td> <td> 0.511</td> <td>   -0.004</td> <td>    0.002</td>\n",
       "</tr>\n",
       "<tr>\n",
       "  <th>country_name_Sierra Leone</th>                  <td>    0.0017</td> <td>    0.002</td> <td>    0.998</td> <td> 0.319</td> <td>   -0.002</td> <td>    0.005</td>\n",
       "</tr>\n",
       "<tr>\n",
       "  <th>country_name_Slovak Republic</th>               <td>    0.0026</td> <td>    0.005</td> <td>    0.491</td> <td> 0.623</td> <td>   -0.008</td> <td>    0.013</td>\n",
       "</tr>\n",
       "<tr>\n",
       "  <th>country_name_Slovenia</th>                      <td>   -0.0014</td> <td>    0.004</td> <td>   -0.388</td> <td> 0.698</td> <td>   -0.009</td> <td>    0.006</td>\n",
       "</tr>\n",
       "<tr>\n",
       "  <th>country_name_South Africa</th>                  <td>   -0.0053</td> <td>    0.002</td> <td>   -2.910</td> <td> 0.004</td> <td>   -0.009</td> <td>   -0.002</td>\n",
       "</tr>\n",
       "<tr>\n",
       "  <th>country_name_South Sudan</th>                   <td>   -0.0125</td> <td>    0.002</td> <td>   -4.994</td> <td> 0.000</td> <td>   -0.017</td> <td>   -0.008</td>\n",
       "</tr>\n",
       "<tr>\n",
       "  <th>country_name_Sri Lanka</th>                     <td>    0.0012</td> <td>    0.002</td> <td>    0.590</td> <td> 0.556</td> <td>   -0.003</td> <td>    0.005</td>\n",
       "</tr>\n",
       "<tr>\n",
       "  <th>country_name_Sudan</th>                         <td>    0.0012</td> <td>    0.002</td> <td>    0.495</td> <td> 0.620</td> <td>   -0.004</td> <td>    0.006</td>\n",
       "</tr>\n",
       "<tr>\n",
       "  <th>country_name_Suriname</th>                      <td>-4.223e-19</td> <td> 1.51e-18</td> <td>   -0.279</td> <td> 0.780</td> <td>-3.39e-18</td> <td> 2.55e-18</td>\n",
       "</tr>\n",
       "<tr>\n",
       "  <th>country_name_Syria</th>                         <td>   -0.0091</td> <td>    0.002</td> <td>   -3.746</td> <td> 0.000</td> <td>   -0.014</td> <td>   -0.004</td>\n",
       "</tr>\n",
       "<tr>\n",
       "  <th>country_name_Tajikistan</th>                    <td>   -0.0002</td> <td>    0.002</td> <td>   -0.141</td> <td> 0.888</td> <td>   -0.003</td> <td>    0.003</td>\n",
       "</tr>\n",
       "<tr>\n",
       "  <th>country_name_Tanzania</th>                      <td>    0.0016</td> <td>    0.002</td> <td>    0.847</td> <td> 0.397</td> <td>   -0.002</td> <td>    0.005</td>\n",
       "</tr>\n",
       "<tr>\n",
       "  <th>country_name_Thailand</th>                      <td>    0.0011</td> <td>    0.002</td> <td>    0.743</td> <td> 0.458</td> <td>   -0.002</td> <td>    0.004</td>\n",
       "</tr>\n",
       "<tr>\n",
       "  <th>country_name_Timor-Leste</th>                   <td>   -0.0011</td> <td>    0.002</td> <td>   -0.629</td> <td> 0.529</td> <td>   -0.004</td> <td>    0.002</td>\n",
       "</tr>\n",
       "<tr>\n",
       "  <th>country_name_Togo</th>                          <td>   -0.0017</td> <td>    0.004</td> <td>   -0.457</td> <td> 0.648</td> <td>   -0.009</td> <td>    0.006</td>\n",
       "</tr>\n",
       "<tr>\n",
       "  <th>country_name_Tunisia</th>                       <td>    0.0035</td> <td>    0.002</td> <td>    1.580</td> <td> 0.114</td> <td>   -0.001</td> <td>    0.008</td>\n",
       "</tr>\n",
       "<tr>\n",
       "  <th>country_name_Turkey</th>                        <td>    0.0028</td> <td>    0.002</td> <td>    1.453</td> <td> 0.146</td> <td>   -0.001</td> <td>    0.007</td>\n",
       "</tr>\n",
       "<tr>\n",
       "  <th>country_name_Turkmenistan</th>                  <td>   -0.0014</td> <td>    0.003</td> <td>   -0.494</td> <td> 0.622</td> <td>   -0.007</td> <td>    0.004</td>\n",
       "</tr>\n",
       "<tr>\n",
       "  <th>country_name_Uganda</th>                        <td>    0.0027</td> <td>    0.002</td> <td>    1.362</td> <td> 0.174</td> <td>   -0.001</td> <td>    0.007</td>\n",
       "</tr>\n",
       "<tr>\n",
       "  <th>country_name_Ukraine</th>                       <td>   -0.0025</td> <td>    0.002</td> <td>   -1.383</td> <td> 0.167</td> <td>   -0.006</td> <td>    0.001</td>\n",
       "</tr>\n",
       "<tr>\n",
       "  <th>country_name_United Arab Emirates</th>          <td>    0.0008</td> <td>    0.005</td> <td>    0.152</td> <td> 0.880</td> <td>   -0.009</td> <td>    0.011</td>\n",
       "</tr>\n",
       "<tr>\n",
       "  <th>country_name_Uzbekistan</th>                    <td>    0.0004</td> <td>    0.002</td> <td>    0.240</td> <td> 0.811</td> <td>   -0.003</td> <td>    0.003</td>\n",
       "</tr>\n",
       "<tr>\n",
       "  <th>country_name_Vanuatu</th>                       <td>   -0.0027</td> <td>    0.003</td> <td>   -0.895</td> <td> 0.371</td> <td>   -0.009</td> <td>    0.003</td>\n",
       "</tr>\n",
       "<tr>\n",
       "  <th>country_name_Venezuela</th>                     <td>   -0.0066</td> <td>    0.002</td> <td>   -2.757</td> <td> 0.006</td> <td>   -0.011</td> <td>   -0.002</td>\n",
       "</tr>\n",
       "<tr>\n",
       "  <th>country_name_Vietnam</th>                       <td>    0.0018</td> <td>    0.002</td> <td>    1.165</td> <td> 0.244</td> <td>   -0.001</td> <td>    0.005</td>\n",
       "</tr>\n",
       "<tr>\n",
       "  <th>country_name_West Bank/Gaza</th>                <td>   -0.0001</td> <td>    0.002</td> <td>   -0.054</td> <td> 0.957</td> <td>   -0.004</td> <td>    0.004</td>\n",
       "</tr>\n",
       "<tr>\n",
       "  <th>country_name_Yemen</th>                         <td>   -0.0061</td> <td>    0.002</td> <td>   -3.319</td> <td> 0.001</td> <td>   -0.010</td> <td>   -0.003</td>\n",
       "</tr>\n",
       "<tr>\n",
       "  <th>country_name_Zambia</th>                        <td>    0.0037</td> <td>    0.002</td> <td>    1.785</td> <td> 0.075</td> <td>   -0.000</td> <td>    0.008</td>\n",
       "</tr>\n",
       "<tr>\n",
       "  <th>country_name_Zimbabwe</th>                      <td>   -0.0050</td> <td>    0.002</td> <td>   -2.948</td> <td> 0.003</td> <td>   -0.008</td> <td>   -0.002</td>\n",
       "</tr>\n",
       "<tr>\n",
       "  <th>region_name_East Asia and Oceania</th>          <td>    0.0027</td> <td>    0.001</td> <td>    2.785</td> <td> 0.005</td> <td>    0.001</td> <td>    0.005</td>\n",
       "</tr>\n",
       "<tr>\n",
       "  <th>region_name_Europe and Eurasia</th>             <td>    0.0026</td> <td>    0.001</td> <td>    2.538</td> <td> 0.011</td> <td>    0.001</td> <td>    0.005</td>\n",
       "</tr>\n",
       "<tr>\n",
       "  <th>region_name_Middle East and North Africa</th>   <td>   -0.0006</td> <td>    0.001</td> <td>   -0.599</td> <td> 0.549</td> <td>   -0.003</td> <td>    0.001</td>\n",
       "</tr>\n",
       "<tr>\n",
       "  <th>region_name_South and Central Asia</th>         <td>    0.0034</td> <td>    0.001</td> <td>    3.447</td> <td> 0.001</td> <td>    0.001</td> <td>    0.005</td>\n",
       "</tr>\n",
       "<tr>\n",
       "  <th>region_name_Sub-Saharan Africa</th>             <td>    0.0035</td> <td>    0.001</td> <td>    3.759</td> <td> 0.000</td> <td>    0.002</td> <td>    0.005</td>\n",
       "</tr>\n",
       "<tr>\n",
       "  <th>region_name_Western Hemisphere</th>             <td>    0.0017</td> <td>    0.001</td> <td>    1.808</td> <td> 0.071</td> <td>   -0.000</td> <td>    0.004</td>\n",
       "</tr>\n",
       "<tr>\n",
       "  <th>Country_Income_Class</th>                       <td>    0.0008</td> <td>    0.000</td> <td>    2.431</td> <td> 0.015</td> <td>    0.000</td> <td>    0.001</td>\n",
       "</tr>\n",
       "</table>\n",
       "<table class=\"simpletable\">\n",
       "<tr>\n",
       "  <th>Omnibus:</th>       <td>327.857</td> <th>  Durbin-Watson:     </th> <td>   1.963</td>\n",
       "</tr>\n",
       "<tr>\n",
       "  <th>Prob(Omnibus):</th> <td> 0.000</td>  <th>  Jarque-Bera (JB):  </th> <td>8453.193</td>\n",
       "</tr>\n",
       "<tr>\n",
       "  <th>Skew:</th>          <td>-0.712</td>  <th>  Prob(JB):          </th> <td>    0.00</td>\n",
       "</tr>\n",
       "<tr>\n",
       "  <th>Kurtosis:</th>      <td>16.177</td>  <th>  Cond. No.          </th> <td>6.10e+16</td>\n",
       "</tr>\n",
       "</table><br/><br/>Warnings:<br/>[1] Standard Errors assume that the covariance matrix of the errors is correctly specified.<br/>[2] The smallest eigenvalue is 1.54e-30. This might indicate that there are<br/>strong multicollinearity problems or that the design matrix is singular."
      ],
      "text/plain": [
       "<class 'statsmodels.iolib.summary.Summary'>\n",
       "\"\"\"\n",
       "                            OLS Regression Results                            \n",
       "==============================================================================\n",
       "Dep. Variable:             HDI_Change   R-squared:                       0.288\n",
       "Model:                            OLS   Adj. R-squared:                  0.182\n",
       "Method:                 Least Squares   F-statistic:                     2.726\n",
       "Date:                Thu, 20 Jun 2019   Prob (F-statistic):           3.69e-20\n",
       "Time:                        04:16:45   Log-Likelihood:                 4463.6\n",
       "No. Observations:                1155   AIC:                            -8627.\n",
       "Df Residuals:                    1005   BIC:                            -7869.\n",
       "Df Model:                         149                                         \n",
       "Covariance Type:            nonrobust                                         \n",
       "==============================================================================================================\n",
       "                                                 coef    std err          t      P>|t|      [0.025      0.975]\n",
       "--------------------------------------------------------------------------------------------------------------\n",
       "Agriculture                                   -0.0003      0.001     -0.484      0.629      -0.001       0.001\n",
       "Commodity Assistance                           0.0009      0.000      1.933      0.054   -1.44e-05       0.002\n",
       "Economic Growth                            -8.717e-05      0.000     -0.187      0.851      -0.001       0.001\n",
       "Education                                     -0.0006      0.000     -1.259      0.208      -0.002       0.000\n",
       "Governance                                     0.0005      0.001      0.637      0.524      -0.001       0.002\n",
       "Health and Population                          0.0018      0.001      3.357      0.001       0.001       0.003\n",
       "Humanitarian                                   0.0006      0.000      1.325      0.186      -0.000       0.002\n",
       "Infrastructure                                -0.0002      0.000     -0.485      0.628      -0.001       0.001\n",
       "Department of Agriculture                     -0.0002      0.000     -1.109      0.268      -0.001       0.000\n",
       "Department of Defense                         -0.0003      0.000     -1.241      0.215      -0.001       0.000\n",
       "Department of Energy                       -9.184e-06      0.000     -0.041      0.968      -0.000       0.000\n",
       "Department of Health and Human Services        0.0001      0.000      0.435      0.664      -0.000       0.001\n",
       "Department of Labor                        -9.998e-05      0.000     -0.577      0.564      -0.000       0.000\n",
       "Department of State                           -0.0004      0.000     -1.438      0.151      -0.001       0.000\n",
       "Department of the Army                         0.0006      0.001      1.225      0.221      -0.000       0.002\n",
       "Department of the Treasury                    -0.0005      0.000     -1.880      0.060      -0.001    2.11e-05\n",
       "Millennium Challenge Corporation               0.0002      0.000      1.436      0.151   -9.13e-05       0.001\n",
       "Peace Corps                                   -0.0004      0.000     -1.930      0.054      -0.001    6.96e-06\n",
       "Trade and Development Agency                  -0.0001      0.000     -0.537      0.591      -0.001       0.000\n",
       "U.S. Agency for International Development      0.0005      0.000      1.352      0.177      -0.000       0.001\n",
       "country_name_Afghanistan                       0.0036      0.003      1.385      0.166      -0.001       0.009\n",
       "country_name_Albania                           0.0023      0.002      1.261      0.208      -0.001       0.006\n",
       "country_name_Algeria                           0.0039      0.002      2.141      0.032       0.000       0.007\n",
       "country_name_Angola                            0.0016      0.002      0.960      0.337      -0.002       0.005\n",
       "country_name_Argentina                         0.0007      0.004      0.185      0.853      -0.007       0.008\n",
       "country_name_Armenia                           0.0008      0.002      0.471      0.638      -0.002       0.004\n",
       "country_name_Azerbaijan                        0.0016      0.002      0.974      0.330      -0.002       0.005\n",
       "country_name_Bahamas                          -0.0076      0.005     -1.485      0.138      -0.018       0.002\n",
       "country_name_Bangladesh                        0.0015      0.001      1.149      0.251      -0.001       0.004\n",
       "country_name_Belarus                          -0.0010      0.002     -0.463      0.644      -0.005       0.003\n",
       "country_name_Belize                           -0.0033      0.002     -1.355      0.176      -0.008       0.001\n",
       "country_name_Benin                             0.0011      0.002      0.696      0.487      -0.002       0.004\n",
       "country_name_Bolivia                           0.0021      0.002      1.139      0.255      -0.001       0.006\n",
       "country_name_Bosnia and Herzegovina           -0.0009      0.002     -0.488      0.625      -0.005       0.003\n",
       "country_name_Botswana                      -6.581e-05      0.002     -0.037      0.971      -0.004       0.003\n",
       "country_name_Brazil                            0.0006      0.002      0.340      0.734      -0.003       0.004\n",
       "country_name_Bulgaria                          0.0011      0.002      0.591      0.554      -0.003       0.005\n",
       "country_name_Burkina Faso                      0.0023      0.002      1.170      0.242      -0.002       0.006\n",
       "country_name_Burma (Myanmar)                   0.0019      0.002      0.936      0.349      -0.002       0.006\n",
       "country_name_Burundi                           0.0002      0.002      0.121      0.904      -0.003       0.003\n",
       "country_name_Cabo Verde                        0.0005      0.003      0.152      0.880      -0.006       0.007\n",
       "country_name_Cambodia                          0.0043      0.001      2.882      0.004       0.001       0.007\n",
       "country_name_Cameroon                          0.0008      0.002      0.457      0.648      -0.003       0.004\n",
       "country_name_Central African Republic          0.0011      0.002      0.487      0.626      -0.003       0.005\n",
       "country_name_Chad                              0.0004      0.002      0.196      0.844      -0.003       0.004\n",
       "country_name_Chile                             0.0015      0.004      0.422      0.673      -0.006       0.009\n",
       "country_name_China (P.R.C.)                    0.0035      0.002      1.856      0.064      -0.000       0.007\n",
       "country_name_Colombia                          0.0031      0.002      1.594      0.111      -0.001       0.007\n",
       "country_name_Congo (Brazzaville)               0.0087      0.004      2.298      0.022       0.001       0.016\n",
       "country_name_Congo (Kinshasa)                 -0.0002      0.002     -0.086      0.931      -0.004       0.004\n",
       "country_name_Costa Rica                        0.0007      0.002      0.384      0.701      -0.003       0.004\n",
       "country_name_Cote d'Ivoire                    -0.0008      0.002     -0.393      0.694      -0.005       0.003\n",
       "country_name_Croatia                           0.0011      0.002      0.524      0.600      -0.003       0.005\n",
       "country_name_Cuba                              0.0090      0.003      2.921      0.004       0.003       0.015\n",
       "country_name_Czechia                          -0.0009      0.002     -0.422      0.673      -0.005       0.003\n",
       "country_name_Djibouti                          0.0012      0.002      0.668      0.505      -0.002       0.005\n",
       "country_name_Dominican Republic                0.0006      0.002      0.346      0.729      -0.003       0.004\n",
       "country_name_Ecuador                          -0.0006      0.002     -0.335      0.738      -0.004       0.003\n",
       "country_name_Egypt                             0.0035      0.002      2.297      0.022       0.001       0.007\n",
       "country_name_El Salvador                      -0.0003      0.002     -0.194      0.846      -0.003       0.003\n",
       "country_name_Eritrea                          -0.0047      0.005     -0.873      0.383      -0.015       0.006\n",
       "country_name_Estonia                        6.411e-18   4.41e-18      1.453      0.147   -2.25e-18    1.51e-17\n",
       "country_name_Eswatini                          0.0044      0.004      1.148      0.251      -0.003       0.012\n",
       "country_name_Ethiopia                          0.0054      0.002      2.822      0.005       0.002       0.009\n",
       "country_name_Fiji                             -0.0011      0.005     -0.220      0.826      -0.011       0.009\n",
       "country_name_Gambia                           -0.0021      0.005     -0.392      0.695      -0.013       0.008\n",
       "country_name_Georgia                          -0.0006      0.002     -0.315      0.753      -0.004       0.003\n",
       "country_name_Ghana                            -0.0024      0.002     -1.289      0.198      -0.006       0.001\n",
       "country_name_Greece                           -0.0043      0.005     -0.819      0.413      -0.015       0.006\n",
       "country_name_Guatemala                         0.0034      0.001      2.448      0.015       0.001       0.006\n",
       "country_name_Guinea                            0.0006      0.002      0.367      0.714      -0.002       0.004\n",
       "country_name_Guinea-Bissau                     0.0041      0.004      1.059      0.290      -0.003       0.012\n",
       "country_name_Guyana                           -0.0029      0.002     -1.620      0.105      -0.006       0.001\n",
       "country_name_Haiti                            -0.0007      0.001     -0.490      0.624      -0.003       0.002\n",
       "country_name_Honduras                         -0.0005      0.002     -0.314      0.754      -0.004       0.003\n",
       "country_name_Hungary                          -0.0024      0.004     -0.655      0.512      -0.010       0.005\n",
       "country_name_India                             0.0019      0.002      1.184      0.237      -0.001       0.005\n",
       "country_name_Indonesia                      2.419e-05      0.002      0.015      0.988      -0.003       0.003\n",
       "country_name_Iran                              0.0017      0.005      0.332      0.740      -0.008       0.012\n",
       "country_name_Iraq                              0.0062      0.002      2.658      0.008       0.002       0.011\n",
       "country_name_Israel                            0.0016      0.002      0.884      0.377      -0.002       0.005\n",
       "country_name_Jamaica                          -0.0004      0.001     -0.287      0.774      -0.003       0.002\n",
       "country_name_Jordan                           -0.0013      0.002     -0.746      0.456      -0.005       0.002\n",
       "country_name_Kazakhstan                       -0.0016      0.002     -1.003      0.316      -0.005       0.002\n",
       "country_name_Kenya                            -0.0003      0.002     -0.143      0.887      -0.004       0.004\n",
       "country_name_Kyrgyzstan                       -0.0008      0.002     -0.470      0.639      -0.004       0.002\n",
       "country_name_Laos                              0.0034      0.002      1.543      0.123      -0.001       0.008\n",
       "country_name_Latvia                            0.0013      0.003      0.416      0.677      -0.005       0.007\n",
       "country_name_Lebanon                        6.445e-05      0.002      0.035      0.972      -0.004       0.004\n",
       "country_name_Lesotho                          -0.0022      0.002     -1.143      0.253      -0.006       0.002\n",
       "country_name_Liberia                          -0.0040      0.002     -2.150      0.032      -0.008      -0.000\n",
       "country_name_Libya                            -0.0176      0.002     -7.349      0.000      -0.022      -0.013\n",
       "country_name_Lithuania                        -0.0016      0.002     -0.660      0.510      -0.006       0.003\n",
       "country_name_Madagascar                       -0.0026      0.001     -1.756      0.079      -0.005       0.000\n",
       "country_name_Malawi                           -0.0015      0.002     -0.967      0.334      -0.004       0.002\n",
       "country_name_Malaysia                         -0.0011      0.002     -0.526      0.599      -0.005       0.003\n",
       "country_name_Maldives                       2.474e-18   2.34e-18      1.058      0.290   -2.11e-18    7.06e-18\n",
       "country_name_Mali                              0.0036      0.002      2.151      0.032       0.000       0.007\n",
       "country_name_Mauritania                       -0.0034      0.002     -1.659      0.097      -0.008       0.001\n",
       "country_name_Mexico                            0.0004      0.002      0.236      0.813      -0.003       0.004\n",
       "country_name_Micronesia (Federated States)    -0.0049      0.004     -1.309      0.191      -0.012       0.002\n",
       "country_name_Moldova                           0.0028      0.002      1.667      0.096      -0.000       0.006\n",
       "country_name_Mongolia                          0.0033      0.002      1.834      0.067      -0.000       0.007\n",
       "country_name_Montenegro                        0.0042      0.004      1.109      0.268      -0.003       0.012\n",
       "country_name_Morocco                           0.0073      0.002      4.023      0.000       0.004       0.011\n",
       "country_name_Mozambique                        0.0021      0.001      1.526      0.127      -0.001       0.005\n",
       "country_name_Namibia                          -0.0007      0.002     -0.410      0.682      -0.004       0.003\n",
       "country_name_Nepal                             0.0008      0.002      0.451      0.652      -0.003       0.004\n",
       "country_name_Nicaragua                         0.0009      0.001      0.651      0.515      -0.002       0.004\n",
       "country_name_Niger                            -0.0012      0.002     -0.764      0.445      -0.004       0.002\n",
       "country_name_Nigeria                          -0.0012      0.002     -0.544      0.587      -0.006       0.003\n",
       "country_name_North Macedonia                   0.0004      0.002      0.240      0.811      -0.003       0.004\n",
       "country_name_Oman                              0.0052      0.004      1.436      0.151      -0.002       0.012\n",
       "country_name_Pakistan                         -0.0018      0.002     -1.187      0.235      -0.005       0.001\n",
       "country_name_Panama                            0.0003      0.002      0.144      0.885      -0.004       0.004\n",
       "country_name_Papua New Guinea                 -0.0039      0.003     -1.467      0.143      -0.009       0.001\n",
       "country_name_Paraguay                          0.0001      0.002      0.071      0.944      -0.003       0.003\n",
       "country_name_Peru                              0.0013      0.001      0.906      0.365      -0.002       0.004\n",
       "country_name_Philippines                      -0.0019      0.001     -1.285      0.199      -0.005       0.001\n",
       "country_name_Poland                           -0.0007      0.002     -0.414      0.679      -0.004       0.003\n",
       "country_name_Romania                           0.0011      0.002      0.633      0.527      -0.002       0.004\n",
       "country_name_Russia                           -0.0019      0.002     -0.951      0.342      -0.006       0.002\n",
       "country_name_Rwanda                            0.0057      0.001      4.269      0.000       0.003       0.008\n",
       "country_name_Samoa                         -3.562e-18   1.27e-18     -2.805      0.005   -6.05e-18   -1.07e-18\n",
       "country_name_Senegal                           0.0003      0.002      0.157      0.875      -0.003       0.004\n",
       "country_name_Serbia                           -0.0010      0.002     -0.658      0.511      -0.004       0.002\n",
       "country_name_Sierra Leone                      0.0017      0.002      0.998      0.319      -0.002       0.005\n",
       "country_name_Slovak Republic                   0.0026      0.005      0.491      0.623      -0.008       0.013\n",
       "country_name_Slovenia                         -0.0014      0.004     -0.388      0.698      -0.009       0.006\n",
       "country_name_South Africa                     -0.0053      0.002     -2.910      0.004      -0.009      -0.002\n",
       "country_name_South Sudan                      -0.0125      0.002     -4.994      0.000      -0.017      -0.008\n",
       "country_name_Sri Lanka                         0.0012      0.002      0.590      0.556      -0.003       0.005\n",
       "country_name_Sudan                             0.0012      0.002      0.495      0.620      -0.004       0.006\n",
       "country_name_Suriname                      -4.223e-19   1.51e-18     -0.279      0.780   -3.39e-18    2.55e-18\n",
       "country_name_Syria                            -0.0091      0.002     -3.746      0.000      -0.014      -0.004\n",
       "country_name_Tajikistan                       -0.0002      0.002     -0.141      0.888      -0.003       0.003\n",
       "country_name_Tanzania                          0.0016      0.002      0.847      0.397      -0.002       0.005\n",
       "country_name_Thailand                          0.0011      0.002      0.743      0.458      -0.002       0.004\n",
       "country_name_Timor-Leste                      -0.0011      0.002     -0.629      0.529      -0.004       0.002\n",
       "country_name_Togo                             -0.0017      0.004     -0.457      0.648      -0.009       0.006\n",
       "country_name_Tunisia                           0.0035      0.002      1.580      0.114      -0.001       0.008\n",
       "country_name_Turkey                            0.0028      0.002      1.453      0.146      -0.001       0.007\n",
       "country_name_Turkmenistan                     -0.0014      0.003     -0.494      0.622      -0.007       0.004\n",
       "country_name_Uganda                            0.0027      0.002      1.362      0.174      -0.001       0.007\n",
       "country_name_Ukraine                          -0.0025      0.002     -1.383      0.167      -0.006       0.001\n",
       "country_name_United Arab Emirates              0.0008      0.005      0.152      0.880      -0.009       0.011\n",
       "country_name_Uzbekistan                        0.0004      0.002      0.240      0.811      -0.003       0.003\n",
       "country_name_Vanuatu                          -0.0027      0.003     -0.895      0.371      -0.009       0.003\n",
       "country_name_Venezuela                        -0.0066      0.002     -2.757      0.006      -0.011      -0.002\n",
       "country_name_Vietnam                           0.0018      0.002      1.165      0.244      -0.001       0.005\n",
       "country_name_West Bank/Gaza                   -0.0001      0.002     -0.054      0.957      -0.004       0.004\n",
       "country_name_Yemen                            -0.0061      0.002     -3.319      0.001      -0.010      -0.003\n",
       "country_name_Zambia                            0.0037      0.002      1.785      0.075      -0.000       0.008\n",
       "country_name_Zimbabwe                         -0.0050      0.002     -2.948      0.003      -0.008      -0.002\n",
       "region_name_East Asia and Oceania              0.0027      0.001      2.785      0.005       0.001       0.005\n",
       "region_name_Europe and Eurasia                 0.0026      0.001      2.538      0.011       0.001       0.005\n",
       "region_name_Middle East and North Africa      -0.0006      0.001     -0.599      0.549      -0.003       0.001\n",
       "region_name_South and Central Asia             0.0034      0.001      3.447      0.001       0.001       0.005\n",
       "region_name_Sub-Saharan Africa                 0.0035      0.001      3.759      0.000       0.002       0.005\n",
       "region_name_Western Hemisphere                 0.0017      0.001      1.808      0.071      -0.000       0.004\n",
       "Country_Income_Class                           0.0008      0.000      2.431      0.015       0.000       0.001\n",
       "==============================================================================\n",
       "Omnibus:                      327.857   Durbin-Watson:                   1.963\n",
       "Prob(Omnibus):                  0.000   Jarque-Bera (JB):             8453.193\n",
       "Skew:                          -0.712   Prob(JB):                         0.00\n",
       "Kurtosis:                      16.177   Cond. No.                     6.10e+16\n",
       "==============================================================================\n",
       "\n",
       "Warnings:\n",
       "[1] Standard Errors assume that the covariance matrix of the errors is correctly specified.\n",
       "[2] The smallest eigenvalue is 1.54e-30. This might indicate that there are\n",
       "strong multicollinearity problems or that the design matrix is singular.\n",
       "\"\"\""
      ]
     },
     "execution_count": 51,
     "metadata": {},
     "output_type": "execute_result"
    }
   ],
   "source": [
    "# Create OLS model\n",
    "ols_model = sm.OLS(y_train, X_train)\n",
    "\n",
    "# Fit OLS model to training set\n",
    "fit = ols_model.fit()\n",
    "\n",
    "# Print summary statistics of the model's performance\n",
    "fit.summary()"
   ]
  },
  {
   "cell_type": "markdown",
   "metadata": {},
   "source": [
    "## LassoCV"
   ]
  },
  {
   "cell_type": "code",
   "execution_count": 52,
   "metadata": {},
   "outputs": [
    {
     "data": {
      "text/plain": [
       "0.00014563484775012445"
      ]
     },
     "execution_count": 52,
     "metadata": {},
     "output_type": "execute_result"
    }
   ],
   "source": [
    "# Run cross validation, find the best alpha, refit the model on all the data with that alpha\n",
    "alphavec = 10**np.linspace(-4,4)\n",
    "\n",
    "lasso_model = LassoCV(alphas = alphavec, cv=5)\n",
    "lasso_model.fit(X_train, y_train)\n",
    "\n",
    "# Best alpha value:\n",
    "lasso_model.alpha_"
   ]
  },
  {
   "cell_type": "code",
   "execution_count": 53,
   "metadata": {},
   "outputs": [
    {
     "data": {
      "text/plain": [
       "[('Agriculture', 0.0),\n",
       " ('Commodity Assistance', 0.0003548238244175391),\n",
       " ('Economic Growth', 0.0),\n",
       " ('Education', -0.0),\n",
       " ('Governance', 0.0),\n",
       " ('Health and Population', 0.0004901164883111517),\n",
       " ('Humanitarian', 0.0),\n",
       " ('Infrastructure', -0.0),\n",
       " ('Department of Agriculture', -3.7372848807541276e-05),\n",
       " ('Department of Defense', 0.0),\n",
       " ('Department of Energy', -0.0),\n",
       " ('Department of Health and Human Services', 3.158945053601979e-05),\n",
       " ('Department of Labor', 0.0),\n",
       " ('Department of State', -0.00010331866186703586),\n",
       " ('Department of the Army', 0.0),\n",
       " ('Department of the Treasury', -0.0),\n",
       " ('Millennium Challenge Corporation', 9.428851511637751e-05),\n",
       " ('Peace Corps', -0.0),\n",
       " ('Trade and Development Agency', 2.3855051438094494e-05),\n",
       " ('U.S. Agency for International Development', 0.00018033061092821918),\n",
       " ('country_name_Afghanistan', 0.0),\n",
       " ('country_name_Albania', 0.0),\n",
       " ('country_name_Algeria', 0.0),\n",
       " ('country_name_Angola', 0.0),\n",
       " ('country_name_Argentina', -0.0),\n",
       " ('country_name_Armenia', 0.0),\n",
       " ('country_name_Azerbaijan', 0.0),\n",
       " ('country_name_Bahamas', -0.0),\n",
       " ('country_name_Bangladesh', 0.0),\n",
       " ('country_name_Belarus', -0.0),\n",
       " ('country_name_Belize', -0.0),\n",
       " ('country_name_Benin', 0.0),\n",
       " ('country_name_Bolivia', 0.0),\n",
       " ('country_name_Bosnia and Herzegovina', -0.0),\n",
       " ('country_name_Botswana', 0.0),\n",
       " ('country_name_Brazil', 0.0),\n",
       " ('country_name_Bulgaria', 0.0),\n",
       " ('country_name_Burkina Faso', 0.0),\n",
       " ('country_name_Burma (Myanmar)', 0.0),\n",
       " ('country_name_Burundi', 0.0),\n",
       " ('country_name_Cabo Verde', 0.0),\n",
       " ('country_name_Cambodia', 0.0),\n",
       " ('country_name_Cameroon', 0.0),\n",
       " ('country_name_Central African Republic', 0.0),\n",
       " ('country_name_Chad', 0.0),\n",
       " ('country_name_Chile', 0.0),\n",
       " ('country_name_China (P.R.C.)', 0.0),\n",
       " ('country_name_Colombia', 0.0),\n",
       " ('country_name_Congo (Brazzaville)', 0.0),\n",
       " ('country_name_Congo (Kinshasa)', 0.0),\n",
       " ('country_name_Costa Rica', -0.0),\n",
       " (\"country_name_Cote d'Ivoire\", 0.0),\n",
       " ('country_name_Croatia', 0.0),\n",
       " ('country_name_Cuba', 0.0),\n",
       " ('country_name_Czechia', -0.0),\n",
       " ('country_name_Djibouti', 0.0),\n",
       " ('country_name_Dominican Republic', 0.0),\n",
       " ('country_name_Ecuador', -0.0),\n",
       " ('country_name_Egypt', 0.0),\n",
       " ('country_name_El Salvador', -0.0),\n",
       " ('country_name_Eritrea', -0.0),\n",
       " ('country_name_Estonia', 0.0),\n",
       " ('country_name_Eswatini', 0.0),\n",
       " ('country_name_Ethiopia', 0.0),\n",
       " ('country_name_Fiji', -0.0),\n",
       " ('country_name_Gambia', -0.0),\n",
       " ('country_name_Georgia', -0.0),\n",
       " ('country_name_Ghana', -0.0),\n",
       " ('country_name_Greece', -0.0),\n",
       " ('country_name_Guatemala', 0.0),\n",
       " ('country_name_Guinea', 0.0),\n",
       " ('country_name_Guinea-Bissau', 0.0),\n",
       " ('country_name_Guyana', -0.0),\n",
       " ('country_name_Haiti', -0.0),\n",
       " ('country_name_Honduras', -0.0),\n",
       " ('country_name_Hungary', -0.0),\n",
       " ('country_name_India', 0.0),\n",
       " ('country_name_Indonesia', -0.0),\n",
       " ('country_name_Iran', 0.0),\n",
       " ('country_name_Iraq', 0.0),\n",
       " ('country_name_Israel', 0.0),\n",
       " ('country_name_Jamaica', -0.0),\n",
       " ('country_name_Jordan', -0.0),\n",
       " ('country_name_Kazakhstan', -0.0),\n",
       " ('country_name_Kenya', 0.0),\n",
       " ('country_name_Kyrgyzstan', -0.0),\n",
       " ('country_name_Laos', 0.0),\n",
       " ('country_name_Latvia', 0.0),\n",
       " ('country_name_Lebanon', -0.0),\n",
       " ('country_name_Lesotho', -0.0),\n",
       " ('country_name_Liberia', -0.0),\n",
       " ('country_name_Libya', -0.0),\n",
       " ('country_name_Lithuania', -0.0),\n",
       " ('country_name_Madagascar', -0.0),\n",
       " ('country_name_Malawi', -0.0),\n",
       " ('country_name_Malaysia', -0.0),\n",
       " ('country_name_Maldives', 0.0),\n",
       " ('country_name_Mali', 0.0),\n",
       " ('country_name_Mauritania', -0.0),\n",
       " ('country_name_Mexico', -0.0),\n",
       " ('country_name_Micronesia (Federated States)', -0.0),\n",
       " ('country_name_Moldova', 0.0),\n",
       " ('country_name_Mongolia', 0.0),\n",
       " ('country_name_Montenegro', 0.0),\n",
       " ('country_name_Morocco', 0.0),\n",
       " ('country_name_Mozambique', 0.0),\n",
       " ('country_name_Namibia', -0.0),\n",
       " ('country_name_Nepal', 0.0),\n",
       " ('country_name_Nicaragua', -0.0),\n",
       " ('country_name_Niger', -0.0),\n",
       " ('country_name_Nigeria', -0.0),\n",
       " ('country_name_North Macedonia', -0.0),\n",
       " ('country_name_Oman', 0.0),\n",
       " ('country_name_Pakistan', -0.0),\n",
       " ('country_name_Panama', -0.0),\n",
       " ('country_name_Papua New Guinea', -0.0),\n",
       " ('country_name_Paraguay', -0.0),\n",
       " ('country_name_Peru', 0.0),\n",
       " ('country_name_Philippines', -0.0),\n",
       " ('country_name_Poland', -0.0),\n",
       " ('country_name_Romania', 0.0),\n",
       " ('country_name_Russia', -0.0),\n",
       " ('country_name_Rwanda', 0.0),\n",
       " ('country_name_Samoa', 0.0),\n",
       " ('country_name_Senegal', -0.0),\n",
       " ('country_name_Serbia', -0.0),\n",
       " ('country_name_Sierra Leone', 0.0),\n",
       " ('country_name_Slovak Republic', 0.0),\n",
       " ('country_name_Slovenia', -0.0),\n",
       " ('country_name_South Africa', -0.0),\n",
       " ('country_name_South Sudan', -0.0),\n",
       " ('country_name_Sri Lanka', 0.0),\n",
       " ('country_name_Sudan', 0.0),\n",
       " ('country_name_Suriname', 0.0),\n",
       " ('country_name_Syria', -0.0),\n",
       " ('country_name_Tajikistan', 0.0),\n",
       " ('country_name_Tanzania', 0.0),\n",
       " ('country_name_Thailand', 0.0),\n",
       " ('country_name_Timor-Leste', -0.0),\n",
       " ('country_name_Togo', -0.0),\n",
       " ('country_name_Tunisia', 0.0),\n",
       " ('country_name_Turkey', 0.0),\n",
       " ('country_name_Turkmenistan', 0.0),\n",
       " ('country_name_Uganda', 0.0),\n",
       " ('country_name_Ukraine', -0.0),\n",
       " ('country_name_United Arab Emirates', -0.0),\n",
       " ('country_name_Uzbekistan', 0.0),\n",
       " ('country_name_Vanuatu', -0.0),\n",
       " ('country_name_Venezuela', -0.0),\n",
       " ('country_name_Vietnam', 0.0),\n",
       " ('country_name_West Bank/Gaza', -0.0),\n",
       " ('country_name_Yemen', -0.0),\n",
       " ('country_name_Zambia', 0.0),\n",
       " ('country_name_Zimbabwe', -0.0),\n",
       " ('region_name_East Asia and Oceania', 0.0),\n",
       " ('region_name_Europe and Eurasia', 0.0),\n",
       " ('region_name_Middle East and North Africa', -0.0014547361196599253),\n",
       " ('region_name_South and Central Asia', 0.0),\n",
       " ('region_name_Sub-Saharan Africa', 0.0),\n",
       " ('region_name_Western Hemisphere', -0.0),\n",
       " ('Country_Income_Class', -0.00015106032140819623)]"
      ]
     },
     "execution_count": 53,
     "metadata": {},
     "output_type": "execute_result"
    }
   ],
   "source": [
    "# These are the (standardized) coefficients found when it refit using that best alpha\n",
    "list(zip(X_train.columns, lasso_model.coef_))"
   ]
  },
  {
   "cell_type": "code",
   "execution_count": 54,
   "metadata": {},
   "outputs": [
    {
     "data": {
      "text/plain": [
       "0.03271817535091759"
      ]
     },
     "execution_count": 54,
     "metadata": {},
     "output_type": "execute_result"
    }
   ],
   "source": [
    "# Make predictions on the test set using the model\n",
    "test_set_pred = lasso_model.predict(X_test)\n",
    "\n",
    "# Evaluation:\n",
    "r2_score(y_test, test_set_pred)"
   ]
  },
  {
   "cell_type": "code",
   "execution_count": 55,
   "metadata": {},
   "outputs": [
    {
     "data": {
      "text/plain": [
       "0.006109418910080061"
      ]
     },
     "execution_count": 55,
     "metadata": {},
     "output_type": "execute_result"
    }
   ],
   "source": [
    "rmse(y_test, test_set_pred)"
   ]
  },
  {
   "cell_type": "markdown",
   "metadata": {},
   "source": [
    "## RidgeCV"
   ]
  },
  {
   "cell_type": "code",
   "execution_count": 56,
   "metadata": {},
   "outputs": [
    {
     "data": {
      "text/plain": [
       "[('Agriculture', -0.00013252721859335312),\n",
       " ('Commodity Assistance', 0.0010104179152055175),\n",
       " ('Economic Growth', 3.249200095549906e-05),\n",
       " ('Education', -0.0004909766652668772),\n",
       " ('Governance', 0.0005928343895892579),\n",
       " ('Health and Population', 0.001584546355189529),\n",
       " ('Humanitarian', 0.0006061927507829581),\n",
       " ('Infrastructure', -0.0004545003926598262),\n",
       " ('Department of Agriculture', -0.00024093076413811597),\n",
       " ('Department of Defense', -7.864525432316381e-05),\n",
       " ('Department of Energy', -6.778202905020726e-05),\n",
       " ('Department of Health and Human Services', 0.00014450563635381829),\n",
       " ('Department of Labor', -5.8921882770703766e-05),\n",
       " ('Department of State', -0.0003635975704202955),\n",
       " ('Department of the Army', 0.0008377136306542),\n",
       " ('Department of the Treasury', -0.0005306382961599482),\n",
       " ('Millennium Challenge Corporation', 0.00026240356159309904),\n",
       " ('Peace Corps', -0.00033736682744623997),\n",
       " ('Trade and Development Agency', -2.730930979798906e-05),\n",
       " ('U.S. Agency for International Development', 0.0003172808691419669),\n",
       " ('country_name_Afghanistan', 0.001266052720298355),\n",
       " ('country_name_Albania', 0.0014508216460840891),\n",
       " ('country_name_Algeria', 0.0027852451523806155),\n",
       " ('country_name_Angola', 0.0017609958586323302),\n",
       " ('country_name_Argentina', 0.00028582342539533847),\n",
       " ('country_name_Armenia', 0.0001558556156616709),\n",
       " ('country_name_Azerbaijan', 0.0009722389085163151),\n",
       " ('country_name_Bahamas', -0.0014938352674169649),\n",
       " ('country_name_Bangladesh', 0.0011428754122212172),\n",
       " ('country_name_Belarus', -0.0007559297732171376),\n",
       " ('country_name_Belize', -0.0019118312897262396),\n",
       " ('country_name_Benin', 0.0006883588371076357),\n",
       " ('country_name_Bolivia', 0.0009783510044801607),\n",
       " ('country_name_Bosnia and Herzegovina', -0.0008723158619507362),\n",
       " ('country_name_Botswana', 0.0003942206620101258),\n",
       " ('country_name_Brazil', 0.0004197940355075909),\n",
       " ('country_name_Bulgaria', 0.0006572478566547103),\n",
       " ('country_name_Burkina Faso', 0.0014505008752444034),\n",
       " ('country_name_Burma (Myanmar)', 0.0009050589776719618),\n",
       " ('country_name_Burundi', 1.5967934684203653e-05),\n",
       " ('country_name_Cabo Verde', 0.000332391207515905),\n",
       " ('country_name_Cambodia', 0.002885212907086313),\n",
       " ('country_name_Cameroon', 0.0007554298515208002),\n",
       " ('country_name_Central African Republic', 0.0005419705407967355),\n",
       " ('country_name_Chad', 0.00011849766270981354),\n",
       " ('country_name_Chile', 0.0007420388085230883),\n",
       " ('country_name_China (P.R.C.)', 0.00227065076400889),\n",
       " ('country_name_Colombia', 0.002039095496381213),\n",
       " ('country_name_Congo (Brazzaville)', 0.0031117892840541402),\n",
       " ('country_name_Congo (Kinshasa)', -0.00023380420140777094),\n",
       " ('country_name_Costa Rica', 0.0003553577527383725),\n",
       " (\"country_name_Cote d'Ivoire\", -0.0003220582247604081),\n",
       " ('country_name_Croatia', 0.0007920228918207187),\n",
       " ('country_name_Cuba', 0.003974186707198191),\n",
       " ('country_name_Czechia', -0.0003265459944414602),\n",
       " ('country_name_Djibouti', 0.0009781188378306872),\n",
       " ('country_name_Dominican Republic', 0.0003681094651812435),\n",
       " ('country_name_Ecuador', -0.000592215961409665),\n",
       " ('country_name_Egypt', 0.002213028020239642),\n",
       " ('country_name_El Salvador', -0.0006324951050212748),\n",
       " ('country_name_Eritrea', -0.001073328765739835),\n",
       " ('country_name_Estonia', 0.0),\n",
       " ('country_name_Eswatini', 0.0016849202993176905),\n",
       " ('country_name_Ethiopia', 0.003784559236922103),\n",
       " ('country_name_Fiji', -0.00030820748726215414),\n",
       " ('country_name_Gambia', -0.0005184157406780548),\n",
       " ('country_name_Georgia', -0.000514617082025902),\n",
       " ('country_name_Ghana', -0.0016731207417689292),\n",
       " ('country_name_Greece', -0.0008642669713443504),\n",
       " ('country_name_Guatemala', 0.002272567687090824),\n",
       " ('country_name_Guinea', 0.00022423192408699088),\n",
       " ('country_name_Guinea-Bissau', 0.0012736691552103624),\n",
       " ('country_name_Guyana', -0.0021452694908942705),\n",
       " ('country_name_Haiti', -0.0013078933934173914),\n",
       " ('country_name_Honduras', -0.0008368224991768975),\n",
       " ('country_name_Hungary', -0.0007077420896159361),\n",
       " ('country_name_India', 0.0012149596468222657),\n",
       " ('country_name_Indonesia', -0.0004681934397245147),\n",
       " ('country_name_Iran', 0.00035607155710271846),\n",
       " ('country_name_Iraq', 0.003475808787857526),\n",
       " ('country_name_Israel', 0.0008541954886199858),\n",
       " ('country_name_Jamaica', -0.0004389897861671134),\n",
       " ('country_name_Jordan', -0.0009251787507259531),\n",
       " ('country_name_Kazakhstan', -0.0008496022318647407),\n",
       " ('country_name_Kenya', -0.000186416380041976),\n",
       " ('country_name_Kyrgyzstan', -0.0006979041101263645),\n",
       " ('country_name_Laos', 0.0016544459408254308),\n",
       " ('country_name_Latvia', 0.0007333185403266761),\n",
       " ('country_name_Lebanon', -1.2118049532454562e-05),\n",
       " ('country_name_Lesotho', -0.0012891511226816221),\n",
       " ('country_name_Liberia', -0.0029623651087045946),\n",
       " ('country_name_Libya', -0.010065600923752692),\n",
       " ('country_name_Lithuania', -0.0007053660274975324),\n",
       " ('country_name_Madagascar', -0.002246716492090746),\n",
       " ('country_name_Malawi', -0.0014172122918311785),\n",
       " ('country_name_Malaysia', -0.0007730054545487287),\n",
       " ('country_name_Maldives', 0.0),\n",
       " ('country_name_Mali', 0.002490839840138917),\n",
       " ('country_name_Mauritania', -0.0021223080152363172),\n",
       " ('country_name_Mexico', 0.00014134837113570733),\n",
       " ('country_name_Micronesia (Federated States)', -0.0019416708011680453),\n",
       " ('country_name_Moldova', 0.0015162564562617698),\n",
       " ('country_name_Mongolia', 0.0018830492569447553),\n",
       " ('country_name_Montenegro', 0.0013309408896451263),\n",
       " ('country_name_Morocco', 0.004776907441769935),\n",
       " ('country_name_Mozambique', 0.001373550072945728),\n",
       " ('country_name_Namibia', -0.00012136228734141253),\n",
       " ('country_name_Nepal', 0.00011339565233423934),\n",
       " ('country_name_Nicaragua', 0.000263558109119823),\n",
       " ('country_name_Niger', -0.001070939048807191),\n",
       " ('country_name_Nigeria', -0.0007404636490867557),\n",
       " ('country_name_North Macedonia', -7.952821706842509e-05),\n",
       " ('country_name_Oman', 0.001971684079243918),\n",
       " ('country_name_Pakistan', -0.0014526664036770265),\n",
       " ('country_name_Panama', 9.795976441056027e-05),\n",
       " ('country_name_Papua New Guinea', -0.002212843282872819),\n",
       " ('country_name_Paraguay', 4.3870172093686434e-05),\n",
       " ('country_name_Peru', 0.0008803895057196966),\n",
       " ('country_name_Philippines', -0.0020911797943946506),\n",
       " ('country_name_Poland', -0.00040822036222707905),\n",
       " ('country_name_Romania', 0.0007104592497447466),\n",
       " ('country_name_Russia', -0.0012540827847020515),\n",
       " ('country_name_Rwanda', 0.004485096416181992),\n",
       " ('country_name_Samoa', 0.0),\n",
       " ('country_name_Senegal', -8.7026858597544e-05),\n",
       " ('country_name_Serbia', -0.001039135310305622),\n",
       " ('country_name_Sierra Leone', 0.0010540757136813215),\n",
       " ('country_name_Slovak Republic', 0.0006270228347700314),\n",
       " ('country_name_Slovenia', -0.00036135765190517256),\n",
       " ('country_name_South Africa', -0.003627310574579412),\n",
       " ('country_name_South Sudan', -0.007182908563107695),\n",
       " ('country_name_Sri Lanka', 0.000715259677775649),\n",
       " ('country_name_Sudan', 0.0008189888555739008),\n",
       " ('country_name_Suriname', 0.0),\n",
       " ('country_name_Syria', -0.005401908205428009),\n",
       " ('country_name_Tajikistan', -0.0002695186402190656),\n",
       " ('country_name_Tanzania', 0.0008297662291285812),\n",
       " ('country_name_Thailand', 0.0007868586663229375),\n",
       " ('country_name_Timor-Leste', -0.001302066401141013),\n",
       " ('country_name_Togo', -0.0007414010550539348),\n",
       " ('country_name_Tunisia', 0.0018056595096135528),\n",
       " ('country_name_Turkey', 0.0017315393752213117),\n",
       " ('country_name_Turkmenistan', -0.00046687016948678835),\n",
       " ('country_name_Uganda', 0.0015952232781802926),\n",
       " ('country_name_Ukraine', -0.002158170812109424),\n",
       " ('country_name_United Arab Emirates', 0.00029290049602281046),\n",
       " ('country_name_Uzbekistan', 0.0002967277941748037),\n",
       " ('country_name_Vanuatu', -0.0014717468089323975),\n",
       " ('country_name_Venezuela', -0.0038377095011719433),\n",
       " ('country_name_Vietnam', 0.0009416165476583435),\n",
       " ('country_name_West Bank/Gaza', -0.0002703702068941423),\n",
       " ('country_name_Yemen', -0.004635030961871454),\n",
       " ('country_name_Zambia', 0.002419649338572245),\n",
       " ('country_name_Zimbabwe', -0.003854318500774114),\n",
       " ('region_name_East Asia and Oceania', 0.0007579795904743972),\n",
       " ('region_name_Europe and Eurasia', 0.0006304453262962308),\n",
       " ('region_name_Middle East and North Africa', -0.002778706565353945),\n",
       " ('region_name_South and Central Asia', 0.0010127093482525356),\n",
       " ('region_name_Sub-Saharan Africa', 0.0007121842897571869),\n",
       " ('region_name_Western Hemisphere', -0.00033461198942642356),\n",
       " ('Country_Income_Class', 0.00038042456252515425)]"
      ]
     },
     "execution_count": 56,
     "metadata": {},
     "output_type": "execute_result"
    }
   ],
   "source": [
    "ridge_model = RidgeCV(alphas = alphavec, cv=5)\n",
    "ridge_model.fit(X_train, y_train)\n",
    "\n",
    "list(zip(X_train.columns, ridge_model.coef_))"
   ]
  },
  {
   "cell_type": "code",
   "execution_count": 57,
   "metadata": {},
   "outputs": [
    {
     "data": {
      "text/plain": [
       "0.0332024649433732"
      ]
     },
     "execution_count": 57,
     "metadata": {},
     "output_type": "execute_result"
    }
   ],
   "source": [
    "# Make predictions on the test set using the model\n",
    "test_set_pred = ridge_model.predict(X_test)\n",
    "\n",
    "# Evaluation:\n",
    "r2_score(y_test, test_set_pred)"
   ]
  },
  {
   "cell_type": "code",
   "execution_count": 58,
   "metadata": {},
   "outputs": [
    {
     "data": {
      "text/plain": [
       "0.006107889315318491"
      ]
     },
     "execution_count": 58,
     "metadata": {},
     "output_type": "execute_result"
    }
   ],
   "source": [
    "rmse(y_test, test_set_pred)"
   ]
  },
  {
   "cell_type": "markdown",
   "metadata": {},
   "source": [
    "## XGBoost"
   ]
  },
  {
   "cell_type": "code",
   "execution_count": 59,
   "metadata": {},
   "outputs": [],
   "source": [
    "import xgboost as xgb"
   ]
  },
  {
   "cell_type": "code",
   "execution_count": 60,
   "metadata": {},
   "outputs": [],
   "source": [
    "#gsc1 = GridSearchCV(estimator=xgb.XGBRegressor(), \n",
    "#                   param_grid={\n",
    "#                       'max_depth': range(3,8), \n",
    "#                       'n_estimators': (10, 50, 100, 1000), \n",
    "#                       'min_child_weight': [1, 5, 10], \n",
    "#                       'gamma': [0.5, 1, 1.5, 2, 5], \n",
    "#                       'subsample': [0.6, 0.8, 1.0], \n",
    "#                       'colsample_bytree': [0.6, 0.8, 1.0]}, \n",
    "#                   scoring='neg_mean_squared_error', verbose=1, n_jobs=-1, cv=3)\n",
    "\n",
    "#grid_result = gsc1.fit(X_train, y_train)\n",
    "#best_params = grid_result.best_params_\n",
    "#gsc1.grid_scores_, gsc1.best_params_, gsc1.best_score_"
   ]
  },
  {
   "cell_type": "code",
   "execution_count": 62,
   "metadata": {},
   "outputs": [],
   "source": [
    "#gsc1.best_params_"
   ]
  },
  {
   "cell_type": "code",
   "execution_count": 63,
   "metadata": {},
   "outputs": [],
   "source": [
    "#{'colsample_bytree': 0.6,\n",
    "# 'gamma': 0.5,\n",
    "# 'max_depth': 3,\n",
    "# 'min_child_weight': 1,\n",
    "# 'n_estimators': 100,\n",
    "# 'subsample': 0.6}"
   ]
  },
  {
   "cell_type": "code",
   "execution_count": null,
   "metadata": {},
   "outputs": [],
   "source": []
  },
  {
   "cell_type": "code",
   "execution_count": 86,
   "metadata": {},
   "outputs": [],
   "source": [
    "gbm = xgb.XGBRegressor(n_estimators=100, #arbitrary large number\n",
    "                       max_depth=8,\n",
    "                       objective=\"reg:squarederror\",\n",
    "                       learning_rate=0.1, \n",
    "                       subsample=0.6,\n",
    "                       min_child_weight=1,\n",
    "                       colsample_bytree=0.6)\n",
    "\n",
    "#"
   ]
  },
  {
   "cell_type": "code",
   "execution_count": 87,
   "metadata": {},
   "outputs": [
    {
     "name": "stdout",
     "output_type": "stream",
     "text": [
      "[0]\tvalidation_0-rmse:0.445045\tvalidation_1-rmse:0.444838\n",
      "Multiple eval metrics have been passed: 'validation_1-rmse' will be used for early stopping.\n",
      "\n",
      "Will train until validation_1-rmse hasn't improved in 20 rounds.\n",
      "[1]\tvalidation_0-rmse:0.400609\tvalidation_1-rmse:0.400401\n",
      "[2]\tvalidation_0-rmse:0.360614\tvalidation_1-rmse:0.360403\n",
      "[3]\tvalidation_0-rmse:0.324588\tvalidation_1-rmse:0.324375\n",
      "[4]\tvalidation_0-rmse:0.292164\tvalidation_1-rmse:0.291949\n",
      "[5]\tvalidation_0-rmse:0.262978\tvalidation_1-rmse:0.262761\n",
      "[6]\tvalidation_0-rmse:0.236747\tvalidation_1-rmse:0.236527\n",
      "[7]\tvalidation_0-rmse:0.21311\tvalidation_1-rmse:0.212886\n",
      "[8]\tvalidation_0-rmse:0.191843\tvalidation_1-rmse:0.191615\n",
      "[9]\tvalidation_0-rmse:0.172693\tvalidation_1-rmse:0.172461\n",
      "[10]\tvalidation_0-rmse:0.155476\tvalidation_1-rmse:0.15524\n",
      "[11]\tvalidation_0-rmse:0.139976\tvalidation_1-rmse:0.139734\n",
      "[12]\tvalidation_0-rmse:0.126004\tvalidation_1-rmse:0.125757\n",
      "[13]\tvalidation_0-rmse:0.113439\tvalidation_1-rmse:0.113185\n",
      "[14]\tvalidation_0-rmse:0.102131\tvalidation_1-rmse:0.10187\n",
      "[15]\tvalidation_0-rmse:0.091959\tvalidation_1-rmse:0.09169\n",
      "[16]\tvalidation_0-rmse:0.082821\tvalidation_1-rmse:0.082544\n",
      "[17]\tvalidation_0-rmse:0.074611\tvalidation_1-rmse:0.074325\n"
     ]
    },
    {
     "name": "stderr",
     "output_type": "stream",
     "text": [
      "/anaconda3/lib/python3.7/site-packages/xgboost/core.py:587: FutureWarning: Series.base is deprecated and will be removed in a future version\n",
      "  if getattr(data, 'base', None) is not None and \\\n"
     ]
    },
    {
     "name": "stdout",
     "output_type": "stream",
     "text": [
      "[18]\tvalidation_0-rmse:0.067243\tvalidation_1-rmse:0.066946\n",
      "[19]\tvalidation_0-rmse:0.060609\tvalidation_1-rmse:0.0603\n",
      "[20]\tvalidation_0-rmse:0.054626\tvalidation_1-rmse:0.054304\n",
      "[21]\tvalidation_0-rmse:0.049249\tvalidation_1-rmse:0.048913\n",
      "[22]\tvalidation_0-rmse:0.044417\tvalidation_1-rmse:0.044066\n",
      "[23]\tvalidation_0-rmse:0.040053\tvalidation_1-rmse:0.039684\n",
      "[24]\tvalidation_0-rmse:0.036154\tvalidation_1-rmse:0.035853\n",
      "[25]\tvalidation_0-rmse:0.032629\tvalidation_1-rmse:0.032409\n",
      "[26]\tvalidation_0-rmse:0.0295\tvalidation_1-rmse:0.029257\n",
      "[27]\tvalidation_0-rmse:0.026683\tvalidation_1-rmse:0.026415\n",
      "[28]\tvalidation_0-rmse:0.024152\tvalidation_1-rmse:0.023857\n",
      "[29]\tvalidation_0-rmse:0.021884\tvalidation_1-rmse:0.02156\n",
      "[30]\tvalidation_0-rmse:0.01988\tvalidation_1-rmse:0.019537\n",
      "[31]\tvalidation_0-rmse:0.018088\tvalidation_1-rmse:0.017847\n",
      "[32]\tvalidation_0-rmse:0.0165\tvalidation_1-rmse:0.016389\n",
      "[33]\tvalidation_0-rmse:0.015061\tvalidation_1-rmse:0.014994\n",
      "[34]\tvalidation_0-rmse:0.013782\tvalidation_1-rmse:0.013741\n",
      "[35]\tvalidation_0-rmse:0.012615\tvalidation_1-rmse:0.012698\n",
      "[36]\tvalidation_0-rmse:0.011617\tvalidation_1-rmse:0.011861\n",
      "[37]\tvalidation_0-rmse:0.010696\tvalidation_1-rmse:0.011413\n",
      "[38]\tvalidation_0-rmse:0.009908\tvalidation_1-rmse:0.010643\n",
      "[39]\tvalidation_0-rmse:0.0092\tvalidation_1-rmse:0.010259\n",
      "[40]\tvalidation_0-rmse:0.008553\tvalidation_1-rmse:0.009657\n",
      "[41]\tvalidation_0-rmse:0.008023\tvalidation_1-rmse:0.00882\n",
      "[42]\tvalidation_0-rmse:0.007536\tvalidation_1-rmse:0.008435\n",
      "[43]\tvalidation_0-rmse:0.007106\tvalidation_1-rmse:0.008173\n",
      "[44]\tvalidation_0-rmse:0.006764\tvalidation_1-rmse:0.007752\n",
      "[45]\tvalidation_0-rmse:0.006402\tvalidation_1-rmse:0.007537\n",
      "[46]\tvalidation_0-rmse:0.006122\tvalidation_1-rmse:0.007455\n",
      "[47]\tvalidation_0-rmse:0.005887\tvalidation_1-rmse:0.007185\n",
      "[48]\tvalidation_0-rmse:0.005619\tvalidation_1-rmse:0.007034\n",
      "[49]\tvalidation_0-rmse:0.005448\tvalidation_1-rmse:0.006896\n",
      "[50]\tvalidation_0-rmse:0.005266\tvalidation_1-rmse:0.006753\n",
      "[51]\tvalidation_0-rmse:0.005122\tvalidation_1-rmse:0.006599\n",
      "[52]\tvalidation_0-rmse:0.004965\tvalidation_1-rmse:0.006408\n",
      "[53]\tvalidation_0-rmse:0.004837\tvalidation_1-rmse:0.006556\n",
      "[54]\tvalidation_0-rmse:0.004734\tvalidation_1-rmse:0.006434\n",
      "[55]\tvalidation_0-rmse:0.00463\tvalidation_1-rmse:0.006382\n",
      "[56]\tvalidation_0-rmse:0.00454\tvalidation_1-rmse:0.006309\n",
      "[57]\tvalidation_0-rmse:0.004449\tvalidation_1-rmse:0.006179\n",
      "[58]\tvalidation_0-rmse:0.004382\tvalidation_1-rmse:0.006116\n",
      "[59]\tvalidation_0-rmse:0.004327\tvalidation_1-rmse:0.006083\n",
      "[60]\tvalidation_0-rmse:0.004245\tvalidation_1-rmse:0.005979\n",
      "[61]\tvalidation_0-rmse:0.004187\tvalidation_1-rmse:0.005959\n",
      "[62]\tvalidation_0-rmse:0.004128\tvalidation_1-rmse:0.005973\n",
      "[63]\tvalidation_0-rmse:0.004072\tvalidation_1-rmse:0.005901\n",
      "[64]\tvalidation_0-rmse:0.004032\tvalidation_1-rmse:0.005869\n",
      "[65]\tvalidation_0-rmse:0.003962\tvalidation_1-rmse:0.005847\n",
      "[66]\tvalidation_0-rmse:0.003921\tvalidation_1-rmse:0.005835\n",
      "[67]\tvalidation_0-rmse:0.003885\tvalidation_1-rmse:0.005825\n",
      "[68]\tvalidation_0-rmse:0.003855\tvalidation_1-rmse:0.005836\n",
      "[69]\tvalidation_0-rmse:0.003822\tvalidation_1-rmse:0.005791\n",
      "[70]\tvalidation_0-rmse:0.003747\tvalidation_1-rmse:0.005814\n",
      "[71]\tvalidation_0-rmse:0.003721\tvalidation_1-rmse:0.005908\n",
      "[72]\tvalidation_0-rmse:0.003695\tvalidation_1-rmse:0.005881\n",
      "[73]\tvalidation_0-rmse:0.003675\tvalidation_1-rmse:0.005862\n",
      "[74]\tvalidation_0-rmse:0.003634\tvalidation_1-rmse:0.005821\n",
      "[75]\tvalidation_0-rmse:0.003613\tvalidation_1-rmse:0.005811\n",
      "[76]\tvalidation_0-rmse:0.003594\tvalidation_1-rmse:0.005807\n",
      "[77]\tvalidation_0-rmse:0.003581\tvalidation_1-rmse:0.005804\n",
      "[78]\tvalidation_0-rmse:0.003566\tvalidation_1-rmse:0.005771\n",
      "[79]\tvalidation_0-rmse:0.003542\tvalidation_1-rmse:0.005772\n",
      "[80]\tvalidation_0-rmse:0.003519\tvalidation_1-rmse:0.005771\n",
      "[81]\tvalidation_0-rmse:0.003501\tvalidation_1-rmse:0.00576\n",
      "[82]\tvalidation_0-rmse:0.00348\tvalidation_1-rmse:0.00578\n",
      "[83]\tvalidation_0-rmse:0.003455\tvalidation_1-rmse:0.005795\n",
      "[84]\tvalidation_0-rmse:0.003416\tvalidation_1-rmse:0.005792\n",
      "[85]\tvalidation_0-rmse:0.003384\tvalidation_1-rmse:0.005779\n",
      "[86]\tvalidation_0-rmse:0.003353\tvalidation_1-rmse:0.0058\n",
      "[87]\tvalidation_0-rmse:0.003343\tvalidation_1-rmse:0.005806\n",
      "[88]\tvalidation_0-rmse:0.003303\tvalidation_1-rmse:0.005811\n",
      "[89]\tvalidation_0-rmse:0.003293\tvalidation_1-rmse:0.005809\n",
      "[90]\tvalidation_0-rmse:0.003265\tvalidation_1-rmse:0.0058\n",
      "[91]\tvalidation_0-rmse:0.003251\tvalidation_1-rmse:0.005807\n",
      "[92]\tvalidation_0-rmse:0.003235\tvalidation_1-rmse:0.005803\n",
      "[93]\tvalidation_0-rmse:0.003206\tvalidation_1-rmse:0.005821\n",
      "[94]\tvalidation_0-rmse:0.00318\tvalidation_1-rmse:0.00583\n",
      "[95]\tvalidation_0-rmse:0.003166\tvalidation_1-rmse:0.005784\n",
      "[96]\tvalidation_0-rmse:0.003149\tvalidation_1-rmse:0.005804\n",
      "[97]\tvalidation_0-rmse:0.003133\tvalidation_1-rmse:0.005824\n",
      "[98]\tvalidation_0-rmse:0.0031\tvalidation_1-rmse:0.005826\n",
      "[99]\tvalidation_0-rmse:0.003077\tvalidation_1-rmse:0.00582\n"
     ]
    }
   ],
   "source": [
    "eval_set=[(X_train, y_train),(X_val, y_val)] #tracking train/validation error as we go\n",
    "fit_model = gbm.fit(X_train, y_train, \n",
    "                    eval_set=eval_set, \n",
    "                    eval_metric='rmse', \n",
    "                    early_stopping_rounds=20, \n",
    "                    verbose=True)\n"
   ]
  },
  {
   "cell_type": "code",
   "execution_count": 88,
   "metadata": {},
   "outputs": [],
   "source": [
    "fit_model_pred = fit_model.predict(X_test)"
   ]
  },
  {
   "cell_type": "code",
   "execution_count": 89,
   "metadata": {
    "scrolled": true
   },
   "outputs": [
    {
     "data": {
      "text/plain": [
       "0.005723237190218276"
      ]
     },
     "execution_count": 89,
     "metadata": {},
     "output_type": "execute_result"
    }
   ],
   "source": [
    "rmse(y_test, fit_model_pred)"
   ]
  },
  {
   "cell_type": "code",
   "execution_count": 90,
   "metadata": {
    "scrolled": true
   },
   "outputs": [
    {
     "data": {
      "text/plain": [
       "0.15113875229900142"
      ]
     },
     "execution_count": 90,
     "metadata": {},
     "output_type": "execute_result"
    }
   ],
   "source": [
    "r2_score(y_test, fit_model_pred)"
   ]
  },
  {
   "cell_type": "code",
   "execution_count": 91,
   "metadata": {},
   "outputs": [
    {
     "data": {
      "text/plain": [
       "[('Agriculture', 0.0073186294),\n",
       " ('Commodity Assistance', 0.004753182),\n",
       " ('Economic Growth', 0.006636131),\n",
       " ('Education', 0.005398021),\n",
       " ('Governance', 0.0040080184),\n",
       " ('Health and Population', 0.008488631),\n",
       " ('Humanitarian', 0.005823913),\n",
       " ('Infrastructure', 0.005893361),\n",
       " ('Department of Agriculture', 0.0065897475),\n",
       " ('Department of Defense', 0.009265622),\n",
       " ('Department of Energy', 0.011146137),\n",
       " ('Department of Health and Human Services', 0.0069893445),\n",
       " ('Department of Labor', 0.004236656),\n",
       " ('Department of State', 0.010609613),\n",
       " ('Department of the Army', 0.015968276),\n",
       " ('Department of the Treasury', 0.008911732),\n",
       " ('Millennium Challenge Corporation', 0.0060318713),\n",
       " ('Peace Corps', 0.005261975),\n",
       " ('Trade and Development Agency', 0.008277255),\n",
       " ('U.S. Agency for International Development', 0.011528913),\n",
       " ('country_name_Afghanistan', 0.0),\n",
       " ('country_name_Albania', 0.0101569155),\n",
       " ('country_name_Algeria', 0.014591737),\n",
       " ('country_name_Angola', 0.008194002),\n",
       " ('country_name_Argentina', 0.0014885223),\n",
       " ('country_name_Armenia', 0.00888791),\n",
       " ('country_name_Azerbaijan', 0.015330436),\n",
       " ('country_name_Bahamas', 0.0071123545),\n",
       " ('country_name_Bangladesh', 0.0021552907),\n",
       " ('country_name_Belarus', 0.006109779),\n",
       " ('country_name_Belize', 0.0),\n",
       " ('country_name_Benin', 0.0050815395),\n",
       " ('country_name_Bolivia', 0.0),\n",
       " ('country_name_Bosnia and Herzegovina', 0.0061925557),\n",
       " ('country_name_Botswana', 0.011180712),\n",
       " ('country_name_Brazil', 0.0052082264),\n",
       " ('country_name_Bulgaria', 0.0010492639),\n",
       " ('country_name_Burkina Faso', 0.0057308218),\n",
       " ('country_name_Burma (Myanmar)', 0.004183088),\n",
       " ('country_name_Burundi', 0.012373894),\n",
       " ('country_name_Cabo Verde', 0.006719383),\n",
       " ('country_name_Cambodia', 0.017334798),\n",
       " ('country_name_Cameroon', 0.0),\n",
       " ('country_name_Central African Republic', 0.0),\n",
       " ('country_name_Chad', 0.0),\n",
       " ('country_name_Chile', 0.0),\n",
       " ('country_name_China (P.R.C.)', 0.0074512684),\n",
       " ('country_name_Colombia', 0.0016888301),\n",
       " ('country_name_Congo (Brazzaville)', 0.009788315),\n",
       " ('country_name_Congo (Kinshasa)', 0.00086326286),\n",
       " ('country_name_Costa Rica', 0.0),\n",
       " (\"country_name_Cote d'Ivoire\", 0.0003844668),\n",
       " ('country_name_Croatia', 0.0),\n",
       " ('country_name_Cuba', 0.015032925),\n",
       " ('country_name_Czechia', 0.0),\n",
       " ('country_name_Djibouti', 0.0077031725),\n",
       " ('country_name_Dominican Republic', 0.0029563238),\n",
       " ('country_name_Ecuador', 0.0049178936),\n",
       " ('country_name_Egypt', 0.004831855),\n",
       " ('country_name_El Salvador', 0.008343305),\n",
       " ('country_name_Eritrea', 0.0),\n",
       " ('country_name_Estonia', 0.0),\n",
       " ('country_name_Eswatini', 0.0018554195),\n",
       " ('country_name_Ethiopia', 0.016937368),\n",
       " ('country_name_Fiji', 0.0),\n",
       " ('country_name_Gambia', 0.0),\n",
       " ('country_name_Georgia', 0.0),\n",
       " ('country_name_Ghana', 0.0056663696),\n",
       " ('country_name_Greece', 0.0),\n",
       " ('country_name_Guatemala', 0.012501897),\n",
       " ('country_name_Guinea', 0.017544568),\n",
       " ('country_name_Guinea-Bissau', 0.0),\n",
       " ('country_name_Guyana', 0.0068300455),\n",
       " ('country_name_Haiti', 0.0035939517),\n",
       " ('country_name_Honduras', 0.0032216804),\n",
       " ('country_name_Hungary', 0.0),\n",
       " ('country_name_India', 0.0045479056),\n",
       " ('country_name_Indonesia', 0.0010472361),\n",
       " ('country_name_Iran', 0.0),\n",
       " ('country_name_Iraq', 0.0066944817),\n",
       " ('country_name_Israel', 0.0030854184),\n",
       " ('country_name_Jamaica', 0.004120106),\n",
       " ('country_name_Jordan', 0.0021206334),\n",
       " ('country_name_Kazakhstan', 0.007107691),\n",
       " ('country_name_Kenya', 0.003725329),\n",
       " ('country_name_Kyrgyzstan', 0.0022960017),\n",
       " ('country_name_Laos', 0.0),\n",
       " ('country_name_Latvia', 0.0060140076),\n",
       " ('country_name_Lebanon', 0.0061316043),\n",
       " ('country_name_Lesotho', 0.003074211),\n",
       " ('country_name_Liberia', 0.034697566),\n",
       " ('country_name_Libya', 0.038194068),\n",
       " ('country_name_Lithuania', 0.006457859),\n",
       " ('country_name_Madagascar', 0.0069031315),\n",
       " ('country_name_Malawi', 0.019637404),\n",
       " ('country_name_Malaysia', 0.0016936747),\n",
       " ('country_name_Maldives', 0.0),\n",
       " ('country_name_Mali', 0.0076498236),\n",
       " ('country_name_Mauritania', 0.005720709),\n",
       " ('country_name_Mexico', 0.0009296192),\n",
       " ('country_name_Micronesia (Federated States)', 0.0),\n",
       " ('country_name_Moldova', 0.0030618608),\n",
       " ('country_name_Mongolia', 0.01082744),\n",
       " ('country_name_Montenegro', 0.004183117),\n",
       " ('country_name_Morocco', 0.0026539867),\n",
       " ('country_name_Mozambique', 0.004387412),\n",
       " ('country_name_Namibia', 0.006900425),\n",
       " ('country_name_Nepal', 0.0),\n",
       " ('country_name_Nicaragua', 0.0022086673),\n",
       " ('country_name_Niger', 0.00376706),\n",
       " ('country_name_Nigeria', 0.009332162),\n",
       " ('country_name_North Macedonia', 0.0035761183),\n",
       " ('country_name_Oman', 0.0),\n",
       " ('country_name_Pakistan', 0.0044647404),\n",
       " ('country_name_Panama', 0.0),\n",
       " ('country_name_Papua New Guinea', 0.0031974125),\n",
       " ('country_name_Paraguay', 0.010124711),\n",
       " ('country_name_Peru', 0.0071766707),\n",
       " ('country_name_Philippines', 0.0045297258),\n",
       " ('country_name_Poland', 0.006041064),\n",
       " ('country_name_Romania', 0.0082362145),\n",
       " ('country_name_Russia', 0.004532805),\n",
       " ('country_name_Rwanda', 0.016474491),\n",
       " ('country_name_Samoa', 0.0),\n",
       " ('country_name_Senegal', 0.004829523),\n",
       " ('country_name_Serbia', 0.0072503663),\n",
       " ('country_name_Sierra Leone', 0.009528557),\n",
       " ('country_name_Slovak Republic', 0.0036917394),\n",
       " ('country_name_Slovenia', 0.0),\n",
       " ('country_name_South Africa', 0.014027687),\n",
       " ('country_name_South Sudan', 0.021055039),\n",
       " ('country_name_Sri Lanka', 0.00035597067),\n",
       " ('country_name_Sudan', 0.01029312),\n",
       " ('country_name_Suriname', 0.0),\n",
       " ('country_name_Syria', 0.008871765),\n",
       " ('country_name_Tajikistan', 0.0015035716),\n",
       " ('country_name_Tanzania', 0.0),\n",
       " ('country_name_Thailand', 0.0047659483),\n",
       " ('country_name_Timor-Leste', 0.02437425),\n",
       " ('country_name_Togo', 0.0),\n",
       " ('country_name_Tunisia', 0.0),\n",
       " ('country_name_Turkey', 0.010298768),\n",
       " ('country_name_Turkmenistan', 0.0),\n",
       " ('country_name_Uganda', 0.012019003),\n",
       " ('country_name_Ukraine', 0.0060294885),\n",
       " ('country_name_United Arab Emirates', 0.0),\n",
       " ('country_name_Uzbekistan', 0.0030154833),\n",
       " ('country_name_Vanuatu', 0.0),\n",
       " ('country_name_Venezuela', 0.012897076),\n",
       " ('country_name_Vietnam', 0.0034242622),\n",
       " ('country_name_West Bank/Gaza', 0.008820635),\n",
       " ('country_name_Yemen', 0.014653869),\n",
       " ('country_name_Zambia', 0.006417472),\n",
       " ('country_name_Zimbabwe', 0.012772786),\n",
       " ('region_name_East Asia and Oceania', 0.005551216),\n",
       " ('region_name_Europe and Eurasia', 0.006725649),\n",
       " ('region_name_Middle East and North Africa', 0.034597185),\n",
       " ('region_name_South and Central Asia', 0.0038002077),\n",
       " ('region_name_Sub-Saharan Africa', 0.009003389),\n",
       " ('region_name_Western Hemisphere', 0.009588153),\n",
       " ('Country_Income_Class', 0.007982079)]"
      ]
     },
     "execution_count": 91,
     "metadata": {},
     "output_type": "execute_result"
    }
   ],
   "source": [
    "list(zip(X_train.columns, fit_model.feature_importances_))"
   ]
  },
  {
   "cell_type": "code",
   "execution_count": 92,
   "metadata": {},
   "outputs": [],
   "source": [
    "#feat_imp = pd.Series(fit_model.booster().get_fscore()).sort_values(ascending=False)\n",
    "#feat_imp.plot(kind='bar', title='Feature Importances')\n",
    "#plt.ylabel('Feature Importance Score')"
   ]
  },
  {
   "cell_type": "code",
   "execution_count": null,
   "metadata": {},
   "outputs": [],
   "source": [
    "#To tune, we should use validation results and ignore test until \n",
    "#final verification. So here's the validation error benchmark we want to beat:\n",
    "#rmse(gbm.predict(X_val, ntree_limit=gbm.best_ntree_limit),y_val) "
   ]
  },
  {
   "cell_type": "code",
   "execution_count": null,
   "metadata": {},
   "outputs": [],
   "source": []
  },
  {
   "cell_type": "code",
   "execution_count": null,
   "metadata": {},
   "outputs": [],
   "source": []
  },
  {
   "cell_type": "code",
   "execution_count": null,
   "metadata": {},
   "outputs": [],
   "source": []
  },
  {
   "cell_type": "code",
   "execution_count": null,
   "metadata": {},
   "outputs": [],
   "source": []
  },
  {
   "cell_type": "code",
   "execution_count": null,
   "metadata": {},
   "outputs": [],
   "source": []
  },
  {
   "cell_type": "code",
   "execution_count": null,
   "metadata": {},
   "outputs": [],
   "source": []
  },
  {
   "cell_type": "code",
   "execution_count": null,
   "metadata": {},
   "outputs": [],
   "source": []
  },
  {
   "cell_type": "code",
   "execution_count": null,
   "metadata": {},
   "outputs": [],
   "source": []
  },
  {
   "cell_type": "code",
   "execution_count": null,
   "metadata": {},
   "outputs": [],
   "source": []
  },
  {
   "cell_type": "code",
   "execution_count": null,
   "metadata": {},
   "outputs": [],
   "source": []
  },
  {
   "cell_type": "code",
   "execution_count": null,
   "metadata": {},
   "outputs": [],
   "source": []
  },
  {
   "cell_type": "code",
   "execution_count": null,
   "metadata": {},
   "outputs": [],
   "source": []
  },
  {
   "cell_type": "code",
   "execution_count": null,
   "metadata": {},
   "outputs": [],
   "source": []
  },
  {
   "cell_type": "code",
   "execution_count": null,
   "metadata": {},
   "outputs": [],
   "source": []
  },
  {
   "cell_type": "code",
   "execution_count": null,
   "metadata": {},
   "outputs": [],
   "source": []
  },
  {
   "cell_type": "code",
   "execution_count": null,
   "metadata": {},
   "outputs": [],
   "source": []
  },
  {
   "cell_type": "code",
   "execution_count": null,
   "metadata": {},
   "outputs": [],
   "source": []
  }
 ],
 "metadata": {
  "kernelspec": {
   "display_name": "Python 3",
   "language": "python",
   "name": "python3"
  },
  "language_info": {
   "codemirror_mode": {
    "name": "ipython",
    "version": 3
   },
   "file_extension": ".py",
   "mimetype": "text/x-python",
   "name": "python",
   "nbconvert_exporter": "python",
   "pygments_lexer": "ipython3",
   "version": "3.7.2"
  }
 },
 "nbformat": 4,
 "nbformat_minor": 2
}
