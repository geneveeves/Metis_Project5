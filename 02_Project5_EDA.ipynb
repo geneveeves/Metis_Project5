{
 "cells": [
  {
   "cell_type": "code",
   "execution_count": 1,
   "metadata": {},
   "outputs": [],
   "source": [
    "import numpy as np\n",
    "import pandas as pd"
   ]
  },
  {
   "cell_type": "code",
   "execution_count": 2,
   "metadata": {},
   "outputs": [],
   "source": [
    "# Read in USAID data pickle\n",
    "df = pd.read_pickle('./usaid_data.pkl')"
   ]
  },
  {
   "cell_type": "code",
   "execution_count": 3,
   "metadata": {},
   "outputs": [
    {
     "data": {
      "text/html": [
       "<div>\n",
       "<style scoped>\n",
       "    .dataframe tbody tr th:only-of-type {\n",
       "        vertical-align: middle;\n",
       "    }\n",
       "\n",
       "    .dataframe tbody tr th {\n",
       "        vertical-align: top;\n",
       "    }\n",
       "\n",
       "    .dataframe thead th {\n",
       "        text-align: right;\n",
       "    }\n",
       "</style>\n",
       "<table border=\"1\" class=\"dataframe\">\n",
       "  <thead>\n",
       "    <tr style=\"text-align: right;\">\n",
       "      <th></th>\n",
       "      <th>country_name</th>\n",
       "      <th>region_name</th>\n",
       "      <th>income_group_name</th>\n",
       "      <th>implementing_agency_name</th>\n",
       "      <th>channel_category_name</th>\n",
       "      <th>channel_name</th>\n",
       "      <th>dac_category_name</th>\n",
       "      <th>dac_sector_name</th>\n",
       "      <th>dac_purpose_name</th>\n",
       "      <th>funding_account_name</th>\n",
       "      <th>funding_agency_name</th>\n",
       "      <th>assistance_category_name</th>\n",
       "      <th>activity_name</th>\n",
       "      <th>transaction_type_name</th>\n",
       "      <th>fiscal_year</th>\n",
       "      <th>current_amount</th>\n",
       "      <th>constant_amount</th>\n",
       "      <th>USG_sector_name</th>\n",
       "    </tr>\n",
       "  </thead>\n",
       "  <tbody>\n",
       "    <tr>\n",
       "      <th>0</th>\n",
       "      <td>Afghanistan</td>\n",
       "      <td>South and Central Asia</td>\n",
       "      <td>Low Income Country</td>\n",
       "      <td>Department of Defense</td>\n",
       "      <td>Government</td>\n",
       "      <td>U.S. Government - Department of Defense</td>\n",
       "      <td>Governance</td>\n",
       "      <td>Conflict, Peace, and Security</td>\n",
       "      <td>Security system management and reform</td>\n",
       "      <td>Department of the Army, Afghanistan Security F...</td>\n",
       "      <td>Department of the Army</td>\n",
       "      <td>Military</td>\n",
       "      <td>Afghanistan Security Force Fund</td>\n",
       "      <td>Obligations</td>\n",
       "      <td>2011</td>\n",
       "      <td>9941000000</td>\n",
       "      <td>10914528417</td>\n",
       "      <td>Stabilization Operations and Security Sector R...</td>\n",
       "    </tr>\n",
       "    <tr>\n",
       "      <th>1</th>\n",
       "      <td>Afghanistan</td>\n",
       "      <td>South and Central Asia</td>\n",
       "      <td>Low Income Country</td>\n",
       "      <td>Department of Defense</td>\n",
       "      <td>Government</td>\n",
       "      <td>U.S. Government - Department of Defense</td>\n",
       "      <td>Governance</td>\n",
       "      <td>Conflict, Peace, and Security</td>\n",
       "      <td>Security system management and reform</td>\n",
       "      <td>Department of the Army, Afghanistan Security F...</td>\n",
       "      <td>Department of the Army</td>\n",
       "      <td>Military</td>\n",
       "      <td>Afghanistan Security Force Fund</td>\n",
       "      <td>Obligations</td>\n",
       "      <td>2012</td>\n",
       "      <td>9243000000</td>\n",
       "      <td>9966142830</td>\n",
       "      <td>Stabilization Operations and Security Sector R...</td>\n",
       "    </tr>\n",
       "    <tr>\n",
       "      <th>2</th>\n",
       "      <td>Afghanistan</td>\n",
       "      <td>South and Central Asia</td>\n",
       "      <td>Low Income Country</td>\n",
       "      <td>Department of Defense</td>\n",
       "      <td>Government</td>\n",
       "      <td>U.S. Government - Department of Defense</td>\n",
       "      <td>Governance</td>\n",
       "      <td>Conflict, Peace, and Security</td>\n",
       "      <td>Security system management and reform</td>\n",
       "      <td>Department of the Army, Afghanistan Security F...</td>\n",
       "      <td>Department of the Army</td>\n",
       "      <td>Military</td>\n",
       "      <td>Afghanistan Security Force Fund</td>\n",
       "      <td>Disbursements</td>\n",
       "      <td>2011</td>\n",
       "      <td>7840175215</td>\n",
       "      <td>8607968532</td>\n",
       "      <td>Stabilization Operations and Security Sector R...</td>\n",
       "    </tr>\n",
       "    <tr>\n",
       "      <th>3</th>\n",
       "      <td>Afghanistan</td>\n",
       "      <td>South and Central Asia</td>\n",
       "      <td>Low Income Country</td>\n",
       "      <td>Department of Defense</td>\n",
       "      <td>Government</td>\n",
       "      <td>U.S. Government - Department of Defense</td>\n",
       "      <td>Governance</td>\n",
       "      <td>Conflict, Peace, and Security</td>\n",
       "      <td>Security system management and reform</td>\n",
       "      <td>Department of the Army, Afghanistan Security F...</td>\n",
       "      <td>Department of the Army</td>\n",
       "      <td>Military</td>\n",
       "      <td>Afghanistan Security Force Fund</td>\n",
       "      <td>Disbursements</td>\n",
       "      <td>2013</td>\n",
       "      <td>7764310985</td>\n",
       "      <td>8232733951</td>\n",
       "      <td>Stabilization Operations and Security Sector R...</td>\n",
       "    </tr>\n",
       "    <tr>\n",
       "      <th>4</th>\n",
       "      <td>Afghanistan</td>\n",
       "      <td>South and Central Asia</td>\n",
       "      <td>Low Income Country</td>\n",
       "      <td>Department of Defense</td>\n",
       "      <td>Government</td>\n",
       "      <td>U.S. Government - Department of Defense</td>\n",
       "      <td>Governance</td>\n",
       "      <td>Conflict, Peace, and Security</td>\n",
       "      <td>Security system management and reform</td>\n",
       "      <td>Department of the Army, Afghanistan Security F...</td>\n",
       "      <td>Department of the Army</td>\n",
       "      <td>Military</td>\n",
       "      <td>Afghanistan Security Force Fund</td>\n",
       "      <td>Obligations</td>\n",
       "      <td>2013</td>\n",
       "      <td>6928000000</td>\n",
       "      <td>7345968099</td>\n",
       "      <td>Stabilization Operations and Security Sector R...</td>\n",
       "    </tr>\n",
       "  </tbody>\n",
       "</table>\n",
       "</div>"
      ],
      "text/plain": [
       "  country_name             region_name   income_group_name  \\\n",
       "0  Afghanistan  South and Central Asia  Low Income Country   \n",
       "1  Afghanistan  South and Central Asia  Low Income Country   \n",
       "2  Afghanistan  South and Central Asia  Low Income Country   \n",
       "3  Afghanistan  South and Central Asia  Low Income Country   \n",
       "4  Afghanistan  South and Central Asia  Low Income Country   \n",
       "\n",
       "  implementing_agency_name channel_category_name  \\\n",
       "0    Department of Defense            Government   \n",
       "1    Department of Defense            Government   \n",
       "2    Department of Defense            Government   \n",
       "3    Department of Defense            Government   \n",
       "4    Department of Defense            Government   \n",
       "\n",
       "                              channel_name dac_category_name  \\\n",
       "0  U.S. Government - Department of Defense        Governance   \n",
       "1  U.S. Government - Department of Defense        Governance   \n",
       "2  U.S. Government - Department of Defense        Governance   \n",
       "3  U.S. Government - Department of Defense        Governance   \n",
       "4  U.S. Government - Department of Defense        Governance   \n",
       "\n",
       "                 dac_sector_name                       dac_purpose_name  \\\n",
       "0  Conflict, Peace, and Security  Security system management and reform   \n",
       "1  Conflict, Peace, and Security  Security system management and reform   \n",
       "2  Conflict, Peace, and Security  Security system management and reform   \n",
       "3  Conflict, Peace, and Security  Security system management and reform   \n",
       "4  Conflict, Peace, and Security  Security system management and reform   \n",
       "\n",
       "                                funding_account_name     funding_agency_name  \\\n",
       "0  Department of the Army, Afghanistan Security F...  Department of the Army   \n",
       "1  Department of the Army, Afghanistan Security F...  Department of the Army   \n",
       "2  Department of the Army, Afghanistan Security F...  Department of the Army   \n",
       "3  Department of the Army, Afghanistan Security F...  Department of the Army   \n",
       "4  Department of the Army, Afghanistan Security F...  Department of the Army   \n",
       "\n",
       "  assistance_category_name                    activity_name  \\\n",
       "0                 Military  Afghanistan Security Force Fund   \n",
       "1                 Military  Afghanistan Security Force Fund   \n",
       "2                 Military  Afghanistan Security Force Fund   \n",
       "3                 Military  Afghanistan Security Force Fund   \n",
       "4                 Military  Afghanistan Security Force Fund   \n",
       "\n",
       "  transaction_type_name  fiscal_year  current_amount  constant_amount  \\\n",
       "0           Obligations         2011      9941000000      10914528417   \n",
       "1           Obligations         2012      9243000000       9966142830   \n",
       "2         Disbursements         2011      7840175215       8607968532   \n",
       "3         Disbursements         2013      7764310985       8232733951   \n",
       "4           Obligations         2013      6928000000       7345968099   \n",
       "\n",
       "                                     USG_sector_name  \n",
       "0  Stabilization Operations and Security Sector R...  \n",
       "1  Stabilization Operations and Security Sector R...  \n",
       "2  Stabilization Operations and Security Sector R...  \n",
       "3  Stabilization Operations and Security Sector R...  \n",
       "4  Stabilization Operations and Security Sector R...  "
      ]
     },
     "execution_count": 3,
     "metadata": {},
     "output_type": "execute_result"
    }
   ],
   "source": [
    "df.head()"
   ]
  },
  {
   "cell_type": "code",
   "execution_count": null,
   "metadata": {},
   "outputs": [],
   "source": [
    "# re: adding data\n",
    "# Should group data by year\n",
    "# then group by assistance_category_name (military vs. economic)\n",
    "# Possible to break up type of economic aid??\n",
    "\n",
    "\n",
    "# then add in GDP data, look into other development indicators"
   ]
  },
  {
   "cell_type": "code",
   "execution_count": null,
   "metadata": {},
   "outputs": [],
   "source": []
  },
  {
   "cell_type": "code",
   "execution_count": null,
   "metadata": {},
   "outputs": [],
   "source": [
    "# Take a look at which countries the US has given the most aid to from 1990-2019\n",
    "# Dollar amounts are in 2016 USD\n",
    "#df.groupby('country_name').sum().sort_values('constant_amount', ascending = False)['constant_amount']"
   ]
  },
  {
   "cell_type": "code",
   "execution_count": null,
   "metadata": {},
   "outputs": [],
   "source": [
    "#df.groupby('income_group_name').sum().sort_values('constant_amount', ascending = False)['constant_amount']"
   ]
  },
  {
   "cell_type": "code",
   "execution_count": null,
   "metadata": {},
   "outputs": [],
   "source": [
    "# High Income Countries the US has given aid to since 1990\n",
    "#df.loc[df['income_group_name'] == 'High Income Country']['country_name'].unique()"
   ]
  },
  {
   "cell_type": "code",
   "execution_count": null,
   "metadata": {},
   "outputs": [],
   "source": [
    "# What type of aid has the US given to High Income Countries? Would assume mostly military\n",
    "#df.loc[df['income_group_name'] == 'High Income Country']['dac_sector_name'].unique()"
   ]
  },
  {
   "cell_type": "code",
   "execution_count": null,
   "metadata": {},
   "outputs": [],
   "source": [
    "#df.dac_category_name.unique()"
   ]
  },
  {
   "cell_type": "code",
   "execution_count": null,
   "metadata": {},
   "outputs": [],
   "source": [
    "#df.dac_sector_name.unique()"
   ]
  },
  {
   "cell_type": "code",
   "execution_count": null,
   "metadata": {},
   "outputs": [],
   "source": [
    "#df.dac_purpose_name.unique()"
   ]
  },
  {
   "cell_type": "code",
   "execution_count": null,
   "metadata": {},
   "outputs": [],
   "source": [
    "#df.funding_account_name.unique()"
   ]
  },
  {
   "cell_type": "code",
   "execution_count": null,
   "metadata": {},
   "outputs": [],
   "source": [
    "#df.funding_agency_name.unique()"
   ]
  },
  {
   "cell_type": "code",
   "execution_count": null,
   "metadata": {},
   "outputs": [],
   "source": [
    "transaction_type_name\t"
   ]
  },
  {
   "cell_type": "code",
   "execution_count": null,
   "metadata": {},
   "outputs": [],
   "source": []
  },
  {
   "cell_type": "code",
   "execution_count": null,
   "metadata": {},
   "outputs": [],
   "source": []
  },
  {
   "cell_type": "code",
   "execution_count": null,
   "metadata": {},
   "outputs": [],
   "source": []
  },
  {
   "cell_type": "code",
   "execution_count": null,
   "metadata": {},
   "outputs": [],
   "source": []
  },
  {
   "cell_type": "code",
   "execution_count": null,
   "metadata": {},
   "outputs": [],
   "source": []
  }
 ],
 "metadata": {
  "kernelspec": {
   "display_name": "Python 3",
   "language": "python",
   "name": "python3"
  },
  "language_info": {
   "codemirror_mode": {
    "name": "ipython",
    "version": 3
   },
   "file_extension": ".py",
   "mimetype": "text/x-python",
   "name": "python",
   "nbconvert_exporter": "python",
   "pygments_lexer": "ipython3",
   "version": "3.7.2"
  }
 },
 "nbformat": 4,
 "nbformat_minor": 2
}
